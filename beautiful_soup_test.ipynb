{
 "cells": [
  {
   "cell_type": "code",
   "execution_count": 4,
   "metadata": {},
   "outputs": [],
   "source": [
    "import numpy as np\n",
    "import os\n",
    "from bs4 import BeautifulSoup"
   ]
  },
  {
   "attachments": {},
   "cell_type": "markdown",
   "metadata": {},
   "source": [
    "<p>Load the data:</p>"
   ]
  },
  {
   "cell_type": "code",
   "execution_count": 6,
   "metadata": {},
   "outputs": [
    {
     "name": "stdout",
     "output_type": "stream",
     "text": [
      "['<p>Herr talman! Jag måste tyvärr säga att jag tycker att ledamoten Sundin läser Tidöavtalet som fan läser Bibeln. Det finns en väldigt stark ambition från Moderaterna och de samarbetspartier som har skrivit under avtalet att vi ska fortsätta just den utveckling med en god och nära vård som jag tycker att ledamoten beskriver väl. Det är en ambition som vi brett över parti- och blockgränser har varit överens om. Vi vill att vården ska komma närmare patienterna. Vi vill att vården ska komma närmare dem som behöver vård och omsorg.</p><p>Vi har viktiga satsningar i Tidöavtalet på en förstärkt primärvård och på att bygga ut vården, inte minst på landsbygden, på att skapa förutsättningar för den samverkan som ledamoten var inne på, i form av till exempel en nationell digital infrastruktur, så att vi kan dela patientdata mellan olika vårdgivare och mellan kommuner och regioner.</p><p>Sedan, herr talman, är det, som jag var inne på i mitt anförande, för mig alldeles uppenbart att om vi ska klara av att adressera de stora regionala skillnaderna i vårdens kvalitet och i vårdutbud krävs ökad statlig styrning. Det kommer att krävas mer statligt ledarskap för att adressera dessa problem. Är inte ledamoten Sundin av samma uppfattning?</p>'\n",
      " '<p>Fru talman! Jag kommer att ställa samma fråga till Margareta Cederfelt som jag ställde till Markus Wiechel. På vilket sätt är det ett problem att Sverige har haft en feministisk utrikespolitik? På vilket sätt har feminismen gått för långt i världen? På vilket sätt har det motverkat svenska intressen? Den nya regeringen signalerar nu väldigt tydligt att man ska värna svenska intressen. Man drar sig tillbaka. Man värnar svenska intressen mer. Är det inte ett svenskt intresse att driva en feministisk utrikespolitik som stärker flickors och kvinnors rättigheter globalt?</p><p>Mycket med den här regeringsbildningen har tagit tid. Och reformer som har utlovats verkar dröja mest hela mandatperioden. Men det gick väldigt fort att skrota den feministiska utrikespolitiken. Om man googlar på det nu kan man inte längre hitta det på regeringens hemsida. Det var viktigt att få ut den signalen till omvärlden lika fort som det går att knäppa med fingrarna.</p>'\n",
      " '<p>Herr talman! Styrka och säkerhet - så stod det på sedlarna förr i världen. Jag tittade i morse, och jag tror inte att det står så längre, i varje fall inte på den hundralapp och tjugolapp som jag hade i plånboken.</p><p>Hinc robur et securitas - härav styrka och säkerhet. Detta kom till en gång för att det här med att kunna lita på pengar och på penningvärdet är en förutsättning för att man ska kunna utvecklas. Det är en förutsättning för att få en bra utveckling i ett samhälle, naturligtvis tillsammans med skydd för individens frihet, rättssäkerhet, skydd för tillgångar och liknande. Därför är det så oerhört viktigt med Riksbanken - den möjliggör för alla svenskar att vara kreativa och att arbeta långsiktigt och framåt.</p><p>Men det förutsätter att jag kan lita på den institution som står bakom. För handen på hjärtat - en papperslapp eller en liten plåtbit har inte alls det värde som står tryckt på den, utan värdet säkras av en institution som ligger bakom, en institution som vi måste kunna lita på, en riksbank. För att ta det ännu ett steg längre är det klart att en etta eller en nolla i ett datanätverk någonstans också behöver ha den institutionella garantin för att vara pålitlig. Därför tryckte man de här latinska orden om styrka och säkerhet på sedlarna en gång i tiden för att säga: Vi har tänkt igenom detta. Vi har ett system som garanterar värdet, ett värde som är centralt för att samhället ska fungera. Därför är också detta en grundlag.</p><p>Men i detta, herr talman, ligger naturligtvis också att vi måste följa med tiden. Vi har alltmer internationellt samarbete. Metallvärdena som en gång var internationella är kanske inte det fullt ut i dag. Men framför allt måste vi samarbeta med andra. Vi måste ha nya system för att säkra dessa tillgångar. Vi måste ha nya instrument. Vi måste alltså modernisera den grund för säkerhet som Riksbanken ger, och det är en sådan modernisering som Riksbankskommittén har kommit med.</p><p>Det är också detta den nya riksbankslagen handlar om: att ta in alla nya konsekvenser genom att vidga och bredda instrument och internationellt samarbete. Det handlar även om synen att när det blir kris kanske inte de där ettorna och nollorna fungerar, och då behövs en fungerande kontanthantering.</p><p>Förslaget innebär ett antal ändringar i regeringsformen, så som Ingela Nylund Watz utförligt har beskrivit. Det innebär också en förändring i riksdagsordningen. Allt detta syftar till att få en modernitet i systemet som ändå klarar av att säkra värdet så att vi alla kan lita på de utställda pengarna.</p><p>Herr talman! Förslaget innebär också en förnyad riksbankslagstiftning som i väldigt hög grad tar upp dessa förändringar och konkretiserar vad som ska utföras. Det gäller sådant som direktionens storlek och rekrytering, men det som kanske flest av oss kommer att kunna konstatera är att det görs väldigt tydligt att det ska finnas en kontanthantering som fungerar även i situationer av kris i Sverige - fredstida kris, står det i lagförslaget. På sikt ska det finnas sex depåer som har kontanthantering.</p><p></p><p>Så här långt i förslaget är samtliga överens: Vi behöver uppdatera regeringsform och riksdagsordning, och vi behöver en ny riksbankslag. Denna enighet tror jag är oerhört väsentlig för att vi ska bygga det förtroende som hela ärendet handlar om. Så långt, herr talman, tycker jag att allting är lugnt och bra.</p><p>Sedan finns det en reservation. Jag har full förståelse för att man vill lägga in sysselsättning eller, som vi ibland brukar kalla det, arbetslinjen på så många ställen som möjligt. Detta är dock snarare en fråga för ekonomisk politik än något att reglera i lag. Att reglera i lag vad man kan och inte kan göra eller ska och inte ska göra beskär handlingsmöjligheten i framtiden för dem som har att hantera detta. Jag tror att det är lite feltänkt att göra systemet så överbestämt.</p><p>Som jag sa inledningsvis är stabiliteten i växelkursen avgörande för våra medborgares sätt att agera och ta hand om den här frågan. Därför vill jag yrka avslag på reservationen i konstitutionsutskottets betänkande.</p><p>Sammanfattningsvis, herr talman: För mig är detta en väldigt positiv förändring. Det är positivt med enigheten. Den kommer att tjäna oss väl. Jag yrkar bifall till konstitutionsutskottets förslag till beslut och avslag på reservationen.</p><p>Överläggningen var härmed avslutad.</p><p>(Beslut fattades under §\\xa019.)</p>'\n",
      " '<p>Herr talman! Jag vill börja med att tacka ledamoten John Widegren för hans anförande. Ledamoten är en duktig debattör och en erfaren lantbrukare. </p><p>Det ekonomiska läget är oerhört tufft, både för bönderna och för våra medborgare. Regeringens finansminister Elisabeth Svantesson har uppmanat hushållen att hjälpa till att dämpa inflationen genom att välja billigare varor i butikerna. Hennes tips till hushållen var också att jämföra olika butiker med varandra och välja den billigare. Men vad regeringen skulle göra för att lindra krisen för de barnfamiljer, pensionärer och ensamstående som just nu vänder på varenda krona för att kunna sätta mat på bordet och låta sina barn äta sig mätta ville hon inte svara på. </p><p>Därför vill jag fråga ledamoten John Widegren om han kan svara på detta. Vad tänker Moderaterna göra för att våra barnfamiljer, pensionärer och ensamstående ska kunna fortsätta att köpa svensk näringsriktig mat som produceras av våra svenska bönder?</p>'\n",
      " '<p>Herr talman! Det är ingen av oss som har sagt att det här är en enkel resa. Det är det inte i Sverige, och det är det inte någon annanstans. Men då gäller det att göra saker i rätt tid och i rätt ordning, och det är precis vad vi gör.</p><p>Jag blir lite bekymrad över Mikael Dambergs 8inställning till inflationen. När jag lyssnade till hans tio minuter tidigare hörde jag om en mängd olika saker som nu ska läggas på hög och som kommer att driva utgifter och ofinansierat kommer att öka inflationen. Men om det ska finansieras finns bara ett svar, vilket är viktigt för alla som lyssnar att veta: Skatterna kommer att höjas för vanliga löntagare.</p><p>Detta lade ni in i er budget i höstas. Jag antar att det också kommer att komma i er nästa budget. Det finns inget annat sätt att finansiera det här, om man tar ansvar för inflationen.</p><p>Jag kan lova Mikael Damberg och alla här i kammaren att vi tar ansvar. Vi tar ansvar för barnen och för familjerna. Vi kommer att bekämpa inflationen varje dag och stötta hushåll för att de ska klara detta, men vi ska också återupprätta arbetslinjen och fokusera på stärkt tillväxt.</p><p>(Applåder)</p>'\n",
      " '<p>Fru talman! Jag noterade att frågan kring hur Sverige ska försvara sig inte var prioriterad av de partier som skrev under Tidöavtalet. Man kan ju fundera över varför det inte var en prioriterad fråga för dem som skrev under det. Den var inte heller prioriterad i regeringsförklaringen. Då kan man undra varför den inte heller var prioriterad där.</p><p>Det har hittills varit en politisk prioritering. Men regeringspartierna, inklusive SD, prioriterar inte denna fråga. Det är ett val.</p><p>Därför undrar jag än en gång: Kommer det i närtid något konkret på det här området, då Sverige är under attack varje dag?</p>'\n",
      " '<p>Herr talman! När jag ser en fyraårig tjej som går på samma förskola som min pojke och som har en heltäckande slöja på sig tycker jag att det är väldigt magstarkt av Daniel Vencu Velasquez Castro att påstå att barn själva väljer fritt att bära slöja. Det är väldigt magstarkt.</p>'\n",
      " '<p>Fru talman! Tack så mycket, Kalle Olsson, för frågan! Pensionssystemet som sådant och pensionerna har vi stött och blött under många år. Samarbetet i Pensionsgruppen har kanske inte fungerat optimalt de senaste åren, och det har varit en angelägen fråga för mig att nu lösa och hitta vägen framåt för.</p><p>Vi behöver ett tryggt, stabilt och bra pensionssystem som gynnar dem som har arbetat och gjort det mycket hårt. Det ska fortfarande finnas ett respektavstånd mellan dem som inte har arbetat och dem som har arbetat. Vi behöver också skapa en större trygghet i att vi även framdeles kan leverera pensioner, och det gör man genom att fler arbetar och fler arbetar längre.</p><p>Jag är angelägen om att stärka pensionerna framöver, och det tror jag att vi gör bäst genom att samarbeta i Pensionsgruppen och inte via budgeten vid sidan av själva systemet.</p>'\n",
      " '<p>Fru talman! Jag tackar statsrådet för svaret. </p><p>I sitt svar menar statsrådet att investeringsstödets avskaffande bedöms ha \"en begränsad effekt\" på nybyggnation. Jag undrar vad som är skälen och bakgrunden till denna bedömning. Hur har regeringen kommit fram till denna slutsats? </p><p>Under 2017-2022 har cirka 60\\xa0000 lägenheter byggts med stödet och haft en hyresnivå som är cirka 2\\xa0000 kronor lägre. Vi socialdemokrater delar alltså inte riktigt regeringens bedömning - även om vi gärna ser en vidareutveckling av offentliga stöd till nybyggnation, alltså exempelvis en reformerad form av investeringsstöd. </p><p>Fru talman! Min fråga gällde faktiskt min hembygd Stockholm och Stockholmsregionen. Här finns cirka 80\\xa0000 aktivt bostadssökande i den kommunala bostadsförmedlingen. Den information jag hade i december var att det då fanns ej hanterade ansökningar om investeringsstöd för cirka 3\\xa0600 lägenheter i Stockholms län. Regeringskansliet borde ha bättre koll än jag, så jag vill ge ministern ännu en chans att svara på frågan och ge sin bild av hur många lägenhetsbyggen som nu inte drar igång här i huvudstadsregionen. </p><p>Om det nu skulle vara så att Stockholmsperspektivet anses för begränsat, låt oss i stället lyssna till kommunalrådet i Kiruna! I Dagens Nyheter den 9 januari kunde jag läsa följande: </p><p>\"Vi behöver få fler människor att flytta till Kiruna. Kompetensförsörjningen är det viktigaste fokuset vi har i Norrbotten just nu, säger Mats Taaveniku.\" Dagens Nyheter undrar hur det ska gå till. \"Den här satsningen klarar inte kommunerna själva med det skatteunderlag och de undermåliga statliga stöden i den senaste budgeten. Staten måste ta ett större ansvar, för att vi ska klara den här omställningen, säger Mats Taaveniku.\" Han är alltså kommunalråd i Kiruna. </p><p> STYLEREF Kantrubrik \\\\* MERGEFORMAT Svar på interpellationer</p><p>Det står vidare: \"Han anser att det statliga investeringsstödet måste återinföras för att sätta fart på bostadsbyggandet i norr. Det var den nuvarande regeringen som i opposition år 2021 drev igenom en avveckling av stödet.\" </p><p>Dagens Nyheter avslutar artikeln med att man har sökt infrastruktur- och bostadsminister Andreas Carlson för att fråga om ministern vill återinföra investeringsstödet för bostäder, utan att lyckas.</p><p>I ljuset av det allvarliga läget för bostadsbyggandet här i Stockholmsregionen, men uppenbarligen också i de norra delarna av landet, vore det inte lägligt att ompröva sin hållning till hur avvecklingen av investeringsstödet ska gå till, Andreas Carlson? Varför inte låta länsstyrelserna och Boverket fortsätta att behandla redan inkomna ansökningar, så som vi socialdemokrater har föreslagit i vår budgetmotion?</p>'\n",
      " '<p>Herr talman! Jag tycker att det är vårt ansvar som lagstiftare att se till att vi har ett rimligt regelverk. Jag tycker inte att friluftsorganisationerna ska tvingas in och vara medlemmar någonstans, utan vi ska titta på verksamheten.</p><p>Med utgångspunkt i att vi i Miljöpartiet tycker att det är precis lika viktigt att främja friluftsliv som idrott vill vi ha samma regelverk vad gäller sociala avgifter. I dag är det inte på det sättet. Det är en värderingsfråga om man tycker att friluftsliv är lika mycket värt som idrott. Om vi politiker tycker att det regelverk som finns i dag inte funkar, inte tillämpas så som vi vill eller inte ser ut så som vi vill har vi ansvar för att ändra på det.</p><p>Jag vill fråga igen: Varför tycker Kristdemokraterna att det är bra att friluftsorganisationerna har högre kostnader för sina ledare än idrottsorganisationerna?</p>']\n"
     ]
    }
   ],
   "source": [
    "# The directory where data is located\n",
    "data_dir = \"test_data/22_23/\"\n",
    "data = []\n",
    "for file in os.listdir(data_dir):\n",
    "    if file.endswith(\".txt\"):\n",
    "        with open(data_dir+file,\"r\") as f:\n",
    "            data.append([])\n",
    "            for line in f.readlines():\n",
    "                data[-1].append(line)\n",
    "\n",
    "data = np.array(data)\n",
    "\n",
    "# Print first and last data points\n",
    "#print(data[0])\n",
    "#print(data[-1])\n",
    "\n",
    "# Get only speeches\n",
    "speeches = data[:,1]\n",
    "\n",
    "print(speeches[:10])"
   ]
  },
  {
   "attachments": {},
   "cell_type": "markdown",
   "metadata": {},
   "source": [
    "<p>Parse with beautifulsoup to extract paragraphs:</p>"
   ]
  },
  {
   "cell_type": "code",
   "execution_count": 9,
   "metadata": {},
   "outputs": [
    {
     "name": "stdout",
     "output_type": "stream",
     "text": [
      "['Herr talman! Jag måste tyvärr säga att jag tycker att ledamoten Sundin läser Tidöavtalet som fan läser Bibeln. Det finns en väldigt stark ambition från Moderaterna och de samarbetspartier som har skrivit under avtalet att vi ska fortsätta just den utveckling med en god och nära vård som jag tycker att ledamoten beskriver väl. Det är en ambition som vi brett över parti- och blockgränser har varit överens om. Vi vill att vården ska komma närmare patienterna. Vi vill att vården ska komma närmare dem som behöver vård och omsorg.'\n",
      " 'Vi har viktiga satsningar i Tidöavtalet på en förstärkt primärvård och på att bygga ut vården, inte minst på landsbygden, på att skapa förutsättningar för den samverkan som ledamoten var inne på, i form av till exempel en nationell digital infrastruktur, så att vi kan dela patientdata mellan olika vårdgivare och mellan kommuner och regioner.'\n",
      " 'Sedan, herr talman, är det, som jag var inne på i mitt anförande, för mig alldeles uppenbart att om vi ska klara av att adressera de stora regionala skillnaderna i vårdens kvalitet och i vårdutbud krävs ökad statlig styrning. Det kommer att krävas mer statligt ledarskap för att adressera dessa problem. Är inte ledamoten Sundin av samma uppfattning?'\n",
      " 'Fru talman! Jag kommer att ställa samma fråga till Margareta Cederfelt som jag ställde till Markus Wiechel. På vilket sätt är det ett problem att Sverige har haft en feministisk utrikespolitik? På vilket sätt har feminismen gått för långt i världen? På vilket sätt har det motverkat svenska intressen? Den nya regeringen signalerar nu väldigt tydligt att man ska värna svenska intressen. Man drar sig tillbaka. Man värnar svenska intressen mer. Är det inte ett svenskt intresse att driva en feministisk utrikespolitik som stärker flickors och kvinnors rättigheter globalt?'\n",
      " 'Mycket med den här regeringsbildningen har tagit tid. Och reformer som har utlovats verkar dröja mest hela mandatperioden. Men det gick väldigt fort att skrota den feministiska utrikespolitiken. Om man googlar på det nu kan man inte längre hitta det på regeringens hemsida. Det var viktigt att få ut den signalen till omvärlden lika fort som det går att knäppa med fingrarna.'\n",
      " 'Herr talman! Styrka och säkerhet - så stod det på sedlarna förr i världen. Jag tittade i morse, och jag tror inte att det står så längre, i varje fall inte på den hundralapp och tjugolapp som jag hade i plånboken.'\n",
      " 'Hinc robur et securitas - härav styrka och säkerhet. Detta kom till en gång för att det här med att kunna lita på pengar och på penningvärdet är en förutsättning för att man ska kunna utvecklas. Det är en förutsättning för att få en bra utveckling i ett samhälle, naturligtvis tillsammans med skydd för individens frihet, rättssäkerhet, skydd för tillgångar och liknande. Därför är det så oerhört viktigt med Riksbanken - den möjliggör för alla svenskar att vara kreativa och att arbeta långsiktigt och framåt.'\n",
      " 'Men det förutsätter att jag kan lita på den institution som står bakom. För handen på hjärtat - en papperslapp eller en liten plåtbit har inte alls det värde som står tryckt på den, utan värdet säkras av en institution som ligger bakom, en institution som vi måste kunna lita på, en riksbank. För att ta det ännu ett steg längre är det klart att en etta eller en nolla i ett datanätverk någonstans också behöver ha den institutionella garantin för att vara pålitlig. Därför tryckte man de här latinska orden om styrka och säkerhet på sedlarna en gång i tiden för att säga: Vi har tänkt igenom detta. Vi har ett system som garanterar värdet, ett värde som är centralt för att samhället ska fungera. Därför är också detta en grundlag.'\n",
      " 'Men i detta, herr talman, ligger naturligtvis också att vi måste följa med tiden. Vi har alltmer internationellt samarbete. Metallvärdena som en gång var internationella är kanske inte det fullt ut i dag. Men framför allt måste vi samarbeta med andra. Vi måste ha nya system för att säkra dessa tillgångar. Vi måste ha nya instrument. Vi måste alltså modernisera den grund för säkerhet som Riksbanken ger, och det är en sådan modernisering som Riksbankskommittén har kommit med.'\n",
      " 'Det är också detta den nya riksbankslagen handlar om: att ta in alla nya konsekvenser genom att vidga och bredda instrument och internationellt samarbete. Det handlar även om synen att när det blir kris kanske inte de där ettorna och nollorna fungerar, och då behövs en fungerande kontanthantering.']\n"
     ]
    }
   ],
   "source": [
    "paragraphs = []\n",
    "for s in speeches:\n",
    "    soup = BeautifulSoup(s, 'html.parser')\n",
    "    ps = soup.find_all(\"p\")\n",
    "    for p in ps:\n",
    "        paragraphs.append(p.get_text())\n",
    "paragraphs = np.array(paragraphs)\n",
    "print(paragraphs[:10])"
   ]
  }
 ],
 "metadata": {
  "kernelspec": {
   "display_name": "Python 3",
   "language": "python",
   "name": "python3"
  },
  "language_info": {
   "codemirror_mode": {
    "name": "ipython",
    "version": 3
   },
   "file_extension": ".py",
   "mimetype": "text/x-python",
   "name": "python",
   "nbconvert_exporter": "python",
   "pygments_lexer": "ipython3",
   "version": "3.9.2"
  },
  "orig_nbformat": 4
 },
 "nbformat": 4,
 "nbformat_minor": 2
}
