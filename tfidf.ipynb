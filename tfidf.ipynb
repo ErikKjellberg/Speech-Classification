{
 "cells": [
  {
   "cell_type": "code",
   "execution_count": 2,
   "metadata": {},
   "outputs": [],
   "source": [
    "import spacy\n",
    "from sklearn.feature_extraction.text import CountVectorizer,TfidfVectorizer\n",
    "from sklearn.decomposition import TruncatedSVD\n",
    "from sklearn.linear_model import LogisticRegression\n",
    "import os \n",
    "import json\n",
    "from bs4 import BeautifulSoup\n",
    "\n",
    "nlp = spacy.load(\"sv_core_news_sm\")\n",
    "\n",
    "def tokenizer(text):\n",
    "    doc = nlp(text)\n",
    "    return [token.text for token in doc]\n",
    "\n",
    "tfidf_vectorizer = TfidfVectorizer(tokenizer=tokenizer)\n",
    "\n",
    "svd = TruncatedSVD(n_components=128)\n",
    "\n",
    "log_reg = LogisticRegression(multi_class=\"multinomial\")"
   ]
  },
  {
   "attachments": {},
   "cell_type": "markdown",
   "metadata": {},
   "source": [
    "<p>Extract the data in a very simple fashion.</p>"
   ]
  },
  {
   "cell_type": "code",
   "execution_count": 19,
   "metadata": {},
   "outputs": [
    {
     "name": "stdout",
     "output_type": "stream",
     "text": [
      "[0, 5000, 10000, 15000]\n"
     ]
    }
   ],
   "source": [
    "speeches = []\n",
    "parties = []\n",
    "\n",
    "possible_parties = [\"S\",\"M\",\"SD\",\"V\",\"MP\",\"C\",\"KD\",\"L\"]\n",
    "\n",
    "# The directory where data is located\n",
    "data_dirs = [\"speech_data/19_20/\",\"speech_data/20_21/\",\"speech_data/21_22/\",\"speech_data/22_23/\"]\n",
    "year_indices = [0,0,0,0]\n",
    "speeches_per_year = 5000\n",
    "data = []\n",
    "i = 0\n",
    "for year, data_dir in enumerate(data_dirs):\n",
    "    year_indices[year] = len(speeches)\n",
    "    speech_count = 0\n",
    "    for file in os.listdir(data_dir):\n",
    "        if file.endswith(\".json\"):\n",
    "            if speech_count >= speeches_per_year:\n",
    "                break\n",
    "            with open(data_dir+file,\"r\") as f:\n",
    "                data = json.load(f)\n",
    "                speech = data[\"anforande\"][\"anforandetext\"]\n",
    "                party = data[\"anforande\"][\"parti\"]\n",
    "                # If it is a party who has spoken,\n",
    "                if party in possible_parties:\n",
    "                    soup = BeautifulSoup(speech, 'html.parser')\n",
    "                    speech_text = \" \".join([p.get_text() for p in soup.find_all(\"p\")])\n",
    "                    if speech_text != \"\":\n",
    "                        parties.append(party)\n",
    "                        speeches.append(speech_text)\n",
    "                        speech_count += 1\n",
    "\n",
    "print(year_indices)\n",
    "assert len(parties) == len(speeches)"
   ]
  },
  {
   "cell_type": "code",
   "execution_count": 30,
   "metadata": {},
   "outputs": [
    {
     "name": "stdout",
     "output_type": "stream",
     "text": [
      "['Fru talman! Vi är i krig mot en osynlig fiende. Vi är i krig mot ett virus - ett virus som snabbt har spridit sig över vår jord och som skördar liv i alla våra världsdelar. Ingen har tidigare mött denna fiende, och ingen är därför heller immun. Inga mediciner finns, och det finns inte heller något vaccin. I går räknade vi till 1\\xa0203 döda i Sverige. I världen rapporterar WHO att vi ligger på 125\\xa0000 döda, och många fler vet vi att det kommer att bli. Fru talman! Större delen av världen har tvingats till extrema och extraordinära åtgärder. Länder har i princip stängts ned. Folk har förlorat arbetet, många sitter i karantän och alltför många har redan fått sätta livet till. Fallet är och blir hårt. Världen kommer aldrig någonsin att vara densamma igen. Fru talman! Regeringspartierna har arbetat dag och natt de senaste månaderna för att göra det som hör vårt arbete till och minska det antal dödsfall vi kommer att se och det lidande och de ekonomiska förluster som denna pandemi resulterar i.  Vårdens personal gör ett enastående arbete - de är våra verkliga hjältar här. Socialstyrelsen, Folkhälsomyndigheten, MSB och Försvarsmakten - alla jobbar de helt enastående i en situation där Sverige, tragiskt nog, saknat den beredskap vi borde ha haft innan pandemin kom. Det här måste vi jobba med väldigt mycket också efter pandemin. Fru talman! I regeringsformen finns det särskilda regler för beslutsfattande för statsmakterna och andra organ under krig och krigsfara. Motsvarande saknas för händelser som denna vid fredstida kriser. I detta fall har regeringen fått förlita sig på smittskyddslagen. Den ger i och för sig ganska stora befogenheter, men dessa är kanske inte tillräckliga. Förutom att detta behöver ses över i ett lugnt tempo, så att vi inför eventuella kommande kriser av denna dignitet inte står utan sådana lagar, krävs det att vi just nu i denna kris gör en översyn och en vidgning av smittskyddslagen. Varför? Jo, det kan uppkomma situationer när Folkhälsomyndigheten tycker att vi måste agera snabbt. Vi försöker att platta ut kurvan för att vården ska hinna med att ta hand om alla dem som behöver intensivvård. För att vården ska hinna med måste vi göra någonting väldigt snabbt. Är det då så att vi inte hinner med ett ordentligt riksdagsbeslut i den ordning som vi är vana vid behövs det andra förutsättningar och andra verktyg för att kunna införa saker direkt. Men, mina vänner, detta är verkligen viktigt: Det verktyg som vi i dag fattar beslut om får bara användas just när det inte är möjligt att ha en ordinarie riksdagsbehandling, och bara då. Fattas beslut av regeringen genom denna utvidgade möjlighet - detta verktyg - är det också inskrivet att det ska gå till riksdagen precis därefter för behandling. Vi måste alltid värna vår demokrati. Vi hoppas att detta bemyndigande till regeringen aldrig ska behöva användas, men det är väldigt viktigt att det finns på plats. Jag är väldigt stolt över att bo i ett land där vi - åtminstone fram till nu - har kunnat hantera situationen genom att folk har ett så stort förtroende för experter och myndigheter att de faktiskt lyssnar och gör saker av egen kraft. Man håller sig hemma om man är det minsta sjuk. Man jobbar hemifrån. Man gör allt för att plana ut kurvan. Över det är jag stolt, och jag hoppas att vi kan fortsätta att använda detta tillvägagångssätt. Det är många länder i världen som nu tittar på oss med beundran. Med dessa ord yrkar jag bifall till förslaget i utskottets betänkande. Överläggningen var härmed avslutad. (Beslut fattades under § 12.)', 'Herr talman! Det måste bli ett slut på köp och slängsamhället som vi har byggt upp. Det är alldeles för billigt med jungfruliga råvaror, inte minst plast. Vi måste se till att få cirkularitet på detta område. Ett sätt att göra det är att öka efterfrågan på återvunnet material. Olika ekonomiska incitament kan göra att det blir bättre. Pant på mobiltelefoner, batterier och annan elektronik är någonting som vi är överens om i januariavtalet, liksom ett produktpass för prylar. Man ska kunna ange var de kommer ifrån, vad de innehåller för material och även hur de ska repareras för att ytterligare gynna en hållbar och cirkulär ekonomi. Det offentliga upphandlingsinstrumentet som Marlene Burwick är inne på är enormt kraftfullt. Vi vill gärna se över hur man kan skärpa det ytterligare så att vi kan få igång en cirkulär ekonomi ännu snabbare, i linje med den strategi som vi är på väg att ta fram.', 'Herr talman och statsministern! Vi ligger just nu i slutförhandlingarna om EU:s nya jordbrukspolitik, och även om vi inte kommer att hålla tiden utan dra över med ett eller två år närmar det sig. Det är anmärkningsvärt att regeringen framhåller att vår ståndpunkt från Sverige är väsentligt minskade utgifter. Under den diskussion som har förts det senaste året har vi talat om väsentligt minskade utgifter och att det ska vara de 5 procent som kommissionen tidigare har föreslagit. Nu får vi signaler från regeringens sida om att det blir ännu större neddragningar. Man driver helt enkelt den linjen, herr talman. Eftersom vi vet att Sverige är ett av de länder där jordbruket är som absolut mest beroende av EU-stöden kommer detta att påverka lönsamheten i svenskt jordbruk oerhört mycket. Jordbruket står också för en viktig del i omställningen till ett miljö- och klimatsmart samhälle.  Därför vill jag fråga statsministern, herr talman: Vilka konkreta verktyg vill regeringen använda nationellt i politiken för att vi ska kunna hålla uppe lönsamheten i svenskt jordbruk? Drar man bort EU-stöd, som vi är väldigt beroende av - vilket vi är överens om, även om regeringen driver en lite tuffare linje just nu - vilka konkreta verktyg ska man då ge jordbruket i Sverige?', 'Fru talman! Jag tackar ministern för svaret, även om jag inte delar hans uppfattning. Medierapporteringen under veckan visar att införandet av en tolkning av barnkonventionen gör att unga förövare som grips av polis på bar gärning inte hålls gripna så länge att ett förhör kan ske utifrån de riktlinjer som finns. Hur ser justitieministern på det faktum att förhör inte utförs i samband med brott?', 'Herr talman! Det är i grunden mycket bra för Sverige att även Sverigedemokraterna numera vill att vårt land ska vara med i EU. Jag tror att det är en styrka för Sverige att alla eller nästan alla partier står bakom vårt medlemskap. Vänsterpartiet gjorde nyligen en liknande politisk förändring. Det är bra för svensk förmåga att agera i EU att det inte råder någon tvekan om att Sverige har en plats där. Det kan nämligen skapa meningsfull debatt om vad Sverige vill med medlemskapet. Den debatten borde vi nog se mer av, och då krävs det också ett mått av engagemang i själva medlemskapet.  Min fråga till Jimmie Åkesson handlar ännu en gång - jag har ställt ungefär denna fråga tidigare - om hur Sverigedemokraterna ser på ansvar för EU:s yttre gräns. Ska EU kunna bekämpa terrorhot och klara av att möta migrationsvågor måste Europa stärka skyddet av den yttre gränsen. Det tror jag att nästan alla som har sett vad som hänt i Europa de senaste åren håller med om. Men Sverigedemokraterna har tyvärr i varje omröstning i Europaparlamentet röstat nej till precis detta: nej till utbyggnad av det vi på byråkratisk svenska kallar Frontex, alltså EU:s yttre gränsbevakning, nej till nya verktyg för återvändande och fördjupat samarbete om detta och nej till 10\\xa0000 nya kust- och gränsbevakare. Det skulle ha blivit den största förstärkningen av EU:s förmåga i modern tid. Min fråga till Jimmie Åkesson är därför lite mer precis än förra gången. Kan vi räkna med att Sverigedemokraterna i fortsättningen medverkar till att stärka skyddet av EU:s yttre gräns?', 'Herr ålderspresident! Jag börjar med att yrka bifall till reservation\\xa03. Konsekvenserna av coronavirusets framfart och de konsekvenser som många av de nödvändiga åtgärderna mot viruset har fått för kultursektorn är många och allvarliga. Ett område som har drabbats hårt är filmnäringen. Det må vara så att många i högre grad sitter hemma och ser på film och serier via Netflix, HBO och andra streamningstjänster i karantäntider, men filmtittandet på biograferna har däremot drabbats på ett särskilt förödande sätt. Medier som bland annat SVT har rapporterat att antalet biobesök har minskat med nästan 100 procent under utvalda veckor under coronakrisen jämfört med motsvarande veckor 2019. Det är givetvis en följd av att den största kedjan, Filmstaden, har stängt igen tillfälligt.  Det som nu står på spel är inte bara enskilda biografers överlevnad utan biografkulturen som sådan i Sverige. Det hårda läget för biograferna drabbar i sin tur också andra delar av filmbranschen, såsom de aktörer som får intäkter genom att deras filmer visas på biografer som visningsfönster. Att Sveriges biomoms har fyrdubblats, från 6 till 25 procent, sedan förra mandatperiodens filmproposition är också - inte minst mot bakgrund av det hårda läget nu - högst olyckligt. Redan innan coronaviruset slog till visste vi att just denna momshöjning, som Sverigedemokraterna motsatte sig när det begav sig, sätter ökad press på en rad biografer runt om i landet.  Redan innan coronaviruset slog till med full kraft mot Sverige kunde vi läsa om katastrofsiffror för svensk film på landets biografer. Besöken för att se svenska filmer på biograferna minskade med 31 procent från 2018 till 2019. Biobesöken minskade totalt sett med 3 procent under samma år. Trenden är negativ även över längre tid, då andelen besök för att se svenska filmer har halverats under 2014-2019. Ingen svensk film hamnade på förra årets tio i topp över de filmer som fick flest besökare att ta sig till biograferna.  Skälen till att svensk film gick så dåligt på biograferna förra året är givetvis flera. Ett av de problem som Sverigedemokraterna har varit tydliga med att påpeka gällande att det gått så dåligt för svenska filmer på biograferna är att svensk filmpolitik, inte minst sedan helförstatligandet, alltmer präglas av vänsterinriktad identitetspolitik. Även Sveriges Biografägareförbund har kritiserat detta och framhållit mångfaldsfokuset hos Svenska Filminstitutet, SFI, som en del av problemet.  STYLEREF Kantrubrik \\\\* MERGEFORMAT Frågor om film och public service Det är inte rimligt att en persons kön eller härkomst får det orimligt stora fokus som det har i dag hos SFI när det görs bedömningar av vilka filmprojekt som ska ges stöd. Det gör bland annat att kompetens och en films möjlighet att nå kommersiella framgångar får stryka på foten. Herr ålderspresident! Filmsverige, där biografkulturen är en viktig del, hade kort sagt flera allvarliga problem att tackla redan innan coronaviruset dök upp och slog till så hårt som det gjorde. Vi måste nu se till att rädda Filmsverige och svensk biografkultur undan den dödsstöt som detta annars riskerar att bli. Det ekonomiska stödpaket till kulturlivet som regeringen har presenterat har kultur- och demokratiminister Amanda Lind hävdat kan gå bland annat till biograferna. Regeringen har vidare påpekat att Svenska Filminstitutet snabbt har agerat och både förstärkt och tidigarelagt utbetalningar av viktiga stöd samt skapat mer flexibilitet när det gäller återbetalningsregler och uppskjutna projekt. Det är bra så, men sannolikt måste mer göras. Sverigedemokraterna är som politisk kraft villiga att ta strid för svensk film och för svensk biografkulturs överlevnad. Det tänker vi arbeta för även om JÖK-partierna inte förankrar förslagen kring filmbranschen med oss i oppositionen, trots den så kallade borgfred man talar om. Herr ålderspresident! Public service fyller en viktig funktion, inte minst när det gäller att visa svenska filmer och serier men kanske framför allt när det gäller att nå ut med samhällsviktig information - speciellt i tider som i dag. Man har ett särskilt viktigt uppdrag att säkerställa att betydelsefull information når hela befolkningen vid krissituationer. Det är därför också viktigt att public service får de resurser man behöver för att kunna utföra det uppdrag som ålagts public service. Utifrån partiets socialkonservativa och nationalistiska utgångspunkt anser Sverigedemokraterna att det är av yttersta vikt att det finns en medial aktör som skapar kvalitetsinnehåll på det svenska språket och som har i uppdrag att spegla hela vårt land och att se till att innehållet är tillgängligt för samtliga medborgare oavsett enskilda medborgares fysiska förutsättningar. Många upplever att public service-bolagen de senaste åren brustit i sitt uppdrag om saklig informationsförmedling och opartiskt innehåll. Vi tror att en del av landets nuvarande utmaningar hade kunnat lindras eller undvikas om medborgarna fått full insikt i och förståelse för vad vissa politiska förslag skulle komma att få för konsekvenser. Det talas om en åsiktskorridor i hela mediesfären - en åsiktskorridor som public service tyvärr hållit sig inom. Mediesystemet blir starkt av en tredje statsmakt som inte enbart granskar den offentliga makten utan också granskar och sporrar varandra till högre kvalitet och saklighet i sin rapportering och granskning. Public service har en viktig roll i denna sammansättning av medier. Därför är det oerhört oroande med de brister i saklighet och opartiskhet som vi kunnat se i public service-bolagens innehåll. En översyn behövs, och det nu. Herr ålderspresident! I går kunde vi läsa om att Riksrevisionen ska påbörja en granskning av granskningsnämnden för radio och tv. Det är bra. Vi har länge efterfrågat en översyn eftersom många inte känner tilltro till det granskningssystem vi har i dag.  STYLEREF Kantrubrik \\\\* MERGEFORMAT Frågor om film och public service Det får anses som en stor brist när systemet kring granskningsnämnden inte uppfattas som pålitligt, något som bland annat Timbro har rapporterat om. Allmänheten uppfattar att granskningsnämndens uppgift är att granska exempelvis sakligheten i program som har sänts. Granskningsnämnden menar att det inte är dess uppgift att på egen hand dubbelkolla fakta. Därför ser vi fram emot den skrivelse som ska komma i november i år.', 'Herr talman! Jag vänder mig inte emot siffrorna som sådana. De stämmer, för det hade ju sjunkit. Det jag vänder mig emot är den ständiga beskrivningen från Socialdemokraternas sida: att det är en historisk satsning. Det är det inte. Det var ett ganska nonchalant svar jag erhöll, tycker jag. Eftersom infrastrukturministern inte är här förutsätter jag att Jasenko Omanovic är den som får föra styrets talan. Det är trots allt Socialdemokraterna som innehar regeringsmakten ihop med Miljöpartiet. Jag hade kanske förväntat mig ett lite bättre svar. I utredningen om framtidens järnvägsunderhåll kan man läsa flera saker, som jag tog upp i mitt anförande, till exempel om indelning av olika kontrakt och hur man ska ta över dem. Man kan då välja ut åtta stycken för basunderhåll och tre teknikkontrakt, till exempel. Det är inte en särskilt bra uppdelning, anser vi. Dessutom har ni helt missat södra Sverige. I debatten här tycker jag att Jens Holm har varit den som har haft bäst förståelse för hur det fungerar. Man har inte kompetens inom Trafikverket, för man har lagt ut allt underhåll på det privata. De som sitter på kompetens är de privata entreprenörerna, men de som ska skriva om underhåll saknar den kompetensen. Man blir väldigt beroende av konsulter. För att råda bot på detta behöver samtliga områden i Sverige där Trafikverket sitter och upphandlar såklart ha underhåll i egen regi. Och detta ingår inte i denna utredning. Jag tänker faktiskt ställa frågan igen till ledamoten Jasenko Omanovic: Avser ni att arbeta för att ha samtal kring denna utredning, eller har ni för avsikt att bara köra ert eget race och hoppas på att den ska gå igenom så som den är skriven?', 'Fru talman! Jag är skyldig ett svar på frågan varför man inte kunde göra undantag retroaktivt. Svaret är att även EU-direktivet reglerar de så kallade farfarsrättigheterna. Det innebär i det här fallet att man inte kan behålla tidigare rättigheter. I stället är det ny lagstiftning och nya regler som gäller samtliga, och det är det som gör att det blir en striktare bedömning.  Utgångspunkten är att man vill öka trafiksäkerheten inom hela EU och inte hamna i ett läge där ett 60-tonsfordon framförs av någon som under en period faktiskt kan vara helt borta. Detta får sedan aldrig tas som argument för att vi får förare som kör utan tillstånd, kör olagligt eller har andra brister som gör att de inte kör trafiksäkert. Det är ett av skälen till att vi skärper kontrollerna på väg, att vi ökar insatserna och att vi till och med har tillsatt en utredning om skärpta och effektivare kontroller av yrkestrafiken.  Jag vill se en samlad yrkestrafikinspektion som gäller både tunga transporter, inklusive busstransporter, och taxinäringen. Vi ska få bättre ordning i yrkestrafiken och ökade kontroller på väg, men också ökade möjligheter till registerkontroller och digitala kontroller. Det handlar om att säkerställa att det är bättre och bra utbildade förare, att arbetsmiljön är god och att kör- och vilotidsregler följs. Det ska också finnas möjligheter till hälsokontroller, vilket många goda arbetsgivare ger, så att läget följs upp.  Det är en sådan ordning vi ska ha på våra vägar. Det är så det ska fungera. Då kommer också transportbranschen att bli mer attraktiv att arbeta inom. Transportbranschen behövs nämligen; det tror jag att Thomas Morell och jag är överens om. Interpellationsdebatten var härmed avslutad. ', 'Fru talman! Jag är jätteglad över engagemanget för att lösa problemet med att alltför många, alltför unga barn är ute och begår brott. Det är tydligt för mig, för regeringen och uppenbarligen för Johan Pehrson att detta är väldigt angeläget och att åtgärder måste sättas in brett. Vi har många diskussioner om straffrätten; det är viktigt. Jag tror inte att man i varje läge löser problemen genom att höja straffen. Jag tycker att man ska ha rätt straff och att det ska finnas en proportionalitet. Hade det varit så enkelt att vi hade kunnat lösa problemen genom att skärpa straffen hade vi gjort det. Vi har gjort 50 straffskärpningar. Jag tror inte att Johan Pehrson heller tror att vi skulle trolla bort brottsligheten om vi gjorde ytterligare skärpningar och kom upp i 100. Jag tror att vi är överens om att även annat måste till.', 'Herr talman! Jag ska också ställa en fråga till statsrådet Baylan. Sveriges elsystem är ju helt integrerat med grannländerna såväl elektriskt som ekonomiskt. Det nordisk-baltiska elsystemet har flaskhalsar, men det har inga nationsgränser. Regeringen talar gärna om förra årets rekordstora utflöde av el från de svenska prisområdena till andra delar av systemet. Denna nettoexport från Sverige anförs som ett argument för att det skulle vara oproblematiskt att lägga ned stora mängder reglerbar fossilfri elproduktion. När vi ser på hela det nordisk-baltiska systemet är det dock lite annorlunda. Förra året kom 17 terawattimmar från kolkraft, och 19 terawattimmar importerades. Utsläppen av klimatgaser kommer att öka markant när vi lägger ned fossilfri elproduktion, och detta vet givetvis regeringen. Min fråga till statsrådet är: Är det viktigare för er att stänga reaktorer än att hantera klimatkrisen?']\n",
      "['MP', 'MP', 'M', 'KD', 'M', 'SD', 'SD', 'S', 'MP', 'L']\n"
     ]
    }
   ],
   "source": [
    "print(speeches[:10])\n",
    "print(parties[:10])"
   ]
  },
  {
   "cell_type": "code",
   "execution_count": 17,
   "metadata": {},
   "outputs": [
    {
     "name": "stdout",
     "output_type": "stream",
     "text": [
      "{'S': 0, 'M': 1, 'SD': 2, 'V': 3, 'MP': 4, 'C': 5, 'KD': 6, 'L': 7}\n",
      "{0: 'S', 1: 'M', 2: 'SD', 3: 'V', 4: 'MP', 5: 'C', 6: 'KD', 7: 'L'}\n",
      "['MP', 'MP', 'M', 'KD', 'M', 'SD', 'SD', 'S', 'MP', 'L', 'S', 'KD', 'L', 'S', 'M', 'S', 'KD', 'SD', 'MP', 'M']\n",
      "[4, 4, 1, 6, 1, 2, 2, 0, 4, 7, 0, 6, 7, 0, 1, 0, 6, 2, 4, 1]\n"
     ]
    }
   ],
   "source": [
    "# Turn parties to index\n",
    "party_to_number = {}\n",
    "number_to_party = {}\n",
    "for i, p in enumerate(possible_parties):\n",
    "    party_to_number[p] = i\n",
    "    number_to_party[i] = p\n",
    "\n",
    "print(party_to_number)\n",
    "print(number_to_party)\n",
    "print(parties[:20])\n",
    "parties = [party_to_number.get(p) for p in parties]\n",
    "print(parties[:20])"
   ]
  },
  {
   "cell_type": "code",
   "execution_count": 20,
   "metadata": {},
   "outputs": [],
   "source": [
    "train_size = speeches_per_year*3\n",
    "test_size = speeches_per_year\n",
    "\n",
    "X_train = speeches[:train_size]\n",
    "y_train = parties[:train_size]\n",
    "\n",
    "X_test = speeches[train_size:train_size+test_size]\n",
    "y_test = parties[train_size:train_size+test_size]"
   ]
  },
  {
   "cell_type": "code",
   "execution_count": 21,
   "metadata": {},
   "outputs": [
    {
     "name": "stderr",
     "output_type": "stream",
     "text": [
      "/home/erko/.local/lib/python3.9/site-packages/sklearn/feature_extraction/text.py:528: UserWarning: The parameter 'token_pattern' will not be used since 'tokenizer' is not None'\n",
      "  warnings.warn(\n"
     ]
    }
   ],
   "source": [
    "X_vectorized = tfidf_vectorizer.fit_transform(X_train)"
   ]
  },
  {
   "cell_type": "code",
   "execution_count": 22,
   "metadata": {},
   "outputs": [],
   "source": [
    "X_dim_reduced = svd.fit_transform(X_vectorized)"
   ]
  },
  {
   "cell_type": "code",
   "execution_count": 24,
   "metadata": {},
   "outputs": [
    {
     "name": "stdout",
     "output_type": "stream",
     "text": [
      "15000\n"
     ]
    }
   ],
   "source": [
    "X_train = X_dim_reduced\n",
    "print(len(X_train))"
   ]
  },
  {
   "cell_type": "code",
   "execution_count": 25,
   "metadata": {},
   "outputs": [],
   "source": [
    "X_test = svd.transform(tfidf_vectorizer.transform(X_test))"
   ]
  },
  {
   "cell_type": "code",
   "execution_count": 29,
   "metadata": {},
   "outputs": [],
   "source": [
    "log_reg = LogisticRegression(multi_class=\"multinomial\",max_iter=1000)"
   ]
  },
  {
   "cell_type": "code",
   "execution_count": 30,
   "metadata": {},
   "outputs": [
    {
     "data": {
      "text/html": [
       "<style>#sk-container-id-4 {color: black;background-color: white;}#sk-container-id-4 pre{padding: 0;}#sk-container-id-4 div.sk-toggleable {background-color: white;}#sk-container-id-4 label.sk-toggleable__label {cursor: pointer;display: block;width: 100%;margin-bottom: 0;padding: 0.3em;box-sizing: border-box;text-align: center;}#sk-container-id-4 label.sk-toggleable__label-arrow:before {content: \"▸\";float: left;margin-right: 0.25em;color: #696969;}#sk-container-id-4 label.sk-toggleable__label-arrow:hover:before {color: black;}#sk-container-id-4 div.sk-estimator:hover label.sk-toggleable__label-arrow:before {color: black;}#sk-container-id-4 div.sk-toggleable__content {max-height: 0;max-width: 0;overflow: hidden;text-align: left;background-color: #f0f8ff;}#sk-container-id-4 div.sk-toggleable__content pre {margin: 0.2em;color: black;border-radius: 0.25em;background-color: #f0f8ff;}#sk-container-id-4 input.sk-toggleable__control:checked~div.sk-toggleable__content {max-height: 200px;max-width: 100%;overflow: auto;}#sk-container-id-4 input.sk-toggleable__control:checked~label.sk-toggleable__label-arrow:before {content: \"▾\";}#sk-container-id-4 div.sk-estimator input.sk-toggleable__control:checked~label.sk-toggleable__label {background-color: #d4ebff;}#sk-container-id-4 div.sk-label input.sk-toggleable__control:checked~label.sk-toggleable__label {background-color: #d4ebff;}#sk-container-id-4 input.sk-hidden--visually {border: 0;clip: rect(1px 1px 1px 1px);clip: rect(1px, 1px, 1px, 1px);height: 1px;margin: -1px;overflow: hidden;padding: 0;position: absolute;width: 1px;}#sk-container-id-4 div.sk-estimator {font-family: monospace;background-color: #f0f8ff;border: 1px dotted black;border-radius: 0.25em;box-sizing: border-box;margin-bottom: 0.5em;}#sk-container-id-4 div.sk-estimator:hover {background-color: #d4ebff;}#sk-container-id-4 div.sk-parallel-item::after {content: \"\";width: 100%;border-bottom: 1px solid gray;flex-grow: 1;}#sk-container-id-4 div.sk-label:hover label.sk-toggleable__label {background-color: #d4ebff;}#sk-container-id-4 div.sk-serial::before {content: \"\";position: absolute;border-left: 1px solid gray;box-sizing: border-box;top: 0;bottom: 0;left: 50%;z-index: 0;}#sk-container-id-4 div.sk-serial {display: flex;flex-direction: column;align-items: center;background-color: white;padding-right: 0.2em;padding-left: 0.2em;position: relative;}#sk-container-id-4 div.sk-item {position: relative;z-index: 1;}#sk-container-id-4 div.sk-parallel {display: flex;align-items: stretch;justify-content: center;background-color: white;position: relative;}#sk-container-id-4 div.sk-item::before, #sk-container-id-4 div.sk-parallel-item::before {content: \"\";position: absolute;border-left: 1px solid gray;box-sizing: border-box;top: 0;bottom: 0;left: 50%;z-index: -1;}#sk-container-id-4 div.sk-parallel-item {display: flex;flex-direction: column;z-index: 1;position: relative;background-color: white;}#sk-container-id-4 div.sk-parallel-item:first-child::after {align-self: flex-end;width: 50%;}#sk-container-id-4 div.sk-parallel-item:last-child::after {align-self: flex-start;width: 50%;}#sk-container-id-4 div.sk-parallel-item:only-child::after {width: 0;}#sk-container-id-4 div.sk-dashed-wrapped {border: 1px dashed gray;margin: 0 0.4em 0.5em 0.4em;box-sizing: border-box;padding-bottom: 0.4em;background-color: white;}#sk-container-id-4 div.sk-label label {font-family: monospace;font-weight: bold;display: inline-block;line-height: 1.2em;}#sk-container-id-4 div.sk-label-container {text-align: center;}#sk-container-id-4 div.sk-container {/* jupyter's `normalize.less` sets `[hidden] { display: none; }` but bootstrap.min.css set `[hidden] { display: none !important; }` so we also need the `!important` here to be able to override the default hidden behavior on the sphinx rendered scikit-learn.org. See: https://github.com/scikit-learn/scikit-learn/issues/21755 */display: inline-block !important;position: relative;}#sk-container-id-4 div.sk-text-repr-fallback {display: none;}</style><div id=\"sk-container-id-4\" class=\"sk-top-container\"><div class=\"sk-text-repr-fallback\"><pre>LogisticRegression(max_iter=1000, multi_class=&#x27;multinomial&#x27;)</pre><b>In a Jupyter environment, please rerun this cell to show the HTML representation or trust the notebook. <br />On GitHub, the HTML representation is unable to render, please try loading this page with nbviewer.org.</b></div><div class=\"sk-container\" hidden><div class=\"sk-item\"><div class=\"sk-estimator sk-toggleable\"><input class=\"sk-toggleable__control sk-hidden--visually\" id=\"sk-estimator-id-4\" type=\"checkbox\" checked><label for=\"sk-estimator-id-4\" class=\"sk-toggleable__label sk-toggleable__label-arrow\">LogisticRegression</label><div class=\"sk-toggleable__content\"><pre>LogisticRegression(max_iter=1000, multi_class=&#x27;multinomial&#x27;)</pre></div></div></div></div></div>"
      ],
      "text/plain": [
       "LogisticRegression(max_iter=1000, multi_class='multinomial')"
      ]
     },
     "execution_count": 30,
     "metadata": {},
     "output_type": "execute_result"
    }
   ],
   "source": [
    "log_reg.fit(X_train,y_train)"
   ]
  },
  {
   "cell_type": "code",
   "execution_count": 33,
   "metadata": {},
   "outputs": [
    {
     "name": "stdout",
     "output_type": "stream",
     "text": [
      "              precision    recall  f1-score   support\n",
      "\n",
      "           C       0.47      0.09      0.15       393\n",
      "          KD       0.11      0.01      0.01       601\n",
      "           L       0.31      0.03      0.05       486\n",
      "           M       0.16      0.15      0.15      1037\n",
      "          MP       0.30      0.14      0.19       420\n",
      "           S       0.21      0.56      0.31      1093\n",
      "          SD       0.30      0.28      0.29       543\n",
      "           V       0.46      0.28      0.35       427\n",
      "\n",
      "    accuracy                           0.23      5000\n",
      "   macro avg       0.29      0.19      0.19      5000\n",
      "weighted avg       0.26      0.23      0.19      5000\n",
      "\n"
     ]
    }
   ],
   "source": [
    "from sklearn.metrics import classification_report, confusion_matrix\n",
    "\n",
    "y_pred = log_reg.predict(X_test)\n",
    "print(classification_report(y_test,y_pred))"
   ]
  }
 ],
 "metadata": {
  "kernelspec": {
   "display_name": "Python 3",
   "language": "python",
   "name": "python3"
  },
  "language_info": {
   "codemirror_mode": {
    "name": "ipython",
    "version": 3
   },
   "file_extension": ".py",
   "mimetype": "text/x-python",
   "name": "python",
   "nbconvert_exporter": "python",
   "pygments_lexer": "ipython3",
   "version": "3.9.2"
  },
  "orig_nbformat": 4
 },
 "nbformat": 4,
 "nbformat_minor": 2
}
