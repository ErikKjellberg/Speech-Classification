{
 "cells": [
  {
   "cell_type": "code",
   "execution_count": 1,
   "metadata": {},
   "outputs": [],
   "source": [
    "import spacy\n",
    "from spacy.lang.sv import Swedish\n",
    "from sklearn.feature_extraction.text import CountVectorizer,TfidfVectorizer\n",
    "from sklearn.decomposition import TruncatedSVD\n",
    "from sklearn.linear_model import LogisticRegression\n",
    "import os \n",
    "import json\n",
    "from bs4 import BeautifulSoup\n",
    "import numpy as np\n",
    "import string\n",
    "\n",
    "stop_words = spacy.lang.sv.stop_words.STOP_WORDS\n",
    "punctuations = string.punctuation\n",
    "\n",
    "nlp = spacy.load('sv_core_news_lg')\n",
    "\n",
    "def swedish_tokenizer(text):\n",
    "    doc = nlp(text)\n",
    "    return [token.lower_ for token in doc if token.text not in stop_words and token.text not in punctuations]\n",
    "\n",
    "tfidf_vectorizer = TfidfVectorizer(tokenizer=swedish_tokenizer,min_df=5)\n",
    "\n",
    "svd = TruncatedSVD(n_components=128)\n",
    "\n",
    "log_reg = LogisticRegression(multi_class=\"multinomial\", max_iter=1000)"
   ]
  },
  {
   "attachments": {},
   "cell_type": "markdown",
   "metadata": {},
   "source": [
    "<p>Extract the data in a very simple fashion.</p>"
   ]
  },
  {
   "cell_type": "code",
   "execution_count": 2,
   "metadata": {},
   "outputs": [
    {
     "name": "stdout",
     "output_type": "stream",
     "text": [
      "[0, 1000, 2000, 3000]\n"
     ]
    }
   ],
   "source": [
    "speeches = []\n",
    "parties = []\n",
    "\n",
    "possible_parties = [\"S\",\"M\",\"SD\",\"V\",\"MP\",\"C\",\"KD\",\"L\"]\n",
    "\n",
    "# The directory where data is located\n",
    "data_dirs = [\"speech_data/19_20/\",\"speech_data/20_21/\",\"speech_data/21_22/\",\"speech_data/22_23/\"]\n",
    "year_indices = [0,0,0,0]\n",
    "speeches_per_year = 1000\n",
    "data = []\n",
    "i = 0\n",
    "for year, data_dir in enumerate(data_dirs):\n",
    "    year_indices[year] = len(speeches)\n",
    "    speech_count = 0\n",
    "    for file in os.listdir(data_dir):\n",
    "        if file.endswith(\".json\"):\n",
    "            if speech_count >= speeches_per_year:\n",
    "                break\n",
    "            with open(data_dir+file,\"r\") as f:\n",
    "                data = json.load(f)\n",
    "                speech = data[\"anforande\"][\"anforandetext\"]\n",
    "                party = data[\"anforande\"][\"parti\"]\n",
    "                # If it is a party who has spoken,\n",
    "                if party in possible_parties:\n",
    "                    soup = BeautifulSoup(speech, 'html.parser')\n",
    "                    speech_text = \" \".join([p.get_text() for p in soup.find_all(\"p\")])\n",
    "                    if speech_text != \"\":\n",
    "                        parties.append(party)\n",
    "                        speeches.append(speech_text)\n",
    "                        speech_count += 1\n",
    "\n",
    "print(year_indices)\n",
    "assert len(parties) == len(speeches)"
   ]
  },
  {
   "cell_type": "code",
   "execution_count": 3,
   "metadata": {},
   "outputs": [
    {
     "name": "stdout",
     "output_type": "stream",
     "text": [
      "['Fru talman! Ann-Christine From Utterstedt gör sig nu skyldig till att blanda siffror och tider. Den siffran stämmer inte. Vi har inte den typen av överdödlighet i det här läget. Tvärtom ser vi nu att smittspridningen minskar och att antalet som vårdas i vanlig sjukvård och intensivvård minskar. Det gör att vi nu kan ta ytterligare steg framåt och börja med testning i stor skala, vilket regeringen nu har aviserat att vi kommer att se till att det finns resurser för. Vi kommer också att tillsätta en kommission som ska utvärdera pandemin och de åtgärder som vidtagits. Den kommer att ge resultat framöver.'\n",
      " 'Fru talman! Tack, Lena Micko, för svaret! Jag måste dock börja med att ifrågasätta påståendet i ministerns svar att nyanlända etablerar sig i en snabbare takt på arbetsmarknaden. Det är faktiskt vilseledande att påstå detta. Enligt en rapport jag själv har begärt från riksdagens utredningstjänst är det efter två år i etableringsreformen bara 6 procent av de nyanlända som finns i ett arbete utan stöd. 94 procent gör det inte. Hela den lilla förbättring som syns för utrikes födda i statistiken beror på att regeringen räknar personer i extratjänster som fast anställda med ett riktigt jobb, vilket som bekant inte är fallet. Extratjänsterna är en till mer än 100 procent skattefinansierad arbetsmarknadsåtgärd, och inte ett riktigt jobb. Om man räknar bort extratjänsterna är det rent av så att nyanländas etablering har blivit sämre, trots högkonjunkturen. Men, fru talman, nu över till huvudfrågan: kommunsektorns ansträngda ekonomi. Larmen från den svenska kommun- och regionsektorn kommer i strid ström, trots många år med högkonjunktur med goda skatteintäkter. Orsakerna är flera: demografiska förändringar med en större andel äldre och barn, kraftigt ökade kostnader för mottagandet av nyanlända och en regering som inte sköter statens åtaganden fullt ut utan vältrar över ansvaret på kommunerna. Det gäller exempelvis tryggheten, migrationen, arbetsförmedlingen, vuxenutbildningen och infrastrukturen. Inte sällan motarbetar dessutom statens egna myndigheter, exempelvis länsstyrelserna, kommunerna i frågor rörande till exempel byggnation och strandskydd. Detsamma gäller Trafikverket, som försvårar byggnation på landsbygd genom orimliga krav på begränsning av utfarter, krav på gång och cykelvägar och en massa annat. Kommunerna upplever ofta att de får allt fler uppgifter och allt mindre stöd från staten. Det nya kostnadsutjämningssystemet hjälper visserligen en del kommuner att få något mer resurser men medför samtidigt att andra kommuner får avsevärt mindre. Att bara omfördela kostnaderna mellan kommunerna löser inga långsiktiga problem. Moderaterna välkomnar såklart att en del kommuner får ökade resurser tack vare det nya kostnadsutjämningssystemet, men vi hade samtidigt velat se en förändring så att inte någon kommun samtidigt får minskade resurser. Och då behövs mer pengar i systemet - pengar som vi moderater har satt av i vår budget. JÖK-partiernas budget fokuserar tyvärr på helt andra saker än kommunerna och välfärden. Socialdemokraterna talar mycket om behovet av mer pengar till kommunerna, men deras politik prioriterar annat. I den så kallade JÖK-budgeten fick kommunsektorn stå tillbaka. Vi moderater gör tvärtom och tillför kommunsektorn 50 procent mer i nya pengar än vad regeringen gör i budgeten för 2020. Dessutom gör vi om betydande delar av de riktade statsbidragen till generella, vilket ökar kommunernas handlingsutrymme. Vi moderater effektiviserar och lägger ned myndigheter. Vi justerar ned biståndet mot FN:s rekommenderade mål. Vi säger nej till meningslösa byggsubventioner, ineffektiv klimatpolitik, extratjänster, friår, familjevecka och elcykelpremier. Vi stramar upp migrations- och integrationspolitiken, vi inför bidragstak och kvalificering för nyanlända i bidragssystemen och vi inför villkor i försörjningsstödet. Vi avskaffar även ränteavdrag för sms-lån och kontokortskrediter.  STYLEREF Kantrubrik \\\\* MERGEFORMAT Svar på interpellationer Allt detta ger oss utrymme att satsa mycket mer på välfärden och kommunerna, polisen och rättsväsendet. Det ger oss utrymme att sänka skatter för både löntagare och pensionärer, att sänka drivmedelsskatterna med 1\\xa0krona per liter och att samtidigt ha större överskott i statsfinanserna än regeringen och stödpartierna. Med vår moderata politik blir det mer pengar till välfärden och kommunerna. Med Socialdemokraternas politik får kommuner och landsting stå tillbaka. Fru talman! Lena Micko säger många vackra saker i sitt interpellationssvar, men tyvärr lever inte politiken upp till detta. Jag vill därför fråga Lena Micko igen hur hon menar att Socialdemokraterna ska klara att tillföra kommunsektorn mer pengar när man prioriterar helt andra saker i sin budget.'\n",
      " ' Fru talman! Under slutet av förra året inrättade regeringen en välfärdskommission som syftar till att hitta metoder för att stärka välfärden på olika sätt. Det är ett mycket bra och viktigt initiativ med tanke på de utmaningar som vi står inför inom svensk välfärd.  Men till min stora förvåning och besvikelse har regeringen bjudit in enbart företrädare för stat, regioner, kommuner och fackförbund att sitta med i kommissionen. Privat drivna verksamheter inom vård och omsorg är en naturlig del av välfärdens vardag. Tyvärr verkar inte regeringen dela denna uppfattning. De privata företrädarna har alltså inte fått någon plats i kommissionen. Det är mycket olyckligt och bekymmersamt.  Min fråga går därför till statsrådet Lena Micko. Vad är tanken med att regeringen har satt ihop en välfärdskommission utan representation från de privata välfärdsföretagen, och hur tänker man ta till vara den kunskap och kompetens som faktiskt finns där?'\n",
      " ' STYLEREF Kantrubrik \\\\* MERGEFORMAT Svar på interpellationer Herr talman! Jag tackar både Jens Holm och Hans Rothenberg. Vi märker ju att vi är överens både om de utmaningar som finns och om de möjligheter som finns. Jag kommer att träffa branschen för att tala med dem såväl om deras perspektiv som om deras ansvar för att inte hamna i en situation där en aggressiv etablering och brist på ansvarstagande leder till krav på att förbjuda elsparkcyklar. Det tror jag vore olyckligt. Vi har sett den tendensen i andra städer ute i världen. Till och med på Manhattan var elsparkcyklar förbjudna, men det kommer att förändras framöver. Jag ska naturligtvis också läsa motionerna. Detta är någonting som vi ska arbeta med brett tillsammans. Jag vill dock varna för spontana lagförslag på DN Debatt som bygger på en egen uppfattning av vad som rapporteras i medier. Detta är lagstiftning. Detta är regler som ska kunna tillämpas teknikneutralt på det som kommer efter elsparkcyklar och på andra typer av fordon. Därför behövs ett gediget underlag för de lagstiftningsförslag eller de regeländringar vi ska göra. Jag ser naturligtvis att det är bråttom med en hel del regleringar, men jag delar också den uppfattning som Jens Holm och - tror jag - Hans Rothenberg framför om att det redan i dag finns verktyg att använda. Kommunerna kan använda ordningslagen i större utsträckning. Man kan ha tydligare dialog med uthyrningsföretagen. Man kan även vara tydlig med vilka regler som gäller i dag. För eventuella lyssnare som följer denna debatt kan det också vara bra att veta att de regler som gäller i dag är samma regler som för cykling. Detta innebär att minderåriga ska bära hjälm, att det inte är okej att köra dessa fordon gravt berusad och att man inte ska åka två på ett enpersonsfordon. Det är ganska grundläggande, enkla regler om var man ska köra och var man inte ska köra. Det finns också möjlighet för kommunen att göra ytterligare tillämpningsföreskrifter. Redan i dag finns alltså ett verktyg för att göra saker. Låt oss se till att detta sker på ett ordnat sätt och på ett sätt som innebär att vi tar chansen att skapa det som i debatten brukar kallas mobility as a service, det vill säga att vi ökar mobiliteten i städer så att de sista 300 meterna till mötet inte behöver gå med bil utan kanske kan gå med en elsparkcykel. Låt oss samtidigt vara tydliga med de risker som kan finnas, till exempel när det gäller miljöaspekter eller nedskräpningsaspekter, och se till att kommunerna har kännedom och kunskap och tillämpar de verktyg som finns till förfogande. Det uppdrag som Transportstyrelsen har innebär att man brett kommer att belysa flera olika aspekter. Den första rapporteringen ska komma redan i mars 2020. Sedan kommer man fortlöpande under åren framöver att kunna rapportera om olika andra delar. Jag hoppas på en bra dialog även i fortsättningen. Jag hoppas att vi alla inser att detta fordon, som är både älskat och hatat, nog har kommit för att stanna. Låt oss se till att vi nu skapar en ordning och reda i trafiksituationen i städerna som gör att funktionshindrade kan känna trygghet, att vi får ned antalet olyckor med oskyddade trafikanter, att vi hittar en samordning där cyklar, elsparkcyklar och andra typer av fordon faktiskt kan samsas i trafiken och - framför allt - att vi inser att detta kan skapa fler möjligheter till möten mellan människor.  STYLEREF Kantrubrik \\\\* MERGEFORMAT Svar på interpellationer Men då krävs ansvarstagande från företagen och tydliga regler om vad som gäller. Då krävs ett ansvarstagande hos kommunerna och att man faktiskt tillämpar de regler som finns för uppsamling och för ordning och reda. Då krävs naturligtvis också att vi tittar på alla möjligheter. Kanske krävs en annan definition eller att vi hittar andra möjligheter att reglera det som ska vara framtida fordon. Då talar vi om teknikneutral lagstiftning - jag vill ändå säga det. Nu är det elsparkcyklar, men om några år kan det vara någonting helt annat vi talar om. Låt oss därför hålla debatten på ett sätt som gör att vi skapar ett regelverk som också kan fungera om tre eller fem år.'\n",
      " 'Fru talman! Det finns några olika skäl till att jag svarar på frågorna, och ett är att det ganska ofta blir en hälso- och sjukvårdsdebatt. Det är klart att det är en fråga om hur vi ska se till att kompetensen räcker till. Det är ju inte bara en fråga om resurser som saknas när man inte har tillräckligt med personal, till exempel, eller en primärvårdsreform som handlar både om tidigare insatser för att på sikt minska kostnaderna för specialiserad vård och om ett förebyggande arbete, som också är otroligt viktigt och som inte går att ta ut i år eller nästa år. Om vi inte lyckas med ett förebyggande arbete kommer inte bara behoven utan också kostnaderna att öka för till exempel läkemedel. Det finns ett annat skäl till att jag har fått interpellationen. Jag tror att Ulla Andersson är medveten om att även om finansministern skulle ha stått här i en interpellationsdebatt, innan budgeten för 2020 är klubbad, skulle hon inte ha berättat för Ulla Andersson hur tankarna går inför vårändringsbudgeten och nästa budget. Men det är tydligt - det har till och med Stefan Löfven varit tydlig med - att välfärden prioriteras väldigt högt. För oss går det före andra satsningar. Men precis som när Ulla Andersson och Vänsterpartiet under förra mandatperioden var med är det alltid en fråga om att ta och ge. Det var inte så svårt att samarbeta när det gällde resurser till hälso- och sjukvård, äldreomsorg och socialtjänst. Men det är alltid en fråga om att prioritera även då.  STYLEREF Kantrubrik \\\\* MERGEFORMAT Svar på interpellationer De tuffa tiderna i kommuner och regioner går inte staten förbi, vilket är viktigt att understryka, så det kommer att vara viktigt att stå upp för prioriteringarna för välfärden framöver. Välfärdskommissionen är ett arbete som också är viktigt att sätta i verket och börja arbeta med för att långsiktigt inte bara räkna fram vad underskotten blir och fundera på vem som ska täcka eventuella underskott, utan också hur man kan minska kostnaderna och fundera över hur man långsiktigt ska säkra välfärden. Kostnadsutjämningssystemet nämner jag därför att det spelar roll. Någon region har fått förstärkning - jag tror att det var Jämtland - men de använde inte pengarna till mer vård utan för att förbättra sin likviditet. Den frågan debatteras och diskuteras i Jämtland, gissar jag. Men det var förstås ett tillskott som var viktigt och som jag hade föreställt mig skulle gå till att förstärka hälso- och sjukvårdens förutsättningar. Det är klart att de satsningar som har gjorts de gångna åren kommer att fortsätta. Även om kommunerna tycker att de 5 miljarderna årligen till kommuner och regioner redan är inräknade är det sammantaget ett stort tillskott. Jag är väl medveten om att det inte kommer att räcka utifrån behoven och underskotten i allt fler regioner. Detta är en fråga som vi verkligen får följa, och det inkluderar såväl mig själv som finansministern och övriga regeringen.'\n",
      " 'Fru talman! Det finns i dag stora möjligheter för polis, myndigheter och privata aktörer att använda sig av kameraövervakning av platser dit allmänheten har tillträde. Det krävs i dag tillstånd för att sätta upp en kamera, och det är bra. Det ska vara kontroll, övervägande och integritet som råder när samhället ska övervakas. Vi vill inte ha det som i diktaturer som Kina, som ständigt övervakar sin befolkning, både via kameror och på andra sätt. Har du inget att dölja behöver du inte oroa dig - det ligger illa i munnen på den liberala demokraten som förespråkar mer övervakning men inte blickar ut i världen och ser vad som händer med människors frihet när staten går in och övervakar varje steg man tar. I Sverige är vi inte där - än. Men fler kameror sätts upp. Det lagstiftas om fler former av övervakning av enskilda individer. Alltför få frågar sig vilket samhälle det här kommer att leda till. Politiker vill stävja kriminalitet och visa sig handlingskraftiga. Det är ganska naivt. Även politiken måste stanna upp, vidga blicken och fråga sig vilket samhälle vi vill ha. Visst kan fler kameror på gator och torg kännas bra. Ibland kanske bilder till och med kan vara med och lösa brott, och det är såklart bra. Men när kameror sätts upp, vilka andra åtgärder är det som inte sätts in för att kameror anses som \"good enough\"? Regeringen föreslår att kravet på tillstånd för kameror i kollektivtrafiken tas bort. Flera remissinstanser varnar för förslaget. Advokatsamfundet menar att förslaget om att sätta upp kameror riskerar att beslutas för lättvindigt. Datainspektionen, LO och Seko är kritiska. Vi ska också komma ihåg att kameraövervakning leder till en liten minskning av brottslighet och fungerar bäst mot egendomsbrott och drogbrottslighet. Mot våldsbrott under alkoholpåverkan är kameror inte avskräckande. Passiva kameror ger ingen effekt, medan övervakning i realtid ger en minskning av kriminaliteten på 15 procent. Men det drar också enorma resurser att realtidsövervaka, vilket gör att den formen av kameraövervakning inte är lika vanlig. Däremot är det ett sätt att invagga människor i en falsk trygghet.  STYLEREF Kantrubrik \\\\* MERGEFORMAT Kamerabevakning i kollektivtrafik och apotek - ett enklare förfarande Det finns många anledningar att vara kritisk mot kameraövervakningens effekter och att ständigt ifrågasätta och tänka till när det kommer till olika former av statlig övervakning av befolkningen. Det gör Vänsterpartiet. Därför yrkar jag avslag på propositionen och bifall till reservation 1. Fru talman! Vill vi minska kriminaliteten på riktigt är det inte kameraövervakning i varje hörn och poliser bakom varje buske som är den egentliga lösningen, även om just det scenariot är högerpartiernas våta dröm. Då är det betydligt enklare lösningar som behövs, som att minska de ekonomiska klyftorna mellan folk, för fattigdom föder också kriminalitet. Vi behöver se till att vi har en skola som kan utbilda varenda unge och att det finns en arbetsmarknad med trygga jobb i stället för en regering som med alla medel vill slå sönder anställningstryggheten. Det krävs modiga politiker som vågar satsa långsiktigt på välfärden och på folket och slutar pumpa in stöd till storföretag som inte ens betalar skatt i Sverige. Det behövs en omfördelning från eliten till folket. Det är att brottsförebygga. Det är att stärka jämlikheten. Det är att krossa kriminaliteten.'\n",
      " 'Herr talman! Det är statsministern och regeringen som bär det fulla ansvaret för kaoset i Arbetsförmedlingen. Jag är förvånad över att man inte är beredd att ta det politiska ansvaret för de myndigheter som man är direkt ansvarig för. Om pengarna inte räcker får man skjuta till mer medel. Det är regeringens ansvar. Arbetsförmedlingen är i något som liknar fritt fall i stora delar av Sverige. Regeringen kan inte undgå sitt ansvar. Regeringen är också skyldig att lyssna på riksdagens majoritet. Om det inte finns en majoritet i riksdagen för politiken måste regeringen anpassa politiken efter det. Detta gäller även regeringen Stefan Löfven. Annars kan det sluta på ett dåligt vis. Statsministern undvek noga att ens beröra den fråga jag ställde, nämligen om denna typ av tvångsprivatisering genom lagen om valfrihet faktiskt är bästa medlet att hjälpa Sveriges arbetslösa. Min fråga är: Bestämde statsministern själv? Om statsministern inte hade skrivit under det olycksaliga januariavtalet, skulle han då välja att använda privatiseringen via LOV när det gäller Arbetsförmedlingen?'\n",
      " 'Fru talman! Kjell-Arne Ottosson har frågat stadsrådet Hallberg om erkännande av färöiska körkort. Arbetet inom regeringen är så fördelat att det är jag som ska svara på frågan. Den som har ett körkort utfärdat i Färöarna får köra i Sverige enligt sitt körkort. Har körkortsinnehavaren varit folkbokförd i Sverige i mer än ett år behöver personen dock ta ett svenskt körkort för att kunna fortsätta köra här. Om personen bor tillfälligt i Sverige för exempelvis studier eller arbete kan undantag sökas om att körkortet ska gälla för längre tid än ett år. Jag har förståelse för att denna ordning kan skapa problem för körkortsinnehavare från Färöarna. Frågan om Sverige ska erkänna och byta ut körkort som utfärdats i länder utanför EES i vidare mån än i dag är komplex och innehåller bland annat frågor om trafiksäkerhet och andra säkerhetsaspekter. Det finns även rekommendationer från EU att förhålla sig till. Jag ser frågan som angelägen, och den bereds för närvarande inom Regeringskansliet.'\n",
      " 'Fru talman! Vi kristdemokrater har de senaste veckorna lagt fram en rad skarpa förslag för att hjälpa till bland de krisande företagen i Sverige. Vi har bland annat lyft fram mediehusens situation, där annonsintäkterna nu försvunnit snabbt i ett läge när journalisterna verkligen behövs mer än någonsin. Där har vi nu ett förslag som vi hoppas att regeringen och dess stödpartier ska anamma, nämligen ett lönestöd för tidningar. Det är viktigt att vi gör någonting, och det är viktigt att vi gör någonting snabbt.  STYLEREF Kantrubrik \\\\* MERGEFORMAT Särskild debatt om mediernas och kulturens oberoende Jag ersätter i dag vår kulturpolitiske talesperson Roland Utbult som tyvärr är sjuk och sängliggande och därför inte kan närvara. Den debatt som vi har i dag handlar inte bara om medier utan också om kultur. Jag tänkte därför läsa upp vad Roland Utbult skrev i en debattartikel alldeles nyligen, där han lyfter fram båda dessa perspektiv i en av kvällstidningarna: \"Som kulturpolitisk talesperson för Kristdemokraterna höjer jag gärna rösten. Mediernas oberoende ska värnas och hela kulturlivet ska stå fritt!\" Inför den här debatten satt jag naturligtvis och funderade över vad kultur är. Det är väldigt svårt att sammanfatta. För många av oss tror jag att en konsert, en bok, ett tv-program eller en musiklektion är ett konkret uttryck för vad kulturen kan vara i din och min vardag. Men jag vill på något sätt ändå beröra vad som är grund för kulturen. Vi kristdemokrater anser att kulturen hjälper dig och mig att vidga vår verklighet och vår fantasi. Kulturen hjälper oss att växa som empatiska människor, och därför är den en viktig del av ett sammanhållet samhälle. Kulturen, precis som moralen, håller ihop gemenskaper. Den är med och skapar förutsättningar för ett gott samhälle. Det politiska målet måste därför vara att stödja, inte att styra, och ge alla människor möjligheter att delta i ett starkt och oberoende kulturliv.'\n",
      " ' STYLEREF Kantrubrik \\\\* MERGEFORMAT Partiledardebatt Herr talman! År 2019 var som vi alla vet ett oerhört intensivt år i svensk politik, där vi började med att få ett januariavtal på plats, som gav Sverige en välbehövlig liberal reformagenda. Men det var också ett år som innebar en annan förändring i den svenska politiken - en helt annan spelplan, där Ulf Kristersson och Moderaterna öppnade för det som de tidigare så tydligt hade förkastat, nämligen ett närmare samarbete med Jimmie Åkesson och Sverigedemokraterna. Mötet mellan Moderaternas och Sverigedemokraternas partiledare och beskedet om ett samarbete framåt väckte väldigt många funderingar. Min ärliga och uppriktiga fråga till Ulf Kristersson är därför: Vad vill Moderaterna med samarbetet med Sverigedemokraterna? Är det första steget i att bygga ett nytt konservativt block i svensk politik? (Applåder)']\n",
      "['MP' 'M' 'C' 'S' 'S' 'V' 'V' 'S' 'KD' 'C']\n"
     ]
    }
   ],
   "source": [
    "speeches = np.array(speeches)\n",
    "parties = np.array(parties)\n",
    "print(speeches[:10])\n",
    "print(parties[:10])"
   ]
  },
  {
   "cell_type": "code",
   "execution_count": 4,
   "metadata": {},
   "outputs": [
    {
     "name": "stdout",
     "output_type": "stream",
     "text": [
      "{'S': 0, 'M': 1, 'SD': 2, 'V': 3, 'MP': 4, 'C': 5, 'KD': 6, 'L': 7}\n",
      "{0: 'S', 1: 'M', 2: 'SD', 3: 'V', 4: 'MP', 5: 'C', 6: 'KD', 7: 'L'}\n",
      "['MP' 'M' 'C' 'S' 'S' 'V' 'V' 'S' 'KD' 'C' 'SD' 'SD' 'S' 'M' 'S' 'S' 'M'\n",
      " 'SD' 'KD' 'M']\n",
      "[4, 1, 5, 0, 0, 3, 3, 0, 6, 5, 2, 2, 0, 1, 0, 0, 1, 2, 6, 1]\n"
     ]
    }
   ],
   "source": [
    "# Turn parties to index\n",
    "party_to_number = {}\n",
    "number_to_party = {}\n",
    "for i, p in enumerate(possible_parties):\n",
    "    party_to_number[p] = i\n",
    "    number_to_party[i] = p\n",
    "\n",
    "print(party_to_number)\n",
    "print(number_to_party)\n",
    "print(parties[:20])\n",
    "parties = [party_to_number.get(p) for p in parties]\n",
    "print(parties[:20])"
   ]
  },
  {
   "cell_type": "code",
   "execution_count": 3,
   "metadata": {},
   "outputs": [],
   "source": [
    "#train_stop = year_indices[3]\n",
    "#test_stop = len(speeches)\n",
    "\n",
    "train_stop = speeches_per_year*3\n",
    "test_stop = speeches_per_year*4\n",
    "\n",
    "X_train = speeches[:train_stop]\n",
    "y_train = parties[:train_stop]\n",
    "\n",
    "X_test = speeches[train_stop:train_stop+test_stop]\n",
    "y_test = parties[train_stop:train_stop+test_stop]"
   ]
  },
  {
   "cell_type": "code",
   "execution_count": 4,
   "metadata": {},
   "outputs": [
    {
     "ename": "NotFittedError",
     "evalue": "Vocabulary not fitted or provided",
     "output_type": "error",
     "traceback": [
      "\u001b[0;31m---------------------------------------------------------------------------\u001b[0m",
      "\u001b[0;31mNotFittedError\u001b[0m                            Traceback (most recent call last)",
      "Cell \u001b[0;32mIn[4], line 1\u001b[0m\n\u001b[0;32m----> 1\u001b[0m tfidf_vectorizer\u001b[39m.\u001b[39;49mget_feature_names_out()\n",
      "File \u001b[0;32m~/anaconda3/lib/python3.10/site-packages/sklearn/feature_extraction/text.py:1483\u001b[0m, in \u001b[0;36mCountVectorizer.get_feature_names_out\u001b[0;34m(self, input_features)\u001b[0m\n\u001b[1;32m   1470\u001b[0m \u001b[39mdef\u001b[39;00m \u001b[39mget_feature_names_out\u001b[39m(\u001b[39mself\u001b[39m, input_features\u001b[39m=\u001b[39m\u001b[39mNone\u001b[39;00m):\n\u001b[1;32m   1471\u001b[0m     \u001b[39m\"\"\"Get output feature names for transformation.\u001b[39;00m\n\u001b[1;32m   1472\u001b[0m \n\u001b[1;32m   1473\u001b[0m \u001b[39m    Parameters\u001b[39;00m\n\u001b[0;32m   (...)\u001b[0m\n\u001b[1;32m   1481\u001b[0m \u001b[39m        Transformed feature names.\u001b[39;00m\n\u001b[1;32m   1482\u001b[0m \u001b[39m    \"\"\"\u001b[39;00m\n\u001b[0;32m-> 1483\u001b[0m     \u001b[39mself\u001b[39;49m\u001b[39m.\u001b[39;49m_check_vocabulary()\n\u001b[1;32m   1484\u001b[0m     \u001b[39mreturn\u001b[39;00m np\u001b[39m.\u001b[39masarray(\n\u001b[1;32m   1485\u001b[0m         [t \u001b[39mfor\u001b[39;00m t, i \u001b[39min\u001b[39;00m \u001b[39msorted\u001b[39m(\u001b[39mself\u001b[39m\u001b[39m.\u001b[39mvocabulary_\u001b[39m.\u001b[39mitems(), key\u001b[39m=\u001b[39mitemgetter(\u001b[39m1\u001b[39m))],\n\u001b[1;32m   1486\u001b[0m         dtype\u001b[39m=\u001b[39m\u001b[39mobject\u001b[39m,\n\u001b[1;32m   1487\u001b[0m     )\n",
      "File \u001b[0;32m~/anaconda3/lib/python3.10/site-packages/sklearn/feature_extraction/text.py:510\u001b[0m, in \u001b[0;36m_VectorizerMixin._check_vocabulary\u001b[0;34m(self)\u001b[0m\n\u001b[1;32m    508\u001b[0m     \u001b[39mself\u001b[39m\u001b[39m.\u001b[39m_validate_vocabulary()\n\u001b[1;32m    509\u001b[0m     \u001b[39mif\u001b[39;00m \u001b[39mnot\u001b[39;00m \u001b[39mself\u001b[39m\u001b[39m.\u001b[39mfixed_vocabulary_:\n\u001b[0;32m--> 510\u001b[0m         \u001b[39mraise\u001b[39;00m NotFittedError(\u001b[39m\"\u001b[39m\u001b[39mVocabulary not fitted or provided\u001b[39m\u001b[39m\"\u001b[39m)\n\u001b[1;32m    512\u001b[0m \u001b[39mif\u001b[39;00m \u001b[39mlen\u001b[39m(\u001b[39mself\u001b[39m\u001b[39m.\u001b[39mvocabulary_) \u001b[39m==\u001b[39m \u001b[39m0\u001b[39m:\n\u001b[1;32m    513\u001b[0m     \u001b[39mraise\u001b[39;00m \u001b[39mValueError\u001b[39;00m(\u001b[39m\"\u001b[39m\u001b[39mVocabulary is empty\u001b[39m\u001b[39m\"\u001b[39m)\n",
      "\u001b[0;31mNotFittedError\u001b[0m: Vocabulary not fitted or provided"
     ]
    }
   ],
   "source": []
  },
  {
   "cell_type": "code",
   "execution_count": 5,
   "metadata": {},
   "outputs": [
    {
     "name": "stdout",
     "output_type": "stream",
     "text": [
      "['Fru talman! Ann-Christine From Utterstedt gör sig nu skyldig till att blanda siffror och tider. Den siffran stämmer inte. Vi har inte den typen av överdödlighet i det här läget. Tvärtom ser vi nu att smittspridningen minskar och att antalet som vårdas i vanlig sjukvård och intensivvård minskar. Det gör att vi nu kan ta ytterligare steg framåt och börja med testning i stor skala, vilket regeringen nu har aviserat att vi kommer att se till att det finns resurser för. Vi kommer också att tillsätta en kommission som ska utvärdera pandemin och de åtgärder som vidtagits. Den kommer att ge resultat framöver.'\n",
      " 'Fru talman! Tack, Lena Micko, för svaret! Jag måste dock börja med att ifrågasätta påståendet i ministerns svar att nyanlända etablerar sig i en snabbare takt på arbetsmarknaden. Det är faktiskt vilseledande att påstå detta. Enligt en rapport jag själv har begärt från riksdagens utredningstjänst är det efter två år i etableringsreformen bara 6 procent av de nyanlända som finns i ett arbete utan stöd. 94 procent gör det inte. Hela den lilla förbättring som syns för utrikes födda i statistiken beror på att regeringen räknar personer i extratjänster som fast anställda med ett riktigt jobb, vilket som bekant inte är fallet. Extratjänsterna är en till mer än 100 procent skattefinansierad arbetsmarknadsåtgärd, och inte ett riktigt jobb. Om man räknar bort extratjänsterna är det rent av så att nyanländas etablering har blivit sämre, trots högkonjunkturen. Men, fru talman, nu över till huvudfrågan: kommunsektorns ansträngda ekonomi. Larmen från den svenska kommun- och regionsektorn kommer i strid ström, trots många år med högkonjunktur med goda skatteintäkter. Orsakerna är flera: demografiska förändringar med en större andel äldre och barn, kraftigt ökade kostnader för mottagandet av nyanlända och en regering som inte sköter statens åtaganden fullt ut utan vältrar över ansvaret på kommunerna. Det gäller exempelvis tryggheten, migrationen, arbetsförmedlingen, vuxenutbildningen och infrastrukturen. Inte sällan motarbetar dessutom statens egna myndigheter, exempelvis länsstyrelserna, kommunerna i frågor rörande till exempel byggnation och strandskydd. Detsamma gäller Trafikverket, som försvårar byggnation på landsbygd genom orimliga krav på begränsning av utfarter, krav på gång och cykelvägar och en massa annat. Kommunerna upplever ofta att de får allt fler uppgifter och allt mindre stöd från staten. Det nya kostnadsutjämningssystemet hjälper visserligen en del kommuner att få något mer resurser men medför samtidigt att andra kommuner får avsevärt mindre. Att bara omfördela kostnaderna mellan kommunerna löser inga långsiktiga problem. Moderaterna välkomnar såklart att en del kommuner får ökade resurser tack vare det nya kostnadsutjämningssystemet, men vi hade samtidigt velat se en förändring så att inte någon kommun samtidigt får minskade resurser. Och då behövs mer pengar i systemet - pengar som vi moderater har satt av i vår budget. JÖK-partiernas budget fokuserar tyvärr på helt andra saker än kommunerna och välfärden. Socialdemokraterna talar mycket om behovet av mer pengar till kommunerna, men deras politik prioriterar annat. I den så kallade JÖK-budgeten fick kommunsektorn stå tillbaka. Vi moderater gör tvärtom och tillför kommunsektorn 50 procent mer i nya pengar än vad regeringen gör i budgeten för 2020. Dessutom gör vi om betydande delar av de riktade statsbidragen till generella, vilket ökar kommunernas handlingsutrymme. Vi moderater effektiviserar och lägger ned myndigheter. Vi justerar ned biståndet mot FN:s rekommenderade mål. Vi säger nej till meningslösa byggsubventioner, ineffektiv klimatpolitik, extratjänster, friår, familjevecka och elcykelpremier. Vi stramar upp migrations- och integrationspolitiken, vi inför bidragstak och kvalificering för nyanlända i bidragssystemen och vi inför villkor i försörjningsstödet. Vi avskaffar även ränteavdrag för sms-lån och kontokortskrediter.  STYLEREF Kantrubrik \\\\* MERGEFORMAT Svar på interpellationer Allt detta ger oss utrymme att satsa mycket mer på välfärden och kommunerna, polisen och rättsväsendet. Det ger oss utrymme att sänka skatter för både löntagare och pensionärer, att sänka drivmedelsskatterna med 1\\xa0krona per liter och att samtidigt ha större överskott i statsfinanserna än regeringen och stödpartierna. Med vår moderata politik blir det mer pengar till välfärden och kommunerna. Med Socialdemokraternas politik får kommuner och landsting stå tillbaka. Fru talman! Lena Micko säger många vackra saker i sitt interpellationssvar, men tyvärr lever inte politiken upp till detta. Jag vill därför fråga Lena Micko igen hur hon menar att Socialdemokraterna ska klara att tillföra kommunsektorn mer pengar när man prioriterar helt andra saker i sin budget.'\n",
      " ' Fru talman! Under slutet av förra året inrättade regeringen en välfärdskommission som syftar till att hitta metoder för att stärka välfärden på olika sätt. Det är ett mycket bra och viktigt initiativ med tanke på de utmaningar som vi står inför inom svensk välfärd.  Men till min stora förvåning och besvikelse har regeringen bjudit in enbart företrädare för stat, regioner, kommuner och fackförbund att sitta med i kommissionen. Privat drivna verksamheter inom vård och omsorg är en naturlig del av välfärdens vardag. Tyvärr verkar inte regeringen dela denna uppfattning. De privata företrädarna har alltså inte fått någon plats i kommissionen. Det är mycket olyckligt och bekymmersamt.  Min fråga går därför till statsrådet Lena Micko. Vad är tanken med att regeringen har satt ihop en välfärdskommission utan representation från de privata välfärdsföretagen, och hur tänker man ta till vara den kunskap och kompetens som faktiskt finns där?'\n",
      " ' STYLEREF Kantrubrik \\\\* MERGEFORMAT Svar på interpellationer Herr talman! Jag tackar både Jens Holm och Hans Rothenberg. Vi märker ju att vi är överens både om de utmaningar som finns och om de möjligheter som finns. Jag kommer att träffa branschen för att tala med dem såväl om deras perspektiv som om deras ansvar för att inte hamna i en situation där en aggressiv etablering och brist på ansvarstagande leder till krav på att förbjuda elsparkcyklar. Det tror jag vore olyckligt. Vi har sett den tendensen i andra städer ute i världen. Till och med på Manhattan var elsparkcyklar förbjudna, men det kommer att förändras framöver. Jag ska naturligtvis också läsa motionerna. Detta är någonting som vi ska arbeta med brett tillsammans. Jag vill dock varna för spontana lagförslag på DN Debatt som bygger på en egen uppfattning av vad som rapporteras i medier. Detta är lagstiftning. Detta är regler som ska kunna tillämpas teknikneutralt på det som kommer efter elsparkcyklar och på andra typer av fordon. Därför behövs ett gediget underlag för de lagstiftningsförslag eller de regeländringar vi ska göra. Jag ser naturligtvis att det är bråttom med en hel del regleringar, men jag delar också den uppfattning som Jens Holm och - tror jag - Hans Rothenberg framför om att det redan i dag finns verktyg att använda. Kommunerna kan använda ordningslagen i större utsträckning. Man kan ha tydligare dialog med uthyrningsföretagen. Man kan även vara tydlig med vilka regler som gäller i dag. För eventuella lyssnare som följer denna debatt kan det också vara bra att veta att de regler som gäller i dag är samma regler som för cykling. Detta innebär att minderåriga ska bära hjälm, att det inte är okej att köra dessa fordon gravt berusad och att man inte ska åka två på ett enpersonsfordon. Det är ganska grundläggande, enkla regler om var man ska köra och var man inte ska köra. Det finns också möjlighet för kommunen att göra ytterligare tillämpningsföreskrifter. Redan i dag finns alltså ett verktyg för att göra saker. Låt oss se till att detta sker på ett ordnat sätt och på ett sätt som innebär att vi tar chansen att skapa det som i debatten brukar kallas mobility as a service, det vill säga att vi ökar mobiliteten i städer så att de sista 300 meterna till mötet inte behöver gå med bil utan kanske kan gå med en elsparkcykel. Låt oss samtidigt vara tydliga med de risker som kan finnas, till exempel när det gäller miljöaspekter eller nedskräpningsaspekter, och se till att kommunerna har kännedom och kunskap och tillämpar de verktyg som finns till förfogande. Det uppdrag som Transportstyrelsen har innebär att man brett kommer att belysa flera olika aspekter. Den första rapporteringen ska komma redan i mars 2020. Sedan kommer man fortlöpande under åren framöver att kunna rapportera om olika andra delar. Jag hoppas på en bra dialog även i fortsättningen. Jag hoppas att vi alla inser att detta fordon, som är både älskat och hatat, nog har kommit för att stanna. Låt oss se till att vi nu skapar en ordning och reda i trafiksituationen i städerna som gör att funktionshindrade kan känna trygghet, att vi får ned antalet olyckor med oskyddade trafikanter, att vi hittar en samordning där cyklar, elsparkcyklar och andra typer av fordon faktiskt kan samsas i trafiken och - framför allt - att vi inser att detta kan skapa fler möjligheter till möten mellan människor.  STYLEREF Kantrubrik \\\\* MERGEFORMAT Svar på interpellationer Men då krävs ansvarstagande från företagen och tydliga regler om vad som gäller. Då krävs ett ansvarstagande hos kommunerna och att man faktiskt tillämpar de regler som finns för uppsamling och för ordning och reda. Då krävs naturligtvis också att vi tittar på alla möjligheter. Kanske krävs en annan definition eller att vi hittar andra möjligheter att reglera det som ska vara framtida fordon. Då talar vi om teknikneutral lagstiftning - jag vill ändå säga det. Nu är det elsparkcyklar, men om några år kan det vara någonting helt annat vi talar om. Låt oss därför hålla debatten på ett sätt som gör att vi skapar ett regelverk som också kan fungera om tre eller fem år.'\n",
      " 'Fru talman! Det finns några olika skäl till att jag svarar på frågorna, och ett är att det ganska ofta blir en hälso- och sjukvårdsdebatt. Det är klart att det är en fråga om hur vi ska se till att kompetensen räcker till. Det är ju inte bara en fråga om resurser som saknas när man inte har tillräckligt med personal, till exempel, eller en primärvårdsreform som handlar både om tidigare insatser för att på sikt minska kostnaderna för specialiserad vård och om ett förebyggande arbete, som också är otroligt viktigt och som inte går att ta ut i år eller nästa år. Om vi inte lyckas med ett förebyggande arbete kommer inte bara behoven utan också kostnaderna att öka för till exempel läkemedel. Det finns ett annat skäl till att jag har fått interpellationen. Jag tror att Ulla Andersson är medveten om att även om finansministern skulle ha stått här i en interpellationsdebatt, innan budgeten för 2020 är klubbad, skulle hon inte ha berättat för Ulla Andersson hur tankarna går inför vårändringsbudgeten och nästa budget. Men det är tydligt - det har till och med Stefan Löfven varit tydlig med - att välfärden prioriteras väldigt högt. För oss går det före andra satsningar. Men precis som när Ulla Andersson och Vänsterpartiet under förra mandatperioden var med är det alltid en fråga om att ta och ge. Det var inte så svårt att samarbeta när det gällde resurser till hälso- och sjukvård, äldreomsorg och socialtjänst. Men det är alltid en fråga om att prioritera även då.  STYLEREF Kantrubrik \\\\* MERGEFORMAT Svar på interpellationer De tuffa tiderna i kommuner och regioner går inte staten förbi, vilket är viktigt att understryka, så det kommer att vara viktigt att stå upp för prioriteringarna för välfärden framöver. Välfärdskommissionen är ett arbete som också är viktigt att sätta i verket och börja arbeta med för att långsiktigt inte bara räkna fram vad underskotten blir och fundera på vem som ska täcka eventuella underskott, utan också hur man kan minska kostnaderna och fundera över hur man långsiktigt ska säkra välfärden. Kostnadsutjämningssystemet nämner jag därför att det spelar roll. Någon region har fått förstärkning - jag tror att det var Jämtland - men de använde inte pengarna till mer vård utan för att förbättra sin likviditet. Den frågan debatteras och diskuteras i Jämtland, gissar jag. Men det var förstås ett tillskott som var viktigt och som jag hade föreställt mig skulle gå till att förstärka hälso- och sjukvårdens förutsättningar. Det är klart att de satsningar som har gjorts de gångna åren kommer att fortsätta. Även om kommunerna tycker att de 5 miljarderna årligen till kommuner och regioner redan är inräknade är det sammantaget ett stort tillskott. Jag är väl medveten om att det inte kommer att räcka utifrån behoven och underskotten i allt fler regioner. Detta är en fråga som vi verkligen får följa, och det inkluderar såväl mig själv som finansministern och övriga regeringen.'\n",
      " 'Fru talman! Det finns i dag stora möjligheter för polis, myndigheter och privata aktörer att använda sig av kameraövervakning av platser dit allmänheten har tillträde. Det krävs i dag tillstånd för att sätta upp en kamera, och det är bra. Det ska vara kontroll, övervägande och integritet som råder när samhället ska övervakas. Vi vill inte ha det som i diktaturer som Kina, som ständigt övervakar sin befolkning, både via kameror och på andra sätt. Har du inget att dölja behöver du inte oroa dig - det ligger illa i munnen på den liberala demokraten som förespråkar mer övervakning men inte blickar ut i världen och ser vad som händer med människors frihet när staten går in och övervakar varje steg man tar. I Sverige är vi inte där - än. Men fler kameror sätts upp. Det lagstiftas om fler former av övervakning av enskilda individer. Alltför få frågar sig vilket samhälle det här kommer att leda till. Politiker vill stävja kriminalitet och visa sig handlingskraftiga. Det är ganska naivt. Även politiken måste stanna upp, vidga blicken och fråga sig vilket samhälle vi vill ha. Visst kan fler kameror på gator och torg kännas bra. Ibland kanske bilder till och med kan vara med och lösa brott, och det är såklart bra. Men när kameror sätts upp, vilka andra åtgärder är det som inte sätts in för att kameror anses som \"good enough\"? Regeringen föreslår att kravet på tillstånd för kameror i kollektivtrafiken tas bort. Flera remissinstanser varnar för förslaget. Advokatsamfundet menar att förslaget om att sätta upp kameror riskerar att beslutas för lättvindigt. Datainspektionen, LO och Seko är kritiska. Vi ska också komma ihåg att kameraövervakning leder till en liten minskning av brottslighet och fungerar bäst mot egendomsbrott och drogbrottslighet. Mot våldsbrott under alkoholpåverkan är kameror inte avskräckande. Passiva kameror ger ingen effekt, medan övervakning i realtid ger en minskning av kriminaliteten på 15 procent. Men det drar också enorma resurser att realtidsövervaka, vilket gör att den formen av kameraövervakning inte är lika vanlig. Däremot är det ett sätt att invagga människor i en falsk trygghet.  STYLEREF Kantrubrik \\\\* MERGEFORMAT Kamerabevakning i kollektivtrafik och apotek - ett enklare förfarande Det finns många anledningar att vara kritisk mot kameraövervakningens effekter och att ständigt ifrågasätta och tänka till när det kommer till olika former av statlig övervakning av befolkningen. Det gör Vänsterpartiet. Därför yrkar jag avslag på propositionen och bifall till reservation 1. Fru talman! Vill vi minska kriminaliteten på riktigt är det inte kameraövervakning i varje hörn och poliser bakom varje buske som är den egentliga lösningen, även om just det scenariot är högerpartiernas våta dröm. Då är det betydligt enklare lösningar som behövs, som att minska de ekonomiska klyftorna mellan folk, för fattigdom föder också kriminalitet. Vi behöver se till att vi har en skola som kan utbilda varenda unge och att det finns en arbetsmarknad med trygga jobb i stället för en regering som med alla medel vill slå sönder anställningstryggheten. Det krävs modiga politiker som vågar satsa långsiktigt på välfärden och på folket och slutar pumpa in stöd till storföretag som inte ens betalar skatt i Sverige. Det behövs en omfördelning från eliten till folket. Det är att brottsförebygga. Det är att stärka jämlikheten. Det är att krossa kriminaliteten.'\n",
      " 'Herr talman! Det är statsministern och regeringen som bär det fulla ansvaret för kaoset i Arbetsförmedlingen. Jag är förvånad över att man inte är beredd att ta det politiska ansvaret för de myndigheter som man är direkt ansvarig för. Om pengarna inte räcker får man skjuta till mer medel. Det är regeringens ansvar. Arbetsförmedlingen är i något som liknar fritt fall i stora delar av Sverige. Regeringen kan inte undgå sitt ansvar. Regeringen är också skyldig att lyssna på riksdagens majoritet. Om det inte finns en majoritet i riksdagen för politiken måste regeringen anpassa politiken efter det. Detta gäller även regeringen Stefan Löfven. Annars kan det sluta på ett dåligt vis. Statsministern undvek noga att ens beröra den fråga jag ställde, nämligen om denna typ av tvångsprivatisering genom lagen om valfrihet faktiskt är bästa medlet att hjälpa Sveriges arbetslösa. Min fråga är: Bestämde statsministern själv? Om statsministern inte hade skrivit under det olycksaliga januariavtalet, skulle han då välja att använda privatiseringen via LOV när det gäller Arbetsförmedlingen?'\n",
      " 'Fru talman! Kjell-Arne Ottosson har frågat stadsrådet Hallberg om erkännande av färöiska körkort. Arbetet inom regeringen är så fördelat att det är jag som ska svara på frågan. Den som har ett körkort utfärdat i Färöarna får köra i Sverige enligt sitt körkort. Har körkortsinnehavaren varit folkbokförd i Sverige i mer än ett år behöver personen dock ta ett svenskt körkort för att kunna fortsätta köra här. Om personen bor tillfälligt i Sverige för exempelvis studier eller arbete kan undantag sökas om att körkortet ska gälla för längre tid än ett år. Jag har förståelse för att denna ordning kan skapa problem för körkortsinnehavare från Färöarna. Frågan om Sverige ska erkänna och byta ut körkort som utfärdats i länder utanför EES i vidare mån än i dag är komplex och innehåller bland annat frågor om trafiksäkerhet och andra säkerhetsaspekter. Det finns även rekommendationer från EU att förhålla sig till. Jag ser frågan som angelägen, och den bereds för närvarande inom Regeringskansliet.'\n",
      " 'Fru talman! Vi kristdemokrater har de senaste veckorna lagt fram en rad skarpa förslag för att hjälpa till bland de krisande företagen i Sverige. Vi har bland annat lyft fram mediehusens situation, där annonsintäkterna nu försvunnit snabbt i ett läge när journalisterna verkligen behövs mer än någonsin. Där har vi nu ett förslag som vi hoppas att regeringen och dess stödpartier ska anamma, nämligen ett lönestöd för tidningar. Det är viktigt att vi gör någonting, och det är viktigt att vi gör någonting snabbt.  STYLEREF Kantrubrik \\\\* MERGEFORMAT Särskild debatt om mediernas och kulturens oberoende Jag ersätter i dag vår kulturpolitiske talesperson Roland Utbult som tyvärr är sjuk och sängliggande och därför inte kan närvara. Den debatt som vi har i dag handlar inte bara om medier utan också om kultur. Jag tänkte därför läsa upp vad Roland Utbult skrev i en debattartikel alldeles nyligen, där han lyfter fram båda dessa perspektiv i en av kvällstidningarna: \"Som kulturpolitisk talesperson för Kristdemokraterna höjer jag gärna rösten. Mediernas oberoende ska värnas och hela kulturlivet ska stå fritt!\" Inför den här debatten satt jag naturligtvis och funderade över vad kultur är. Det är väldigt svårt att sammanfatta. För många av oss tror jag att en konsert, en bok, ett tv-program eller en musiklektion är ett konkret uttryck för vad kulturen kan vara i din och min vardag. Men jag vill på något sätt ändå beröra vad som är grund för kulturen. Vi kristdemokrater anser att kulturen hjälper dig och mig att vidga vår verklighet och vår fantasi. Kulturen hjälper oss att växa som empatiska människor, och därför är den en viktig del av ett sammanhållet samhälle. Kulturen, precis som moralen, håller ihop gemenskaper. Den är med och skapar förutsättningar för ett gott samhälle. Det politiska målet måste därför vara att stödja, inte att styra, och ge alla människor möjligheter att delta i ett starkt och oberoende kulturliv.'\n",
      " ' STYLEREF Kantrubrik \\\\* MERGEFORMAT Partiledardebatt Herr talman! År 2019 var som vi alla vet ett oerhört intensivt år i svensk politik, där vi började med att få ett januariavtal på plats, som gav Sverige en välbehövlig liberal reformagenda. Men det var också ett år som innebar en annan förändring i den svenska politiken - en helt annan spelplan, där Ulf Kristersson och Moderaterna öppnade för det som de tidigare så tydligt hade förkastat, nämligen ett närmare samarbete med Jimmie Åkesson och Sverigedemokraterna. Mötet mellan Moderaternas och Sverigedemokraternas partiledare och beskedet om ett samarbete framåt väckte väldigt många funderingar. Min ärliga och uppriktiga fråga till Ulf Kristersson är därför: Vad vill Moderaterna med samarbetet med Sverigedemokraterna? Är det första steget i att bygga ett nytt konservativt block i svensk politik? (Applåder)']\n",
      "(3000,)\n",
      "[' STYLEREF Kantrubrik \\\\* MERGEFORMAT Svar på interpellationer Fru talman! Ledamoten Redar säger att det gäller att vara ärlig. Då tycker jag att vi också ska vara ärliga med att säga att om man kompenserar kommuner och regioner i statsbidragsform kanske det inte leder till direkt inflation. Men det som ledamoten säger i talarstolen att man ska göra med pengarna, det vill säga anställa medarbetare och personal som kan jobba, är naturligtvis inflationsdrivande. Det är klart att löner och priser är inflationsdrivande i ett läge som det som vi har i dag.  Jag vill också säga att detta statliga bidrag inte är regeringens enda satsning på kulturskolan, utan det görs fortfarande andra saker som är precis lika viktiga för att se till att det också finns en fungerande kulturskola i hela landet. Det handlar bland annat om satsningen på Kulturskoleklivet som möjliggör för fler pedagoger att komplettera befintlig lärarutbildning och skapa fler lärare och pedagoger till kulturskolan. Det är en fantastisk möjlighet för många och också för hela Sverige, och det möjliggör för fler pedagoger att arbeta med kulturskola över hela vårt land. Det var en satsning som gjordes av S-regeringen. Det var en mycket bra satsning som vi har valt att behålla.  Det finns alltså många saker som man kan göra utöver det statliga bidraget till kulturskolan. Där är Kulturskoleklivet en. Men det finns även andra statliga insatser, till exempel Kulturskolecentrum som också infördes av S-regeringen och som ligger kvar i vår budget.  Jag vill verkligen hedra S-regeringen för det arbete som man gjorde med att främja kulturskolan. Men jag vill också visa att det statliga bidraget som nu är återställt på 100\\xa0miljoner kronor, som det var före pandemin, alltså inte är den enda statliga satsningen utan att det även görs andra saker.  Regeringens huvudfokus är att bekämpa inflationen. Så är det. Till det är vi smärtsamt medvetna om den svårighet som detta innebär för väldigt många invånare i vårt avlånga land. Därför har vi gjort en rad insatser på grund av det. Vi har höjt bostadstillägget. Vi har sänkt drivmedelspriserna. Och vi lägger fram förslag efter förslag för att stärka arbetslinjen. Jag vet nämligen, och det vet också socialdemokratin, att det viktigaste för att vända ekonomin, få ned inflationen och få en fungerande ekonomi i samhället igen är att vi är fler som jobbar. Och är vi fler som jobbar är vi också fler som kan bidra till vår gemensamma välfärd. Då kan vi möjliggöra för fler satsningar. Vi kan ta hand om dem som behöver tas om hand. Men vi kan också möjliggöra för andra prioriteringar.  Just nu är vi i ett svårt ekonomiskt läge. Men jag kan försäkra att regeringens arbete helt och hållet går ut på att vända den negativa ekonomiska trend som finns i Sverige i dag, se till att stärka vår ekonomi och driva ned inflationen och se till att vi kommer upp i vettiga nivåer igen, vilket kommer att möjliggöra för prioriteringar både på välfärden och på andra delar av samhället. '\n",
      " 'Fru talman! Jag tackar återigen för svaret, Anna Tenje. Jag vill börja lite där du slutade. Det är lite att trivialisera problemet med att barn nu äter mer i skolan att säga de tidigare har gått till kiosken eller liknande. De mönster man ser, att det är just på måndagar och fredagar som barnen äter mer, tyder på att det inte är en effekt av att det är fler personer som väljer att avstå från att gå till kiosken utan en annan typ av effekt. Barnen är hungrigare när de kommer till skolan. Att regeringen har valt att behålla en tillfällig höjning av bostadsbidraget är såklart bra. För dem som får ta del av de pengarna är det mycket välkommet men knappast tillräckligt. Regeringen har inte heller sett till att rätta till det olyckliga med att den som får försörjningsstöd inte får ta del av de extra pengarna. Det är ofta de allra mest ekonomiskt utsatta. Statsrådet var inne på att inflationen inte lämnar någon oberörd. Men det är också tydligt var den här regeringens prioriteringar ligger. Samtidigt som man menar att man inte vill spä på inflationen genom att ge dem som behöver det mest stöd har regeringen sänkt skatten för dem som har inkomster över 50\\xa0000 kronor. De fick efter årsskiftet en skattesänkning med cirka 1\\xa0400 kronor per månad. Det är pengar som en ensamstående mamma bara kan drömma om.  STYLEREF Kantrubrik \\\\* MERGEFORMAT Svar på interpellationer Vänsterpartiet har andra prioriteringar. I vår budget finns ett ökat barnbidrag till ensamstående föräldrar med 500 kronor. Det är en väl riktad satsning då vi vet utifrån statistiken att just ensamstående föräldrar är de som har lägst ekonomisk standard. Vi förstärker också både a-kassan, sjukförsäkringen och pensionerna. Den ekonomiska familjepolitiken bidrar till att utjämna skillnader. Det är också därför den är ett så viktigt verktyg för att se till att alla familjer har ett drägligt liv. Men förmånerna inom familjepolitikens område har urholkats över tid och bidrar inte lika starkt till att utjämna skillnader nu som de gjorde förr. Särskilt allvarligt blir det i en tid där kostnaderna ökar lavinartat. Att växa upp i fattigdom, särskilt under lång tid, bidrar till ett socialt utanförskap. Att inte kunna delta i fritidsaktiviteter eller kunna gå på kalas på grund av att man inte har råd med presenter sätter djupa spår. Det begränsar också möjligheterna att som vuxen kunna delta i arbetslivet. Jag blir också väldigt frågande vad gäller ministerns svar. De åtgärder som Anna Tenje hänvisar till är inga ytterligare krisåtgärder, utan det är åtgärder som man satte in under pandemin och som den tidigare regeringen hade i sin budget. Efter det har inflationen eskalerat, och hushållen får allt svårare att få ekonomin att gå ihop. När levnadskostnaderna ökar dramatiskt är regeringens svar att den inte sänker inkomsterna och att den alldeles för sent ska kompensera hushållen för de höga elpriserna. Det duger inte. Står man fast vid att målet för den ekonomiska familjepolitiken ska vara att bidra till en god ekonomisk standard eller inte? Såväl statistiken som de vittnesmål vi möts av från samhället talar sitt tydliga språk. Barnfamiljer, både ensamstående och sammanboende, får allt svårare att klara av att få ekonomin att räcka till basala saker. Kommer den här regeringen att lämna människor i sticket, eller kommer ni att vidta ytterligare åtgärder? Kommer regeringen att skjuta till resurser till kommunerna så att de klarar av att möta de ökade kostnaderna utan att skära ned på verksamheten?'\n",
      " 'Herr talman! Jo, i uppdraget stod det tydligt att det var de södra delarna av Sverige som skulle omfattas och ingenting annat. Det kanske du alltså vill lägga till nu i efterhand, Fredrik Olovsson.  Indirekt har du kanske också svarat på min fråga: Förslaget hade fått gå på remiss och kommit tillbaka i kanske - vad vet jag - december eller januari, och så hade ni utgått från det. Det hade uppenbarligen inte gått snabbare.  Sedan tycker jag ändå att det är lite charmigt att Socialdemokraterna bryr sig så otroligt mycket om vår politik. Vi kan till exempel ta reduktionsplikten och bränslepriserna: Ni vill ju göra det ännu dyrare. Ni vill fördubbla reduktionsplikten och därmed göra bränslet kanske 5-10 kronor dyrare. Med er politik hade det alltså blivit betydligt värre, och med tanke på avstånden i Norrland tror jag inte att den presenten hade varit välkommen. Vi kan inte bygga en politik på några veckors prisutveckling; det tror jag att även Socialdemokraterna förstår. Det är inte ansvarsfullt. Men om utvecklingen fortsätter i den här riktningen är jag helt övertygad om att det kommer att vidtas åtgärder även för den norra delen av landet. '\n",
      " 'Herr talman! Hur legitim är denna islamistiska republik som sedan 1979 styrs av en teokratisk terroristregim? Den nuvarande presidenten Ebrahim Raisi har av Amnesty International pekats ut för att ha varit med och beslutat om och beordrat avrättningar av tusentals oskyldiga människor, däribland tusentals politiska fångar år 1988. Detta kan hända igen när de nu har frihetsberövat över 40\\xa0000 människor. Raisis medbrottsling Hamid Noury sitter i dag i svenskt fängelse för brott mot mänskliga rättigheter. Det går alltså att ställa dessa mördare till svars. Ett viktigt medskick till utrikesminister Tobias Billström är att han har en möjlighet att bli historisk genom att kalla upp den iranska ambassadören till departementet och upplysa ambassadören om att denna behandling av demonstranterna, våra medmänniskor, är oacceptabel. Vi står vid Jinas systrars sida i deras kamp för rättvisa, jämlikhet och frihet. Det är också viktigt att utrikesministern frågar sin tyska kollega hur Tyskland har agerat och kanske följa deras agerande mot Iran.'\n",
      " ' STYLEREF Kantrubrik \\\\* MERGEFORMAT Svar på interpellationer Fru talman! Tack, ledamoten Ida Ekeroth Clausson, för en viktig interpellation och mycket bra frågor till mig! Det här är verkligen frågor som bekymrar och som oroar. Vi vet att det redan innan inflationen slog till med full kraft någon gång i slutet av 2021 var många människor som hade överskuldsatt sig. Det kan börja med ett litet lån, och så växer det som en snöboll. Det handlar inte alltför sällan om spelskulder, och det gäller speciellt unga män som spelar alldeles för mycket och som tänker att de nästa gång kommer att vinna och kunna betala av sin skuld. Skuldsättning kan växa av många olika orsaker, men det är väldigt tydligt att många människor som hade en tajt ekonomi redan innan och som nu även drabbas av en hög inflation, som ledamoten var inne på, nu får det ännu tuffare. Därför finns det skäl att från politikens sida underlätta för dem som har det allra tuffast och självklart att samtidigt se till att alla de myndigheter och organisationer som arbetar med de här frågorna har verktyg och muskler för att göra det som behövs för att människor inte ska fastna i en överskuldsättning. Fru talman! Det kan vara bra att säga att precis som det finns många hushåll som nu kämpar finns det andra hushåll som klarar detta ganska bra. Hög skuldsättning behöver inte vara ett problem; det är inte det för alla. Men för många är det ett problem, och det är tufft både på grund av inflationen och för att man har dragit på sig för stora skulder. När det gäller politiken gör vi viktiga saker i budgeten för i år, vilket ledamoten inte nämnde: Garantipensionen ökar med 850 kronor i månaden, och för dem som studerar ökar studiestödet med uppemot en tusenlapp i månaden. Det bostadsbidrag som vi har i budgeten i år förlängs och förstärks och kommer att göra stor skillnad för dem som har de allra minsta marginalerna. Frågorna handlade också om Kronofogdemyndighetens uppgift. Kronofogdemyndigheten har som uppgift att just förebygga överskuldsättning. Det är en av de viktiga uppdrag som man har. Huruvida det uppdraget behöver ändras, skärpas, förbättras eller förstärkas får vi återkomma om, men jag ser att Kronofogdemyndigheten just nu jobbar tillsammans med många andra myndigheter på ett rätt effektivt och bra sätt för att informera till exempel hushåll om utmaningar och problem med olika typer av lån. Jag är glad över att förra regeringen reglerade sms-lånen på ett bra sätt. Det var ju helt horribelt för omkring tio år sedan då man kunde ta sms-lån hur lätt som helst och helt plötsligt befinna sig i en skuldfälla som det var helt omöjligt att ta sig ur. Det finns en viktig fråga. Jag ser hur många kämpar, och jag vet att många har oerhört små marginaler. De finns i min närhet, och de finns säkert i er. Många av oss är privilegierade, medan andra har det mycket tuffare. Mitt fokus är både att bekämpa inflation och att stötta dem som har det tuffast, men det är också, gällande den fråga som ledamoten väckt, att se till att den myndighet som jag ansvarar för, Kronofogdemyndigheten, arbetar extra mycket med denna fråga tillsammans med andra myndigheter och organisationer i denna tid då väldigt många kämpar.'\n",
      " 'Fru talman! I dag ska vi debattera regeringens proposition Kommuners ansvar för brottsförebyggande arbete. Förslaget är att ställa sig bakom regeringens lagförslag. Förslaget syftar till att säkerställa att kommunerna arbetar med brottsförebyggande åtgärder på ett effektivt och kunskapsbaserat sätt. Enligt den nya lagen ska kommunerna ta fram en lägesbild över brottsligheten och utifrån denna ta ställning till behovet av åtgärder och besluta om en åtgärdsplan. Kommunerna ska också ta visst ansvar för samordningen av det lokala brottsförebyggande arbetet och inrätta en samordningsfunktion.  STYLEREF Kantrubrik \\\\* MERGEFORMAT Kommuners ansvar för brottsförebyggande arbete Fru talman! Jag vill börja med att understryka att de viktigaste åtgärderna för att stävja den grova kriminaliteten i samhället är riksdagens och regeringens ansvar, men i denna exceptionella situation behöver alla dra sitt strå till stacken. Sverige är ett starkt välfärdsland, vilket innebär att man från födseln får möjlighet att vara hemma med sina föräldrar under en lång tid tack vare den generösa föräldraförsäkring vi har i Sverige. Därefter kan man börja i förskolan för en jämförelsevis låg summa, och det är avgiftsfritt för dem som inte har pengar. Därefter väntar en skolgång som är avgiftsfri upp till universitetsnivå. Från gymnasiet får man också bidrag för att studera. Efter skolan kan man gå på fritis. Många kommuner erbjuder avgiftsfri läxhjälp. Sverige har också ett utbyggt föreningsliv där man kan utöva de aktiviteter man tycker om. På kvällen kan man umgås med sina vänner på kommunens fritidsgård. Kort sagt: I Sverige finns det ingen som helst anledning att välja en kriminell livsstil. Det är inte främst där som Sveriges arbete brister. Det brister där dömda personer kan fortsätta att begå brott i väntan på fängelsestraff för att vi saknar fängelseplatser. Det brister där utländska medborgare som kastar sten mot polisen inte utvisas från Sverige. Det brister där en 16-årig kille som skjuter ihjäl en oskyldig man på ett gym i centrala Stockholm är en fri man innan han ens är 20 år gammal. Med det sagt behöver alla hjälpas åt på grund av dagens exceptionella situation. Från riksdag och regering kan vi stifta lagar som ser till att farliga människor hålls borta från gatorna under en längre tid. Vi kan också se till att ge de brottsbekämpande myndigheterna de verktyg som de behöver för att sätta dit kriminella. Den enskilde medborgaren kan bidra genom att inte bruka narkotika, som göder den kriminella verksamheten i Sverige. Man bör avstå från att handla i oseriösa butiker och från att klippa sig, fixa naglarna, växla pengar eller tvätta bilen på platser där gängkriminella tvättar pengar för att på så sätt undvika att en svart marknad upprätthålls. I dag ställer vi oss bakom regeringens lagförslag om kommuners ansvar för det brottsförebyggande arbetet. Som boende i Rydebäck, och inte minst som helsingborgare, har jag på nära håll sett hur Helsingborgs kommun sedan lång tid arbetat både proaktivt och reaktivt på kommunal nivå för att göra vad man kan för att stävja den organiserade brottsligheten. Helsingborg är Sveriges åttonde största kommun men har problem som liknar dem vi ser i de stora städerna i Sverige. Därför tog man tidigt initiativ till exempelvis kameraövervakning på brottsutsatta platser. Man såg till att få fram fler ordningsvakter som kan verka på ett större område än tidigare. Man har också arbetat med myndighetssamverkan med Skatteverket, tullen, polisen och stadens egen miljöförvaltning för att sätta hårt mot hårt mot den organiserade brottsligheten i staden. Man använder det kommunala bostadsbolaget för att rusta upp socialt utsatta områden i staden, vilket också har gett resultat.  STYLEREF Kantrubrik \\\\* MERGEFORMAT Kommuners ansvar för brottsförebyggande arbete Men den nya lagen riktar sig inte enbart till kommuner med grov organiserad brottslighet som resulterar i skjutningar och sprängningar utan till alla Sveriges kommuner. Även om de flesta kommuner i Sverige inte är i samma läge som Helsingborg, Malmö, Södertälje eller Stockholm finns det kommuner som kan hamna där. Det finns också kommuner som aldrig lär hamna där men som har helt andra problem, som finns i alla kommuner i Sverige. Åtgärder mot våld i nära relationer, arbete mot hedersrelaterat våld och insatser mot missbruk eller för att skydda barn som på olika sätt far illa är sådant som en åtgärdsplan kan innehålla. Sverige är på intet sätt ett perfekt land. Människor far illa i alla delar av samhället, och därför behöver också alla delar av samhället se till att vi hela tiden arbetar för ett tryggare Sverige. Ansvaret ligger inte minst på riksdag och regering, men ska vi vinna kampen mot onda krafter behöver vi insatser på samtliga nivåer i samhället. Jag yrkar bifall till propositionen.'\n",
      " 'Herr talman! Jag tackar ledamoten så mycket för frågan och för att hon tar upp den oro hon känner gällande sjukförsäkringen. Jag vet att ledamotens engagemang började med just bortre tidsgräns i sjukförsäkringen. Det finns en del forskning om det här med avstämningstillfällen och tidsgränser. Bland annat säger ESO - Expertgruppen för studier i offentlig ekonomi, som ledamoten säkert känner till - ungefär så här: Om kompensationsgraden är hög, kontrollen är svag och en bortre tidsgräns saknas kan sjukfrånvaron förväntas bli högre än om kompensationsgraden är lägre, kontrollen är stark och en tidsgräns finns. Jag tänker att lite oavsett vad man tänker om den bortre tidsgränsen är det viktigt att prata om de här avstämningstillfällena. Det är det som gör just det som står i Tidöavtalet - att vi vill undvika många sjukskrivningar och särskilt de långa. Då är det oerhört viktigt med avstämningstillfällen under tiden som man är sjukskriven så att man så snabbt som möjligt kan komma tillbaka i arbete. Den åsikten hoppas jag att vi delar, jag och ledamoten. Jag tror att fokus ska vara på just de här avstämningstillfällena. De finns redan i dag men behöver bevisligen förbättras, bland annat kopplat till det jag tog upp tidigare om en av de här tre rapporterna där man ser att arbetsgivarna inte i tillräcklig utsträckning gör till exempel en plan för återgång till arbete. Det är något som oroar mig oerhört mycket.'\n",
      " 'Fru talman! Det viktigaste för integrationen är tryggheten att få stanna, rota sig och bygga sin framtid här i Sverige. Sverigedemokraterna vill inte ha integration - de vill ha deportation, och metoderna för det är minst sagt anmärkningsvärda i en demokrati.  I slottsavtalet vill Sverigedemokraterna och regeringen utreda under vilka förutsättningar befintliga permanenta uppehållstillstånd ska kunna omvandlas. Sverige är en demokrati, och jag förstår att Sverigedemokraterna har lite problem med det, men det finns ju grundläggande rättsprinciper. Det är exempelvis så att rättsbeslut ska gälla. Vi har en positiv rättskraft som innebär att en myndighet som huvudregel inte tar tillbaka gynnande förvaltningsbeslut och så vidare. Det här handlar om väldigt många människor som flytt för sina liv, fått skyddsstatus och beviljats permanenta uppehållstillstånd. De är här i dag på precis samma villkor som vi och alla andra. Men de riskerar nu utvisning. Vilka är det som ska utvisas, och hur ska det gå till? Jag hörde också ledamoten säga \"Gör din plikt, kräv din rätt\". Men detta handlar om människor som har gjort allt rätt och som har gjort allt i sin makt. De har fått permanent uppehållstillstånd. Då gäller inte det här med att göra sin plikt och kräva sin rätt. Detta gäller ju i en demokrati, men det vill Sverigedemokraterna uppenbarligen nedmontera. Ledamoten får gärna svara på vilka det är som ska utvisas och hur det ska gå till.'\n",
      " ' STYLEREF Kantrubrik \\\\* MERGEFORMAT Studiestöd Herr talman! Tack, ledamoten, för föredragningen! Vi i kammaren har ju under kvällen debatterat studiestöd. Det är glädjande att höra att det över partigränser råder ganska stor enighet om hur viktigt det är med studiestöd för våra studenter, unga och nu också i alla åldrar. Man ska kunna ställa om i ett arbetsliv; det råder inget tvivel om att alla partier delar den bilden. Jag skulle vilja ställa två frågor om det som lyste med sin frånvaro i ledamotens anförande. Jag saknade lite grann idéer. Hur vill Moderaterna utveckla studiestödet framåt? Ledamoten redogjorde för hur det ser ut just nu, vilka lagar som träder i kraft och så vidare, men det fanns inga idéer om hur studiestödet skulle kunna utvecklas. Den andra frågan handlar precis som i föregående replikskifte om antalet studieplatser och vem som ska bära ansvaret. Högskolor och universitet i Sverige är oerhört ansträngda under sina tre huvuduppgifter forskning, utbildning och nyttiggörande. Vedträ efter vedträ staplas i famnen på deras lärare och forskare. Menar Moderaterna att det är denna sektor och dessa myndigheter, högskolor och universitet, som ska bära bördan - eller möjligheten, om man så vill - att få fler till omställningsstudier?'\n",
      " 'Herr talman! Jag tackar så mycket för svaret. Det gläder mig att försvarsministern lyfter fram behovet av att myndigheter samarbetar för att få en bättre fungerande process för den havsbaserade vindkraften. Det gläder mig också att försvarsministern säger att utbyggnaden av det militära försvaret och energiomställningen behöver ske parallellt. Samtidigt måste jag medge att jag blir lite förbryllad. Om försvarsministern nu tycker att detta är så viktigt, varför har då de skrivningar som tidigare styrde Försvarsmakten mot att beakta elektrifieringen i sitt arbete tagits bort? Försvarsmakten har i dagsläget kanske det allra svåraste uppdraget bland svenska myndigheter inför kommande decennium: att försvara Sverige i en tid av osäkerhet och krig i Europa. Vi är helt överens om det. Men som försvarsministern också påpekar ingår ett ansvar för totalförsvaret, där även trygg energiförsörjning ingår. En naturlig följd av det borde vara att en utbyggd svensk energiproduktion vore en prioriterad fråga för myndigheten. Tyvärr är sanningen i dag en annan. Företag efter företag på den konkurrensutsatta marknaden vittnar om samma sak: Försvarsmakten är tyvärr i dag en av de största utmaningarna mot utbyggnation av svensk elproduktion. Vi får rapporter om bristande samarbetsvilja, oändligt långa ledtider, oförutsägbarhet och en rättsosäker handläggning. Det innebär att Försvarsmakten i dag gör utbyggnaden av vindkraft onödigt svår, dyr och långsam. Det är inte riktigt den typ av samarbetsvilja myndigheter emellan som statsrådet refererar till.  STYLEREF Kantrubrik \\\\* MERGEFORMAT Svar på interpellationer Här vill jag vara tydlig med att jag inte försöker skuldbelägga vare sig Försvarsmakten eller personer som arbetar med handläggning av ärenden. Det jag försöker göra är att belysa en stor utmaning som i förlängningen riskerar att skapa enorma problem för svenskt näringsliv och elektrifieringen som helhet. Även om svenska myndigheter är oberoende är det regeringens uppgift att styra myndigheternas arbete. Försvarsmaktens motvilja mot att arbeta för att främja svensk vindkraft avspeglar därmed i praktiken regeringens hållning - det ska vara svårare och dyrare och ta längre tid att bygga vindkraft. Ministern ord är fina. Jag hade kunnat säga dem själv. Men än en gång talar verkligheten sitt tydliga språk. När försvarsministern fick makten valde han att plocka bort den formella styrning som uppdrog åt Försvarsmakten att arbeta för ökad energiproduktion. Jag noterar att försvarsministern inte svarat på detta. Därför väljer jag att ställa denna fråga igen. Om det är så att försvarsministern vill se ökat samarbete myndigheter emellan och vill att utbyggnaden av energiproduktion ska ske parallellt med utbyggnaden av det militära försvaret, varför väljer man då att ta bort dessa skrivningar från Försvarsmaktens regleringsbrev? Och varför går man inte vidare med de regeringsuppdrag som Försvarsmakten tidigare fått om att främja samexistens mellan Försvarsmaktens och energibolagens verksamheter? De senaste årens händelser talar klarspråk. Ökad energiproduktion måste vara en prioriterad säkerhetspolitisk fråga.']\n",
      "(1000,)\n"
     ]
    }
   ],
   "source": [
    "print(X_train[:10])\n",
    "print(X_train.shape)\n",
    "print(X_test[:10])\n",
    "print(X_test.shape)"
   ]
  },
  {
   "cell_type": "code",
   "execution_count": 7,
   "metadata": {},
   "outputs": [],
   "source": [
    "X_vectorized = tfidf_vectorizer.fit_transform(X_train[:100])\n",
    "#X_vectorized = np.array(X_vectorized)\n"
   ]
  },
  {
   "cell_type": "code",
   "execution_count": 8,
   "metadata": {},
   "outputs": [
    {
     "data": {
      "text/plain": [
       "array([' ', '  ', '000', '1', '10', '100', '18', '2', '20', '200', '2019',\n",
       "       '2020', '5', '50', '60', 'absolut', 'agera', 'allra', 'alls',\n",
       "       'allvarlig', 'anförande', 'annars', 'annorlunda', 'anser',\n",
       "       'anställda', 'ansvar', 'ansvaret', 'antal', 'antalet', 'använda',\n",
       "       'används', 'applåder', 'arbeta', 'arbetar', 'arbete', 'arbetet',\n",
       "       'arbetsförmedlingen', 'avser', 'avslutad', 'barn', 'befolkning',\n",
       "       'behov', 'behöver', 'behövs', 'beredd', 'betala', 'betydligt',\n",
       "       'betänkandet', 'bidra', 'bifall', 'biståndet', 'bor', 'borde',\n",
       "       'bred', 'brister', 'brott', 'brukar', 'budget', 'budgeten',\n",
       "       'bygga', 'bygger', 'bästa', 'både', 'bör', 'börja', 'början',\n",
       "       'börjar', 'centerpartiet', 'dagens', 'debatt', 'debatten', 'delar',\n",
       "       'delta', 'denna', 'dessa', 'dessutom', 'dialog', 'diskussion',\n",
       "       'diskutera', 'drar', 'därefter', 'däremot', 'därmed', 'effekt',\n",
       "       'efterfrågan', 'egen', 'egentligen', 'egna', 'ekonomin',\n",
       "       'ekonomiska', 'elever', 'enighet', 'ens', 'enskilda', 'eu',\n",
       "       'europa', 'europeiska', 'exempel', 'exempelvis', 'faktiskt',\n",
       "       'fall', 'fallet', 'fast', 'fel', 'form', 'forskning',\n",
       "       'fortfarande', 'fortsatt', 'fortsätta', 'fortsätter', 'framtida',\n",
       "       'framtiden', 'framåt', 'framöver', 'fru', 'främst', 'fråga',\n",
       "       'frågan', 'frågat', 'frågestund', 'frågor', 'frågorna', 'fungera',\n",
       "       'fungerande', 'fungerar', 'funnits', 'färre', 'följa', 'följer',\n",
       "       'förbättra', 'företag', 'förslag', 'förslaget', 'först',\n",
       "       'förstärka', 'förstås', 'försvinner', 'försöka', 'försöker',\n",
       "       'förutsättning', 'förutsättningar', 'förändringar', 'gamla',\n",
       "       'ganska', 'ge', 'gemensamma', 'gemensamt', 'genomföra',\n",
       "       'genomförts', 'ger', 'ges', 'glädjande', 'glömmer', 'grund',\n",
       "       'grunden', 'gång', 'gånger', 'görs', 'hand', 'handlar', 'hantera',\n",
       "       'hela', 'hemma', 'herr', 'hitta', 'hjälp', 'hjälpa', 'hoppas',\n",
       "       'hos', 'hälsa', 'händer', 'härmed', 'håll', 'hålla', 'håller',\n",
       "       'hårt', 'höga', 'hör', 'ifrån', 'ihop', 'information', 'innebär',\n",
       "       'innehåller', 'insatser', 'interpellation', 'interpellationer',\n",
       "       'januariavtalet', 'jobb', 'jobba', 'jobbar', 'ju', 'jul', 'just',\n",
       "       'kallas', 'kantrubrik', 'klara', 'klart', 'klimatmålen',\n",
       "       'kommissionen', 'kommuner', 'konkurrenskraften', 'kraftigt',\n",
       "       'krav', 'kris', 'kristdemokraterna', 'kronor', 'krävs', 'kunskap',\n",
       "       'kvinnor', 'känner', 'lagstiftning', 'lagt', 'land', 'landet',\n",
       "       'landets', 'leda', 'leder', 'lett', 'lever', 'liberalerna',\n",
       "       'liksom', 'liv', 'lägga', 'lägger', 'lägre', 'länder',\n",
       "       'länsstyrelserna', 'läsa', 'lång', 'långsiktigt', 'låt', 'löfven',\n",
       "       'lösa', 'lösningar', 'medel', 'menar', 'mergeformat', 'miljarder',\n",
       "       'miljoner', 'miljö', 'miljöpartiet', 'ministern', 'minska',\n",
       "       'minskar', 'moderater', 'moderaterna', 'myndigheter', 'människor',\n",
       "       'människors', 'mänskliga', 'mål', 'målet', 'möjliga', 'möjlighet',\n",
       "       'möjligheten', 'möjligheter', 'nationella', 'naturligtvis', 'nivå',\n",
       "       'norge', 'ny', 'nya', 'nyligen', 'nytt', 'nämligen', 'nära',\n",
       "       'nästan', 'nå', 'oerhört', 'offentliga', 'område', 'områden',\n",
       "       'ordning', 'otroligt', 'partier', 'pengar', 'pengarna', 'personal',\n",
       "       'personer', 'plats', 'poliser', 'politik', 'politiken',\n",
       "       'politiska', 'precis', 'privata', 'problem', 'problemet',\n",
       "       'procent', 'påverka', 'rad', 'ramen', 'rapport', 'reda',\n",
       "       'regelverk', 'regering', 'regeringen', 'regeringens', 'regioner',\n",
       "       'regler', 'reglerna', 'rent', 'reservation', 'resurser',\n",
       "       'riksdagen', 'riksdagens', 'riktigt', 'roll', 'runt',\n",
       "       'rättigheter', 'rådet', 'rör', 's', 'sa', 'saker', 'saknar',\n",
       "       'samarbete', 'samband', 'samhälle', 'samhället', 'sammanhang',\n",
       "       'samt', 'samtidigt', 'samtliga', 'satsa', 'satsar', 'satsningar',\n",
       "       'se', 'senaste', 'ser', 'sett', 'sida', 'siffror', 'situation',\n",
       "       'situationen', 'själv', 'själva', 'självklart', 'skapa', 'skapar',\n",
       "       'sker', 'skillnad', 'skola', 'slut', 'snabbt', 'snarare',\n",
       "       'socialdemokraterna', 'starkt', 'staten', 'statliga',\n",
       "       'statsministern', 'statsrådet', 'stefan', 'steg', 'styleref',\n",
       "       'städer', 'ställa', 'ställer', 'stället', 'ställning', 'ständigt',\n",
       "       'stärka', 'stå', 'står', 'stöd', 'stödja', 'största', 'svar',\n",
       "       'svara', 'svaret', 'svensk', 'svenska', 'sverige',\n",
       "       'sverigedemokraterna', 'sveriges', 'svårt', 'syftar', 'syn',\n",
       "       'system', 'systemet', 'säkerställa', 'säkert', 'säkra', 'sänka',\n",
       "       'särskilt', 'sätt', 'sätta', 'sättet', 'såklart', 'såväl', 'ta',\n",
       "       'tackar', 'tagit', 'talar', 'talman', 'tar', 'tas', 'tid', 'tiden',\n",
       "       'tillbaka', 'tillräckligt', 'tog', 'totala', 'tror', 'trots',\n",
       "       'trygghet', 'tryggheten', 'tvärtom', 'tycker', 'tydlig',\n",
       "       'tydligare', 'tydligt', 'typ', 'tyvärr', 'tänker', 'underlag',\n",
       "       'understryka', 'uppdrag', 'upplever', 'utifrån', 'utmaningar',\n",
       "       'utmärkt', 'utskottets', 'utsläpp', 'utvecklas', 'utveckling',\n",
       "       'utvecklingen', 'vanligt', 'varandra', 'vare', 'varje', 'veckor',\n",
       "       'verkar', 'verksamhet', 'verksamheter', 'verktyg', 'vet', 'veta',\n",
       "       'vidta', 'viktiga', 'vilja', 'visa', 'visar', 'vissa', 'vore',\n",
       "       'väl', 'väldigt', 'välfärd', 'välfärden', 'välja', 'väljer',\n",
       "       'välkommet', 'vänsterpartiet', 'världen', 'världens', 'vård',\n",
       "       'yrka', 'yrkar', 'ytterligare', 'ytterst', '\\xa0', 'ändå', 'är',\n",
       "       'år', 'åren', 'året', 'åt', 'åtgärder', 'öka', 'ökad', 'ökade',\n",
       "       'ökar', 'ökat', 'överens', 'överenskommelse', 'övrigt'],\n",
       "      dtype=object)"
      ]
     },
     "execution_count": 8,
     "metadata": {},
     "output_type": "execute_result"
    }
   ],
   "source": [
    "tfidf_vectorizer.get_feature_names_out()"
   ]
  },
  {
   "cell_type": "code",
   "execution_count": 14,
   "metadata": {},
   "outputs": [
    {
     "name": "stdout",
     "output_type": "stream",
     "text": [
      "(100, 476)\n",
      "[array(['framöver', 'ge', 'åtgärder', 'resurser', 'se', 'regeringen',\n",
      "       'börja', 'framåt', 'steg', 'ytterligare', 'ta', 'antalet',\n",
      "       'minskar', 'ser', 'tvärtom', 'siffror', 'talman', 'fru'],\n",
      "      dtype='<U19')]\n",
      "Fru talman! Ann-Christine From Utterstedt gör sig nu skyldig till att blanda siffror och tider. Den siffran stämmer inte. Vi har inte den typen av överdödlighet i det här läget. Tvärtom ser vi nu att smittspridningen minskar och att antalet som vårdas i vanlig sjukvård och intensivvård minskar. Det gör att vi nu kan ta ytterligare steg framåt och börja med testning i stor skala, vilket regeringen nu har aviserat att vi kommer att se till att det finns resurser för. Vi kommer också att tillsätta en kommission som ska utvärdera pandemin och de åtgärder som vidtagits. Den kommer att ge resultat framöver.\n",
      "['fru', 'talman', 'ann-christine', 'from', 'utterstedt', 'skyldig', 'blanda', 'siffror', 'tider', 'den', 'siffran', 'stämmer', 'vi', 'typen', 'överdödlighet', 'läget', 'tvärtom', 'ser', 'smittspridningen', 'minskar', 'antalet', 'vårdas', 'vanlig', 'sjukvård', 'intensivvård', 'minskar', 'det', 'ta', 'ytterligare', 'steg', 'framåt', 'börja', 'testning', 'skala', 'regeringen', 'aviserat', 'se', 'resurser', 'vi', 'tillsätta', 'kommission', 'utvärdera', 'pandemin', 'åtgärder', 'vidtagits', 'den', 'ge', 'resultat', 'framöver']\n"
     ]
    }
   ],
   "source": [
    "print(X_vectorized.shape)\n",
    "print(tfidf_vectorizer.inverse_transform(X_vectorized[0]))\n",
    "print(speeches[0])\n",
    "print(swedish_tokenizer(speeches[0]))"
   ]
  },
  {
   "cell_type": "code",
   "execution_count": null,
   "metadata": {},
   "outputs": [],
   "source": [
    "import torch\n",
    "torch.save(X_vectorized,f=\"raw_tfidf.pt\")"
   ]
  },
  {
   "cell_type": "code",
   "execution_count": 8,
   "metadata": {},
   "outputs": [],
   "source": [
    "\"\"\"from sklearn.preprocessing import Normalizer\n",
    "normalizer = Normalizer()\n",
    "X_norm = normalizer.fit_transform(X_vectorized)\n",
    "print(\"normalization done\")\"\"\"\n",
    "svd.fit(X_vectorized)\n",
    "X_train = svd.transform(X_vectorized)"
   ]
  },
  {
   "cell_type": "code",
   "execution_count": null,
   "metadata": {},
   "outputs": [
    {
     "name": "stdout",
     "output_type": "stream",
     "text": [
      "[ 0.08588267  0.05020986  0.00343951  0.05347459  0.02333855  0.00047615\n",
      " -0.03864607 -0.00042119 -0.01756879  0.01065985  0.03719612 -0.00252954\n",
      "  0.02429816 -0.03417375 -0.06224575 -0.02457703 -0.01085342 -0.00994339\n",
      " -0.01728675  0.04507677 -0.01920429  0.00341986 -0.07127325 -0.03484817\n",
      "  0.0348405   0.0330292   0.00035511 -0.00271605 -0.0002963   0.02713186\n",
      " -0.03189182 -0.06350884 -0.02341523 -0.02418795 -0.02341454 -0.02387397\n",
      " -0.03879796  0.0380549  -0.01573021 -0.01141986  0.02189467  0.04540593\n",
      "  0.07767848 -0.00466023 -0.02681386 -0.04831742  0.01726083  0.01205828\n",
      "  0.0013939   0.02810338 -0.03135471  0.06637329 -0.01635103  0.00802815\n",
      " -0.01243777  0.00806794 -0.02101066  0.01346689 -0.02570184 -0.00953067\n",
      " -0.02435411  0.0181724  -0.0418033  -0.02384725  0.02947393  0.07102181\n",
      "  0.0314088   0.03583948 -0.04074807 -0.00229019  0.08619431 -0.01740448\n",
      "  0.05053666 -0.06001461  0.05766582 -0.08596859 -0.00734631  0.03451282\n",
      "  0.02104285  0.03637774  0.01188429  0.00075407 -0.01136639 -0.018624\n",
      "  0.02137555  0.02564283  0.05752797  0.02926612  0.01050631 -0.03899061\n",
      " -0.01323585  0.00753319 -0.02650325  0.05924912  0.0551316   0.01420476\n",
      " -0.02694706  0.01080869 -0.02712705  0.02019324  0.05081854  0.01098219\n",
      "  0.04656992 -0.0373424  -0.01575704  0.0232729  -0.01048051  0.03645202\n",
      " -0.03798935 -0.00395769 -0.02677974 -0.01572048 -0.03723392 -0.0084307\n",
      "  0.05904051  0.0026025  -0.01810883  0.00541486 -0.01026523  0.03059458\n",
      "  0.03418006 -0.00614248 -0.0188098  -0.00692296 -0.02762556  0.02411851\n",
      "  0.03975318  0.02391226  0.01596523 -0.01295676 -0.01742619 -0.01350771\n",
      "  0.02599307  0.02183194 -0.04926167  0.07919417  0.00435986 -0.01358809\n",
      " -0.02849547  0.02972781  0.01175808 -0.08075905 -0.06171075  0.0462587\n",
      " -0.01999457  0.07460741  0.01634475  0.04602484 -0.03480763 -0.04821638\n",
      " -0.01846614  0.00542066  0.04752913 -0.06790686 -0.03110785  0.04861334\n",
      " -0.00527176  0.07167569 -0.01178418 -0.00013653  0.01742449  0.04279457\n",
      " -0.05458789  0.01373598 -0.01488686  0.02156403  0.08287166 -0.00449186\n",
      " -0.01022127 -0.01257161  0.07004649  0.01959527  0.03272554 -0.01628992\n",
      " -0.00927694  0.05768747  0.03693248  0.03984269  0.00569799 -0.01806369\n",
      " -0.02068958 -0.02509972 -0.00410927  0.01157059  0.03779731 -0.00740416\n",
      " -0.01136984 -0.00270903  0.00526582 -0.02926803 -0.01821453  0.02189882\n",
      "  0.03037882 -0.00608094  0.00083592 -0.05230082  0.04963539 -0.03302099\n",
      "  0.07496739 -0.01846436  0.00068761 -0.03348139 -0.0218651   0.05973713\n",
      " -0.03104205 -0.00906336 -0.01322078 -0.05379316 -0.03672629  0.00054822\n",
      "  0.0400504   0.00226122  0.00494432  0.0042967  -0.03023838 -0.02114708\n",
      "  0.02426296  0.02746086 -0.0025815   0.01394091  0.08296106  0.00972207\n",
      "  0.0176169  -0.04315707  0.00269007  0.01905935  0.01195589  0.03821202\n",
      "  0.02219154 -0.00681642 -0.02811148 -0.02947606  0.07896104  0.03005413\n",
      "  0.03273264 -0.00345724  0.08503408 -0.02097302  0.00108658  0.01077803\n",
      "  0.02414227 -0.00845355 -0.0705077  -0.02815144  0.02191108  0.06099744\n",
      "  0.03756336  0.01126342 -0.00558398 -0.00032378 -0.02578976 -0.02829484\n",
      " -0.02323613 -0.01045507 -0.01992386 -0.01313372]\n",
      "(1500, 256)\n"
     ]
    }
   ],
   "source": [
    "print(X_train[0])\n",
    "print(X_train.shape)"
   ]
  },
  {
   "cell_type": "code",
   "execution_count": null,
   "metadata": {},
   "outputs": [],
   "source": [
    "X_test = svd.transform(normalizer.transform(tfidf_vectorizer.transform(X_test)))"
   ]
  },
  {
   "cell_type": "code",
   "execution_count": null,
   "metadata": {},
   "outputs": [
    {
     "name": "stdout",
     "output_type": "stream",
     "text": [
      "(500, 256)\n",
      "[ 2.89067412e-01  1.19244732e-02 -4.60951316e-02  1.29153800e-02\n",
      " -7.67164905e-02 -2.31782061e-02 -2.82930070e-02 -4.02281644e-02\n",
      " -4.12916453e-02  1.13390865e-02  2.76548730e-02  1.70310735e-02\n",
      "  2.63621209e-02  6.35427690e-03  8.92531022e-03 -9.76586698e-03\n",
      " -1.19823728e-02  9.08233478e-03  8.31227757e-03 -3.91490977e-04\n",
      "  5.25134946e-03  1.53734629e-02  4.50812936e-02 -1.22483047e-02\n",
      "  1.65654859e-02 -2.57024541e-02 -3.41408164e-02  1.22184531e-02\n",
      "  4.72705463e-03 -1.43194022e-02 -2.55318417e-03 -7.93004396e-03\n",
      "  3.88387948e-02  9.59821032e-03  1.06865905e-02 -3.33933302e-03\n",
      " -2.13066665e-02  1.74323208e-02  6.78821968e-03 -1.23318301e-03\n",
      "  1.50075421e-02  2.50892076e-02 -1.05774876e-02 -6.56855397e-03\n",
      "  3.68716274e-03  6.06765259e-04 -7.30080145e-03 -1.22575623e-02\n",
      "  2.56038741e-02 -1.21684650e-02 -1.20837689e-02  1.95588135e-02\n",
      "  2.06869882e-02 -1.97692330e-02 -5.18129077e-03 -5.49568222e-03\n",
      " -1.88185820e-02  1.22754822e-02  1.81018034e-03 -9.52726047e-03\n",
      " -1.95809515e-02  2.86850985e-02 -2.27241155e-02  4.94853612e-03\n",
      " -5.82335786e-03 -4.01891505e-02  1.20626819e-02  1.35041907e-02\n",
      "  1.89676097e-02 -3.02986511e-02  7.76945106e-03 -3.23039661e-02\n",
      "  1.96879524e-02 -6.31985147e-03 -3.22599444e-02  1.81972378e-02\n",
      "  2.41057598e-02  1.23810256e-02  2.16609200e-02  6.79579488e-03\n",
      " -1.08554574e-02  1.13350178e-02  3.26134552e-04  1.72069277e-02\n",
      " -2.80132337e-02 -2.83114208e-02  2.48111948e-02 -1.47140672e-02\n",
      "  1.14925780e-03  8.44186312e-03 -2.52801855e-03  2.85294296e-03\n",
      " -5.17055154e-04  3.58670202e-04 -2.18354450e-02  1.87930869e-03\n",
      " -2.65980306e-02 -1.44752515e-02  2.44852333e-03 -1.89074517e-02\n",
      "  3.82090599e-03 -2.61225665e-02 -4.73060349e-03  1.62478208e-02\n",
      " -6.81351677e-03 -2.70831667e-03 -3.03244360e-02 -2.61103859e-03\n",
      "  1.05028003e-02 -3.22477035e-03  1.40338101e-03 -1.22720771e-02\n",
      " -7.34529472e-03  1.00207377e-02  9.07089235e-04 -9.81111527e-03\n",
      " -9.16611475e-03  1.08568364e-02  1.84232055e-03  7.11189313e-03\n",
      " -1.52331339e-02  1.87285740e-02  8.82772169e-03  2.93482626e-03\n",
      " -1.07945784e-02 -2.66719147e-03  4.88571368e-03  1.15321720e-02\n",
      " -2.59035626e-02  3.52657453e-03 -1.25511869e-02  6.83757828e-03\n",
      " -1.05175061e-02 -9.46014377e-03 -4.69625780e-03 -1.33879702e-02\n",
      "  1.46467689e-02 -2.57034220e-03 -1.18933585e-02 -2.09916854e-02\n",
      " -1.47050905e-02  1.30776540e-03 -3.43876197e-03 -5.67623689e-03\n",
      "  8.18940057e-03  1.69063420e-02  2.44341939e-02 -1.45874828e-02\n",
      " -7.21137189e-03 -1.04991221e-02 -1.60013015e-02 -7.24724185e-03\n",
      " -4.25817251e-02  2.90159628e-02  5.97528548e-03 -8.63639525e-03\n",
      "  5.14966808e-03 -9.02330382e-03  8.49387009e-03 -1.67253249e-02\n",
      " -1.02838607e-03 -2.23906967e-02  8.65545579e-03 -5.89220763e-03\n",
      "  1.16931460e-03 -1.93712694e-02 -1.17787792e-02 -8.83311833e-03\n",
      " -6.88221221e-03 -6.70928926e-03 -1.03383364e-02 -1.04076702e-02\n",
      " -5.26518054e-03  1.06631347e-02  1.63482174e-02  2.97951235e-02\n",
      "  2.63308542e-03 -4.11272441e-03  1.22963768e-02  1.31128001e-02\n",
      "  3.03644677e-03 -1.62246642e-02 -3.01811183e-02  1.97338195e-03\n",
      "  1.25581891e-02 -1.21129484e-02 -1.84318839e-02 -6.67966736e-03\n",
      " -2.96037902e-02  4.81213997e-04  3.10113949e-03  7.11655774e-03\n",
      " -2.02363293e-02  7.29850872e-03 -1.11990953e-02  2.41010362e-03\n",
      " -8.42439937e-03  2.61402720e-03 -1.13626076e-02 -1.64222387e-02\n",
      "  1.99148543e-02 -1.22490470e-02  2.06159113e-02  2.99143250e-02\n",
      "  1.44483504e-02 -7.99994288e-03 -1.63254012e-02  1.34588792e-02\n",
      "  8.49781281e-03  8.92082120e-03 -1.76788734e-03 -2.47392432e-02\n",
      " -3.50443067e-03 -9.43768480e-03  4.28210210e-03  6.18069987e-03\n",
      " -8.56161585e-04 -9.05406926e-03 -1.41579592e-02  2.01165369e-02\n",
      " -7.91737017e-04 -1.78806817e-03  1.56102782e-03  2.17868421e-03\n",
      " -6.48972888e-03  1.02807877e-02  4.05335280e-03 -3.54141563e-04\n",
      " -1.93605821e-02 -5.23364647e-03 -3.78524510e-03 -9.20611436e-04\n",
      " -1.24149997e-02 -1.28458059e-02 -5.56623006e-03 -4.08688028e-03\n",
      "  1.39132499e-02  7.63785067e-03 -1.67435011e-02  2.79217265e-02\n",
      " -1.13800214e-02 -1.45417583e-02 -2.43842227e-04  2.37341475e-02\n",
      "  7.69726811e-03  2.61160508e-03  5.17634166e-03  3.58561829e-03\n",
      " -2.04568019e-03 -2.10256199e-03 -2.33622861e-03  2.28359447e-02\n",
      "  3.92569192e-03 -1.96831065e-02  1.49516467e-02  7.84062542e-03]\n"
     ]
    }
   ],
   "source": [
    "print(X_test.shape)\n",
    "print(X_test[0])"
   ]
  },
  {
   "cell_type": "code",
   "execution_count": 50,
   "metadata": {},
   "outputs": [
    {
     "data": {
      "text/html": [
       "<style>#sk-container-id-5 {color: black;background-color: white;}#sk-container-id-5 pre{padding: 0;}#sk-container-id-5 div.sk-toggleable {background-color: white;}#sk-container-id-5 label.sk-toggleable__label {cursor: pointer;display: block;width: 100%;margin-bottom: 0;padding: 0.3em;box-sizing: border-box;text-align: center;}#sk-container-id-5 label.sk-toggleable__label-arrow:before {content: \"▸\";float: left;margin-right: 0.25em;color: #696969;}#sk-container-id-5 label.sk-toggleable__label-arrow:hover:before {color: black;}#sk-container-id-5 div.sk-estimator:hover label.sk-toggleable__label-arrow:before {color: black;}#sk-container-id-5 div.sk-toggleable__content {max-height: 0;max-width: 0;overflow: hidden;text-align: left;background-color: #f0f8ff;}#sk-container-id-5 div.sk-toggleable__content pre {margin: 0.2em;color: black;border-radius: 0.25em;background-color: #f0f8ff;}#sk-container-id-5 input.sk-toggleable__control:checked~div.sk-toggleable__content {max-height: 200px;max-width: 100%;overflow: auto;}#sk-container-id-5 input.sk-toggleable__control:checked~label.sk-toggleable__label-arrow:before {content: \"▾\";}#sk-container-id-5 div.sk-estimator input.sk-toggleable__control:checked~label.sk-toggleable__label {background-color: #d4ebff;}#sk-container-id-5 div.sk-label input.sk-toggleable__control:checked~label.sk-toggleable__label {background-color: #d4ebff;}#sk-container-id-5 input.sk-hidden--visually {border: 0;clip: rect(1px 1px 1px 1px);clip: rect(1px, 1px, 1px, 1px);height: 1px;margin: -1px;overflow: hidden;padding: 0;position: absolute;width: 1px;}#sk-container-id-5 div.sk-estimator {font-family: monospace;background-color: #f0f8ff;border: 1px dotted black;border-radius: 0.25em;box-sizing: border-box;margin-bottom: 0.5em;}#sk-container-id-5 div.sk-estimator:hover {background-color: #d4ebff;}#sk-container-id-5 div.sk-parallel-item::after {content: \"\";width: 100%;border-bottom: 1px solid gray;flex-grow: 1;}#sk-container-id-5 div.sk-label:hover label.sk-toggleable__label {background-color: #d4ebff;}#sk-container-id-5 div.sk-serial::before {content: \"\";position: absolute;border-left: 1px solid gray;box-sizing: border-box;top: 0;bottom: 0;left: 50%;z-index: 0;}#sk-container-id-5 div.sk-serial {display: flex;flex-direction: column;align-items: center;background-color: white;padding-right: 0.2em;padding-left: 0.2em;position: relative;}#sk-container-id-5 div.sk-item {position: relative;z-index: 1;}#sk-container-id-5 div.sk-parallel {display: flex;align-items: stretch;justify-content: center;background-color: white;position: relative;}#sk-container-id-5 div.sk-item::before, #sk-container-id-5 div.sk-parallel-item::before {content: \"\";position: absolute;border-left: 1px solid gray;box-sizing: border-box;top: 0;bottom: 0;left: 50%;z-index: -1;}#sk-container-id-5 div.sk-parallel-item {display: flex;flex-direction: column;z-index: 1;position: relative;background-color: white;}#sk-container-id-5 div.sk-parallel-item:first-child::after {align-self: flex-end;width: 50%;}#sk-container-id-5 div.sk-parallel-item:last-child::after {align-self: flex-start;width: 50%;}#sk-container-id-5 div.sk-parallel-item:only-child::after {width: 0;}#sk-container-id-5 div.sk-dashed-wrapped {border: 1px dashed gray;margin: 0 0.4em 0.5em 0.4em;box-sizing: border-box;padding-bottom: 0.4em;background-color: white;}#sk-container-id-5 div.sk-label label {font-family: monospace;font-weight: bold;display: inline-block;line-height: 1.2em;}#sk-container-id-5 div.sk-label-container {text-align: center;}#sk-container-id-5 div.sk-container {/* jupyter's `normalize.less` sets `[hidden] { display: none; }` but bootstrap.min.css set `[hidden] { display: none !important; }` so we also need the `!important` here to be able to override the default hidden behavior on the sphinx rendered scikit-learn.org. See: https://github.com/scikit-learn/scikit-learn/issues/21755 */display: inline-block !important;position: relative;}#sk-container-id-5 div.sk-text-repr-fallback {display: none;}</style><div id=\"sk-container-id-5\" class=\"sk-top-container\"><div class=\"sk-text-repr-fallback\"><pre>LogisticRegression(max_iter=10000, multi_class=&#x27;multinomial&#x27;)</pre><b>In a Jupyter environment, please rerun this cell to show the HTML representation or trust the notebook. <br />On GitHub, the HTML representation is unable to render, please try loading this page with nbviewer.org.</b></div><div class=\"sk-container\" hidden><div class=\"sk-item\"><div class=\"sk-estimator sk-toggleable\"><input class=\"sk-toggleable__control sk-hidden--visually\" id=\"sk-estimator-id-5\" type=\"checkbox\" checked><label for=\"sk-estimator-id-5\" class=\"sk-toggleable__label sk-toggleable__label-arrow\">LogisticRegression</label><div class=\"sk-toggleable__content\"><pre>LogisticRegression(max_iter=10000, multi_class=&#x27;multinomial&#x27;)</pre></div></div></div></div></div>"
      ],
      "text/plain": [
       "LogisticRegression(max_iter=10000, multi_class='multinomial')"
      ]
     },
     "execution_count": 50,
     "metadata": {},
     "output_type": "execute_result"
    }
   ],
   "source": [
    "log_reg = LogisticRegression(multi_class=\"multinomial\", max_iter=10000)\n",
    "\n",
    "log_reg.fit(X_train,y_train)"
   ]
  },
  {
   "cell_type": "code",
   "execution_count": 52,
   "metadata": {},
   "outputs": [
    {
     "name": "stdout",
     "output_type": "stream",
     "text": [
      "              precision    recall  f1-score   support\n",
      "\n",
      "           C       1.00      0.03      0.06        96\n",
      "          KD       0.00      0.00      0.00       101\n",
      "           L       0.00      0.00      0.00        72\n",
      "           M       0.58      0.56      0.57       269\n",
      "          MP       0.71      0.04      0.07       132\n",
      "           S       0.44      0.99      0.61       511\n",
      "          SD       0.70      0.30      0.42       203\n",
      "           V       0.80      0.07      0.13       116\n",
      "\n",
      "    accuracy                           0.49      1500\n",
      "   macro avg       0.53      0.25      0.23      1500\n",
      "weighted avg       0.54      0.49      0.39      1500\n",
      "\n"
     ]
    },
    {
     "name": "stderr",
     "output_type": "stream",
     "text": [
      "/home/erki/anaconda3/lib/python3.10/site-packages/sklearn/metrics/_classification.py:1344: UndefinedMetricWarning: Precision and F-score are ill-defined and being set to 0.0 in labels with no predicted samples. Use `zero_division` parameter to control this behavior.\n",
      "  _warn_prf(average, modifier, msg_start, len(result))\n",
      "/home/erki/anaconda3/lib/python3.10/site-packages/sklearn/metrics/_classification.py:1344: UndefinedMetricWarning: Precision and F-score are ill-defined and being set to 0.0 in labels with no predicted samples. Use `zero_division` parameter to control this behavior.\n",
      "  _warn_prf(average, modifier, msg_start, len(result))\n",
      "/home/erki/anaconda3/lib/python3.10/site-packages/sklearn/metrics/_classification.py:1344: UndefinedMetricWarning: Precision and F-score are ill-defined and being set to 0.0 in labels with no predicted samples. Use `zero_division` parameter to control this behavior.\n",
      "  _warn_prf(average, modifier, msg_start, len(result))\n"
     ]
    }
   ],
   "source": [
    "from sklearn.metrics import classification_report, confusion_matrix\n",
    "\n",
    "y_pred = log_reg.predict(X_test)\n",
    "print(classification_report(y_test,y_pred))"
   ]
  }
 ],
 "metadata": {
  "kernelspec": {
   "display_name": "Python 3",
   "language": "python",
   "name": "python3"
  },
  "language_info": {
   "codemirror_mode": {
    "name": "ipython",
    "version": 3
   },
   "file_extension": ".py",
   "mimetype": "text/x-python",
   "name": "python",
   "nbconvert_exporter": "python",
   "pygments_lexer": "ipython3",
   "version": "3.10.9"
  },
  "orig_nbformat": 4
 },
 "nbformat": 4,
 "nbformat_minor": 2
}
