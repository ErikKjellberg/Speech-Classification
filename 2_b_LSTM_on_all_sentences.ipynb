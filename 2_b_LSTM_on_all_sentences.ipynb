{
 "cells": [
  {
   "attachments": {},
   "cell_type": "markdown",
   "metadata": {},
   "source": [
    "<h3>2. b LSTM på alla meningar, plocka utan hidden -> fully connected.</h3>"
   ]
  },
  {
   "attachments": {},
   "cell_type": "markdown",
   "metadata": {},
   "source": [
    "<p>Denna modellen är mer avancerad då den inte enbart tar ett medelvärde av de embeddings SentenceTransformer ger utan matar in dem i ett LSTM-lager.</p>"
   ]
  },
  {
   "cell_type": "code",
   "execution_count": 3,
   "metadata": {},
   "outputs": [],
   "source": [
    "from sentence_transformers import SentenceTransformer, models\n",
    "import os\n",
    "import numpy as np\n",
    "import pandas as pd\n",
    "from bs4 import BeautifulSoup\n",
    "import torch\n",
    "import torch.nn as nn\n",
    "import re\n",
    "from torch.utils.data import Dataset, DataLoader\n",
    "from IPython.display import clear_output"
   ]
  },
  {
   "attachments": {},
   "cell_type": "markdown",
   "metadata": {},
   "source": [
    "<p>Data över uttalanden:</p>"
   ]
  },
  {
   "cell_type": "code",
   "execution_count": 4,
   "metadata": {},
   "outputs": [],
   "source": [
    "# The directory where data is located\n",
    "data_dirs = [\"test_data/22_23/\"]\n",
    "data = []\n",
    "for data_dir in data_dirs:\n",
    "    for file in os.listdir(data_dir):\n",
    "        if file.endswith(\".txt\"):\n",
    "            with open(data_dir+file,\"r\") as f:\n",
    "                data.append([])\n",
    "                for line in f.readlines():\n",
    "                    data[-1].append(line)\n",
    "\n",
    "data = np.array(data)\n",
    "\n",
    "# Print first and last data points\n",
    "#print(data[0])\n",
    "#print(data[-1])\n",
    "\n",
    "# Get only speeches\n",
    "speeches = data[:,1]"
   ]
  },
  {
   "attachments": {},
   "cell_type": "markdown",
   "metadata": {},
   "source": [
    "<p>För varje uttalande vill vi extrahera alla paragrafer och associera dem till rätt parti.</p>"
   ]
  },
  {
   "cell_type": "code",
   "execution_count": 5,
   "metadata": {},
   "outputs": [],
   "source": [
    "possible_parties = [\"S\",\"SD\",\"M\",\"V\",\"C\",\"MP\",\"KD\",\"L\"]\n",
    "party_string = \"\\((\"+str.join(\"|\",possible_parties)+\")\\)\"\n",
    "\n",
    "parties = []\n",
    "sentences = []\n",
    "speech_index = 0\n",
    "speech_indices = []\n",
    "\n",
    "no_match = 0\n",
    "for i in range(data.shape[0]):\n",
    "    line = data[i,0]\n",
    "    party = \"None\"\n",
    "    match = re.search(party_string,line)\n",
    "    if match:\n",
    "        party = match.group()[1:-1]\n",
    "        speech = data[i,1]\n",
    "        soup = BeautifulSoup(speech, 'html.parser')\n",
    "        ps = soup.find_all(\"p\")\n",
    "        non_empty = 0\n",
    "        for p in ps:\n",
    "            text = p.get_text()\n",
    "            if text != \"\":\n",
    "                for s in re.split(\"\\. |\\! |\\? \",text):\n",
    "                    sentences.append(s)\n",
    "                    parties.append(party)\n",
    "                    non_empty += 1\n",
    "        speech_indices.append(speech_index)\n",
    "        speech_index += non_empty\n",
    "    else:\n",
    "        no_match += 1\n",
    "    \n",
    "\n",
    "parties = np.array(parties)\n",
    "sentences = np.array(sentences)"
   ]
  },
  {
   "cell_type": "code",
   "execution_count": 6,
   "metadata": {},
   "outputs": [
    {
     "name": "stdout",
     "output_type": "stream",
     "text": [
      "['M' 'M' 'M' 'M' 'M' 'M' 'M' 'M' 'M' 'M' 'S' 'S' 'S' 'S' 'S' 'S' 'S' 'S'\n",
      " 'S' 'S' 'S' 'S' 'S' 'S' 'M' 'M' 'M' 'M' 'M' 'M' 'M' 'M' 'M' 'M' 'M' 'M'\n",
      " 'M' 'M' 'M' 'M' 'M' 'M' 'M' 'M' 'M' 'M' 'M' 'M' 'M' 'M' 'M' 'M' 'M' 'M'\n",
      " 'M' 'M' 'M' 'M' 'M' 'M' 'M' 'M' 'M' 'M' 'M' 'M' 'M' 'M' 'M' 'S' 'S' 'S'\n",
      " 'S' 'S' 'S' 'S' 'S' 'S' 'S' 'S' 'M' 'M' 'M' 'M' 'M' 'M' 'M' 'M' 'M' 'M'\n",
      " 'M' 'M' 'M' 'M' 'C' 'C' 'C' 'C' 'C' 'C']\n",
      "['Herr talman'\n",
      " 'Jag måste tyvärr säga att jag tycker att ledamoten Sundin läser Tidöavtalet som fan läser Bibeln'\n",
      " 'Det finns en väldigt stark ambition från Moderaterna och de samarbetspartier som har skrivit under avtalet att vi ska fortsätta just den utveckling med en god och nära vård som jag tycker att ledamoten beskriver väl'\n",
      " 'Det är en ambition som vi brett över parti- och blockgränser har varit överens om'\n",
      " 'Vi vill att vården ska komma närmare patienterna'\n",
      " 'Vi vill att vården ska komma närmare dem som behöver vård och omsorg.'\n",
      " 'Vi har viktiga satsningar i Tidöavtalet på en förstärkt primärvård och på att bygga ut vården, inte minst på landsbygden, på att skapa förutsättningar för den samverkan som ledamoten var inne på, i form av till exempel en nationell digital infrastruktur, så att vi kan dela patientdata mellan olika vårdgivare och mellan kommuner och regioner.'\n",
      " 'Sedan, herr talman, är det, som jag var inne på i mitt anförande, för mig alldeles uppenbart att om vi ska klara av att adressera de stora regionala skillnaderna i vårdens kvalitet och i vårdutbud krävs ökad statlig styrning'\n",
      " 'Det kommer att krävas mer statligt ledarskap för att adressera dessa problem'\n",
      " 'Är inte ledamoten Sundin av samma uppfattning?' 'Fru talman'\n",
      " 'Jag kommer att ställa samma fråga till Margareta Cederfelt som jag ställde till Markus Wiechel'\n",
      " 'På vilket sätt är det ett problem att Sverige har haft en feministisk utrikespolitik'\n",
      " 'På vilket sätt har feminismen gått för långt i världen'\n",
      " 'På vilket sätt har det motverkat svenska intressen'\n",
      " 'Den nya regeringen signalerar nu väldigt tydligt att man ska värna svenska intressen'\n",
      " 'Man drar sig tillbaka' 'Man värnar svenska intressen mer'\n",
      " 'Är det inte ett svenskt intresse att driva en feministisk utrikespolitik som stärker flickors och kvinnors rättigheter globalt?'\n",
      " 'Mycket med den här regeringsbildningen har tagit tid'\n",
      " 'Och reformer som har utlovats verkar dröja mest hela mandatperioden'\n",
      " 'Men det gick väldigt fort att skrota den feministiska utrikespolitiken'\n",
      " 'Om man googlar på det nu kan man inte längre hitta det på regeringens hemsida'\n",
      " 'Det var viktigt att få ut den signalen till omvärlden lika fort som det går att knäppa med fingrarna.'\n",
      " 'Herr talman'\n",
      " 'Styrka och säkerhet - så stod det på sedlarna förr i världen'\n",
      " 'Jag tittade i morse, och jag tror inte att det står så längre, i varje fall inte på den hundralapp och tjugolapp som jag hade i plånboken.'\n",
      " 'Hinc robur et securitas - härav styrka och säkerhet'\n",
      " 'Detta kom till en gång för att det här med att kunna lita på pengar och på penningvärdet är en förutsättning för att man ska kunna utvecklas'\n",
      " 'Det är en förutsättning för att få en bra utveckling i ett samhälle, naturligtvis tillsammans med skydd för individens frihet, rättssäkerhet, skydd för tillgångar och liknande'\n",
      " 'Därför är det så oerhört viktigt med Riksbanken - den möjliggör för alla svenskar att vara kreativa och att arbeta långsiktigt och framåt.'\n",
      " 'Men det förutsätter att jag kan lita på den institution som står bakom'\n",
      " 'För handen på hjärtat - en papperslapp eller en liten plåtbit har inte alls det värde som står tryckt på den, utan värdet säkras av en institution som ligger bakom, en institution som vi måste kunna lita på, en riksbank'\n",
      " 'För att ta det ännu ett steg längre är det klart att en etta eller en nolla i ett datanätverk någonstans också behöver ha den institutionella garantin för att vara pålitlig'\n",
      " 'Därför tryckte man de här latinska orden om styrka och säkerhet på sedlarna en gång i tiden för att säga: Vi har tänkt igenom detta'\n",
      " 'Vi har ett system som garanterar värdet, ett värde som är centralt för att samhället ska fungera'\n",
      " 'Därför är också detta en grundlag.'\n",
      " 'Men i detta, herr talman, ligger naturligtvis också att vi måste följa med tiden'\n",
      " 'Vi har alltmer internationellt samarbete'\n",
      " 'Metallvärdena som en gång var internationella är kanske inte det fullt ut i dag'\n",
      " 'Men framför allt måste vi samarbeta med andra'\n",
      " 'Vi måste ha nya system för att säkra dessa tillgångar'\n",
      " 'Vi måste ha nya instrument'\n",
      " 'Vi måste alltså modernisera den grund för säkerhet som Riksbanken ger, och det är en sådan modernisering som Riksbankskommittén har kommit med.'\n",
      " 'Det är också detta den nya riksbankslagen handlar om: att ta in alla nya konsekvenser genom att vidga och bredda instrument och internationellt samarbete'\n",
      " 'Det handlar även om synen att när det blir kris kanske inte de där ettorna och nollorna fungerar, och då behövs en fungerande kontanthantering.'\n",
      " 'Förslaget innebär ett antal ändringar i regeringsformen, så som Ingela Nylund Watz utförligt har beskrivit'\n",
      " 'Det innebär också en förändring i riksdagsordningen'\n",
      " 'Allt detta syftar till att få en modernitet i systemet som ändå klarar av att säkra värdet så att vi alla kan lita på de utställda pengarna.'\n",
      " 'Herr talman'\n",
      " 'Förslaget innebär också en förnyad riksbankslagstiftning som i väldigt hög grad tar upp dessa förändringar och konkretiserar vad som ska utföras'\n",
      " 'Det gäller sådant som direktionens storlek och rekrytering, men det som kanske flest av oss kommer att kunna konstatera är att det görs väldigt tydligt att det ska finnas en kontanthantering som fungerar även i situationer av kris i Sverige - fredstida kris, står det i lagförslaget'\n",
      " 'På sikt ska det finnas sex depåer som har kontanthantering.'\n",
      " 'Så här långt i förslaget är samtliga överens: Vi behöver uppdatera regeringsform och riksdagsordning, och vi behöver en ny riksbankslag'\n",
      " 'Denna enighet tror jag är oerhört väsentlig för att vi ska bygga det förtroende som hela ärendet handlar om'\n",
      " 'Så långt, herr talman, tycker jag att allting är lugnt och bra.'\n",
      " 'Sedan finns det en reservation'\n",
      " 'Jag har full förståelse för att man vill lägga in sysselsättning eller, som vi ibland brukar kalla det, arbetslinjen på så många ställen som möjligt'\n",
      " 'Detta är dock snarare en fråga för ekonomisk politik än något att reglera i lag'\n",
      " 'Att reglera i lag vad man kan och inte kan göra eller ska och inte ska göra beskär handlingsmöjligheten i framtiden för dem som har att hantera detta'\n",
      " 'Jag tror att det är lite feltänkt att göra systemet så överbestämt.'\n",
      " 'Som jag sa inledningsvis är stabiliteten i växelkursen avgörande för våra medborgares sätt att agera och ta hand om den här frågan'\n",
      " 'Därför vill jag yrka avslag på reservationen i konstitutionsutskottets betänkande.'\n",
      " 'Sammanfattningsvis, herr talman: För mig är detta en väldigt positiv förändring'\n",
      " 'Det är positivt med enigheten' 'Den kommer att tjäna oss väl'\n",
      " 'Jag yrkar bifall till konstitutionsutskottets förslag till beslut och avslag på reservationen.'\n",
      " 'Överläggningen var härmed avslutad.' '(Beslut fattades under §\\xa019.)'\n",
      " 'Herr talman'\n",
      " 'Jag vill börja med att tacka ledamoten John Widegren för hans anförande'\n",
      " 'Ledamoten är en duktig debattör och en erfaren lantbrukare' ''\n",
      " 'Det ekonomiska läget är oerhört tufft, både för bönderna och för våra medborgare'\n",
      " 'Regeringens finansminister Elisabeth Svantesson har uppmanat hushållen att hjälpa till att dämpa inflationen genom att välja billigare varor i butikerna'\n",
      " 'Hennes tips till hushållen var också att jämföra olika butiker med varandra och välja den billigare'\n",
      " 'Men vad regeringen skulle göra för att lindra krisen för de barnfamiljer, pensionärer och ensamstående som just nu vänder på varenda krona för att kunna sätta mat på bordet och låta sina barn äta sig mätta ville hon inte svara på'\n",
      " ''\n",
      " 'Därför vill jag fråga ledamoten John Widegren om han kan svara på detta'\n",
      " 'Vad tänker Moderaterna göra för att våra barnfamiljer, pensionärer och ensamstående ska kunna fortsätta att köpa svensk näringsriktig mat som produceras av våra svenska bönder?'\n",
      " 'Herr talman'\n",
      " 'Det är ingen av oss som har sagt att det här är en enkel resa'\n",
      " 'Det är det inte i Sverige, och det är det inte någon annanstans'\n",
      " 'Men då gäller det att göra saker i rätt tid och i rätt ordning, och det är precis vad vi gör.'\n",
      " 'Jag blir lite bekymrad över Mikael Dambergs 8inställning till inflationen'\n",
      " 'När jag lyssnade till hans tio minuter tidigare hörde jag om en mängd olika saker som nu ska läggas på hög och som kommer att driva utgifter och ofinansierat kommer att öka inflationen'\n",
      " 'Men om det ska finansieras finns bara ett svar, vilket är viktigt för alla som lyssnar att veta: Skatterna kommer att höjas för vanliga löntagare.'\n",
      " 'Detta lade ni in i er budget i höstas'\n",
      " 'Jag antar att det också kommer att komma i er nästa budget'\n",
      " 'Det finns inget annat sätt att finansiera det här, om man tar ansvar för inflationen.'\n",
      " 'Jag kan lova Mikael Damberg och alla här i kammaren att vi tar ansvar'\n",
      " 'Vi tar ansvar för barnen och för familjerna'\n",
      " 'Vi kommer att bekämpa inflationen varje dag och stötta hushåll för att de ska klara detta, men vi ska också återupprätta arbetslinjen och fokusera på stärkt tillväxt.'\n",
      " '(Applåder)' 'Fru talman'\n",
      " 'Jag noterade att frågan kring hur Sverige ska försvara sig inte var prioriterad av de partier som skrev under Tidöavtalet'\n",
      " 'Man kan ju fundera över varför det inte var en prioriterad fråga för dem som skrev under det'\n",
      " 'Den var inte heller prioriterad i regeringsförklaringen'\n",
      " 'Då kan man undra varför den inte heller var prioriterad där.'\n",
      " 'Det har hittills varit en politisk prioritering']\n",
      "[0, 10, 24, 69, 80]\n"
     ]
    }
   ],
   "source": [
    "print(parties[:100])\n",
    "print(sentences[:100])\n",
    "print(speech_indices[:5])"
   ]
  },
  {
   "attachments": {},
   "cell_type": "markdown",
   "metadata": {},
   "source": [
    "<p>Skapa embedding-modellen.</p>"
   ]
  },
  {
   "cell_type": "code",
   "execution_count": 7,
   "metadata": {},
   "outputs": [],
   "source": [
    "model_name = \"paraphrase-multilingual-mpnet-base-v2\"\n",
    "embedding_model = SentenceTransformer(model_name)"
   ]
  },
  {
   "attachments": {},
   "cell_type": "markdown",
   "metadata": {},
   "source": [
    "<p>Gör embeddings av paragraferna.</p>"
   ]
  },
  {
   "cell_type": "code",
   "execution_count": 8,
   "metadata": {},
   "outputs": [
    {
     "data": {
      "application/vnd.jupyter.widget-view+json": {
       "model_id": "f568d84b42614a83bcd90ee873a5428c",
       "version_major": 2,
       "version_minor": 0
      },
      "text/plain": [
       "Batches:   0%|          | 0/5211 [00:00<?, ?it/s]"
      ]
     },
     "metadata": {},
     "output_type": "display_data"
    }
   ],
   "source": [
    "sentence_embeddings = embedding_model.encode(sentences,show_progress_bar=True) #Kanske ändra maxlängd?\n",
    "torch.save(sentence_embeddings, f=\"multilingual_22-23_sentences.pt\")"
   ]
  },
  {
   "cell_type": "code",
   "execution_count": 13,
   "metadata": {},
   "outputs": [],
   "source": [
    "sentence_embeddings = torch.load(\"multilingual_22-23_sentences.pt\")"
   ]
  },
  {
   "attachments": {},
   "cell_type": "markdown",
   "metadata": {},
   "source": [
    "<p>Gör om partier till heltal.</p>"
   ]
  },
  {
   "cell_type": "code",
   "execution_count": 7,
   "metadata": {},
   "outputs": [
    {
     "data": {
      "text/plain": [
       "{0: 37300,\n",
       " 1: 16845,\n",
       " 2: 34138,\n",
       " 3: 16971,\n",
       " 4: 14196,\n",
       " 5: 13801,\n",
       " 6: 18552,\n",
       " 7: 14930}"
      ]
     },
     "execution_count": 7,
     "metadata": {},
     "output_type": "execute_result"
    }
   ],
   "source": [
    "def parties_to_numbers(parties):\n",
    "    return np.array([possible_parties.index(p) if p in possible_parties else 8 for p in parties])\n",
    "\n",
    "parties = parties_to_numbers(parties)\n",
    "\n",
    "unique, counts = np.unique(parties, return_counts=True)\n",
    "dict(zip(unique, counts))"
   ]
  },
  {
   "attachments": {},
   "cell_type": "markdown",
   "metadata": {},
   "source": [
    "<p>Skapa datasetklassen</p>"
   ]
  },
  {
   "cell_type": "code",
   "execution_count": 8,
   "metadata": {},
   "outputs": [],
   "source": [
    "class SpeechesDataset(Dataset):\n",
    "    def __init__(self,paragraphs,parties,index_list,length):\n",
    "        self.paragraphs = torch.Tensor(paragraphs).float()\n",
    "        self.parties = torch.Tensor(parties).long()\n",
    "        self.index_list = index_list\n",
    "        self.length = length\n",
    "\n",
    "    def __len__(self):\n",
    "        assert self.paragraphs.shape[0] == self.parties.shape[0]\n",
    "        return self.length\n",
    "    \n",
    "    # Get speech at a certain index\n",
    "    def __getitem__(self, index):\n",
    "        # The index list decides which paragraphs to use\n",
    "        start, stop = self.index_list[index], self.index_list[index+1]\n",
    "        paragraphs = self.paragraphs[start:stop]\n",
    "        parties = self.parties[start]\n",
    "        return paragraphs, parties"
   ]
  },
  {
   "cell_type": "code",
   "execution_count": 9,
   "metadata": {},
   "outputs": [],
   "source": [
    "def collate_fn(data):\n",
    "    #print([d[0] for d in data][1])\n",
    "    #print([torch.flip(d[0],[0]) for d in data][1])\n",
    "    input = torch.nn.utils.rnn.pad_sequence([torch.flip(d[0],[0]) for d in data], batch_first=True)\n",
    "    #print(input[1])\n",
    "    #print(\"Now try to flip again\")\n",
    "    #print(torch.flip(input,[1])[1])\n",
    "    input = torch.flip(input,[1])\n",
    "    lengths = torch.tensor([len(d[0]) for d in data])\n",
    "    output = torch.tensor([d[1] for d in data])\n",
    "    return (input, lengths), output"
   ]
  },
  {
   "attachments": {},
   "cell_type": "markdown",
   "metadata": {},
   "source": [
    "<p>Skapa klassificeringsmodellen:</p>"
   ]
  },
  {
   "cell_type": "code",
   "execution_count": 10,
   "metadata": {},
   "outputs": [],
   "source": [
    "class SpeechClassifier(nn.Module):\n",
    "    def __init__(self, input_size, hidden_size, output_size, batch_size):\n",
    "        super(SpeechClassifier, self).__init__()\n",
    "        self.hidden_size = hidden_size\n",
    "        self.output_size = output_size\n",
    "        self.lstm = nn.LSTM(input_size, hidden_size, batch_first=True)\n",
    "        self.fc = nn.Linear(hidden_size, output_size)\n",
    "        self.batch_size = batch_size\n",
    "\n",
    "    def forward(self,x):\n",
    "        #x = torch.flip(x,[1])\n",
    "        f, (h,c) = self.lstm(x)\n",
    "        output = self.fc(h)\n",
    "        return output.squeeze()\n"
   ]
  },
  {
   "attachments": {},
   "cell_type": "markdown",
   "metadata": {},
   "source": [
    "<p>Choose a certain amount of speeches for training</p>"
   ]
  },
  {
   "cell_type": "code",
   "execution_count": 11,
   "metadata": {},
   "outputs": [],
   "source": [
    "train_size = 3000\n",
    "val_size = 1000\n",
    "test_size = 1000"
   ]
  },
  {
   "cell_type": "code",
   "execution_count": 15,
   "metadata": {},
   "outputs": [
    {
     "name": "stdout",
     "output_type": "stream",
     "text": [
      "(61247, 768) (61247,) (20264, 768) (20264,) (20183, 768) (20183,)\n"
     ]
    }
   ],
   "source": [
    "\n",
    "train_stop = speech_indices[train_size]\n",
    "val_stop = speech_indices[train_size+val_size]\n",
    "test_stop = speech_indices[train_size+val_size+test_size]\n",
    "\n",
    "X_train = sentence_embeddings[:train_stop]\n",
    "y_train = parties[:train_stop]\n",
    "\n",
    "X_val = sentence_embeddings[train_stop:val_stop]\n",
    "y_val = parties[train_stop:val_stop]\n",
    "\n",
    "X_test = sentence_embeddings[val_stop:test_stop]\n",
    "y_test = parties[val_stop:test_stop]\n",
    "\n",
    "train_indices = speech_indices[:train_size+1]\n",
    "val_indices = speech_indices[train_size:train_size+val_size+1]\n",
    "#Important! Make sure first index is 0\n",
    "val_indices = [i-val_indices[0] for i in val_indices]\n",
    "test_indices = speech_indices[train_size+val_size:train_size+val_size+test_size+1]\n",
    "test_indices = [i-test_indices[0] for i in test_indices]\n",
    "\n",
    "print(X_train.shape, y_train.shape, X_val.shape, y_val.shape, X_test.shape, y_test.shape)"
   ]
  },
  {
   "cell_type": "code",
   "execution_count": 16,
   "metadata": {},
   "outputs": [
    {
     "name": "stdout",
     "output_type": "stream",
     "text": [
      "8129\n",
      "20.509287735268792\n"
     ]
    }
   ],
   "source": [
    "# Average length of a speech\n",
    "diffs = [speech_indices[k+1]-speech_indices[k] for k in range(len(speech_indices)-1)]\n",
    "print(len(diffs))\n",
    "print(sum(diffs)/len(diffs))"
   ]
  },
  {
   "cell_type": "code",
   "execution_count": 17,
   "metadata": {},
   "outputs": [],
   "source": [
    "train_set = SpeechesDataset(X_train, y_train, train_indices, train_size)\n",
    "val_set = SpeechesDataset(X_val, y_val, val_indices, val_size)\n",
    "test_set = SpeechesDataset(X_test, y_test, test_indices, test_size)"
   ]
  },
  {
   "cell_type": "code",
   "execution_count": 32,
   "metadata": {},
   "outputs": [],
   "source": [
    "batch_size = 128\n",
    "train_loader = DataLoader(train_set, batch_size=batch_size, shuffle=True, collate_fn=collate_fn)\n",
    "val_loader = DataLoader(val_set, batch_size=batch_size, shuffle=True, collate_fn=collate_fn)\n",
    "test_loader = DataLoader(test_set, batch_size=1000, collate_fn=collate_fn)"
   ]
  },
  {
   "cell_type": "code",
   "execution_count": 30,
   "metadata": {},
   "outputs": [
    {
     "data": {
      "text/plain": [
       "torch.Size([64, 60, 768])"
      ]
     },
     "execution_count": 30,
     "metadata": {},
     "output_type": "execute_result"
    }
   ],
   "source": [
    "next(iter(train_loader))[0][0].shape"
   ]
  },
  {
   "attachments": {},
   "cell_type": "markdown",
   "metadata": {},
   "source": [
    "<p>Initialize the model, loss function and optimizer:</p>"
   ]
  },
  {
   "cell_type": "code",
   "execution_count": 33,
   "metadata": {},
   "outputs": [],
   "source": [
    "speech_classifier = SpeechClassifier(768, 64, 8, batch_size)\n",
    "loss_fn = nn.CrossEntropyLoss()\n",
    "optimizer = torch.optim.Adam(speech_classifier.parameters(),lr=0.005)"
   ]
  },
  {
   "attachments": {},
   "cell_type": "markdown",
   "metadata": {},
   "source": [
    "<p>Now train the classifier:</p>"
   ]
  },
  {
   "cell_type": "code",
   "execution_count": 34,
   "metadata": {},
   "outputs": [
    {
     "name": "stderr",
     "output_type": "stream",
     "text": [
      "100%|██████████| 20/20 [01:35<00:00,  4.76s/it]"
     ]
    },
    {
     "name": "stdout",
     "output_type": "stream",
     "text": [
      "Train loss: 0.0783340260386467\n",
      "Validation loss: 2.568347930908203\n"
     ]
    },
    {
     "name": "stderr",
     "output_type": "stream",
     "text": [
      "\n"
     ]
    }
   ],
   "source": [
    "from tqdm import tqdm\n",
    "\n",
    "speech_classifier.train()\n",
    "\n",
    "train_losses = []\n",
    "val_losses = []\n",
    "#train_losses = torch.load(\"train_losses_model_2b.pt\")\n",
    "#val_losses = torch.load(\"val_losses_model_2b.pt\")\n",
    "\n",
    "#batch_size = 32\n",
    "epochs = 20\n",
    "\n",
    "for epoch in tqdm(range(epochs)):\n",
    "    speech_classifier.train()\n",
    "    for i, ((X_train, X_lengths), y_train) in enumerate(train_loader):\n",
    "        y_pred = speech_classifier(X_train)\n",
    "        loss = loss_fn(y_pred, y_train)\n",
    "        optimizer.zero_grad()\n",
    "        loss.backward()\n",
    "        optimizer.step()\n",
    "        train_losses.append(loss.item())\n",
    "    # Evaluate\n",
    "    speech_classifier.eval()\n",
    "    for i, ((X_val, X_lengths), y_val) in enumerate(val_loader):\n",
    "        y_pred = speech_classifier(X_val)\n",
    "        loss = loss_fn(y_pred, y_val)\n",
    "        val_losses.append(loss.item())\n",
    "    clear_output()\n",
    "    print(\"Train loss: \"+str(train_losses[-1]))\n",
    "    print(\"Validation loss: \"+str(val_losses[-1]))\n",
    "    \n",
    "    "
   ]
  },
  {
   "attachments": {},
   "cell_type": "markdown",
   "metadata": {},
   "source": [
    "<p>Plot the losses:</p>"
   ]
  },
  {
   "cell_type": "code",
   "execution_count": 35,
   "metadata": {},
   "outputs": [
    {
     "data": {
      "image/png": "[encoded data removed]",
      "text/plain": [
       "<Figure size 640x480 with 1 Axes>"
      ]
     },
     "metadata": {},
     "output_type": "display_data"
    }
   ],
   "source": [
    "import matplotlib.pyplot as plt\n",
    "\n",
    "# Save and plot losses\n",
    "torch.save(train_losses,f=\"train_losses_model_2b.pt\")\n",
    "torch.save(val_losses,f=\"val_losses_model_2b.pt\")\n",
    "\n",
    "t1 = np.arange(len(train_losses))\n",
    "t2 = train_size/val_size*np.arange(len(val_losses))\n",
    "plt.scatter(t1,train_losses,s=0.2)\n",
    "plt.scatter(t2,val_losses,s=0.2)\n",
    "plt.show()"
   ]
  },
  {
   "attachments": {},
   "cell_type": "markdown",
   "metadata": {},
   "source": [
    "<p>Evaluate.</p>"
   ]
  },
  {
   "cell_type": "code",
   "execution_count": 38,
   "metadata": {},
   "outputs": [
    {
     "name": "stdout",
     "output_type": "stream",
     "text": [
      "23\n"
     ]
    }
   ],
   "source": [
    "speech_classifier.eval()\n",
    "y_tests = np.array([])\n",
    "y_preds = np.array([])\n",
    "for i, ((X_test, X_lengths), y_test) in enumerate(train_loader):\n",
    "    y_pred = speech_classifier(X_test).softmax(dim=1).argmax(dim=1)\n",
    "    y_tests = np.concatenate((y_tests,y_test))\n",
    "    y_preds = np.concatenate((y_preds,y_pred))\n",
    "print(i)"
   ]
  },
  {
   "cell_type": "code",
   "execution_count": 39,
   "metadata": {},
   "outputs": [
    {
     "name": "stdout",
     "output_type": "stream",
     "text": [
      "              precision    recall  f1-score   support\n",
      "\n",
      "           S       1.00      0.99      0.99       679\n",
      "          SD       1.00      1.00      1.00       304\n",
      "           M       0.99      1.00      1.00       666\n",
      "           V       1.00      1.00      1.00       276\n",
      "           C       1.00      0.99      0.99       238\n",
      "          MP       1.00      0.99      0.99       219\n",
      "          KD       1.00      0.98      0.99       326\n",
      "           L       0.97      1.00      0.98       292\n",
      "\n",
      "    accuracy                           0.99      3000\n",
      "   macro avg       0.99      0.99      0.99      3000\n",
      "weighted avg       0.99      0.99      0.99      3000\n",
      "\n"
     ]
    }
   ],
   "source": [
    "from sklearn.metrics import classification_report, confusion_matrix\n",
    "\n",
    "print(classification_report(y_tests,y_preds,target_names=possible_parties))"
   ]
  }
 ],
 "metadata": {
  "kernelspec": {
   "display_name": "Python 3",
   "language": "python",
   "name": "python3"
  },
  "language_info": {
   "codemirror_mode": {
    "name": "ipython",
    "version": 3
   },
   "file_extension": ".py",
   "mimetype": "text/x-python",
   "name": "python",
   "nbconvert_exporter": "python",
   "pygments_lexer": "ipython3",
   "version": "3.9.2"
  },
  "orig_nbformat": 4
 },
 "nbformat": 4,
 "nbformat_minor": 2
}
