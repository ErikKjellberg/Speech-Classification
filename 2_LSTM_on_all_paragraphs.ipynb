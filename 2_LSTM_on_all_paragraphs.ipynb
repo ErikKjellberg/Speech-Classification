{
 "cells": [
  {
   "attachments": {},
   "cell_type": "markdown",
   "metadata": {},
   "source": [
    "<h3>2. LSTM på alla paragrafer, plocka utan hidden -> fully connected.</h3>"
   ]
  },
  {
   "attachments": {},
   "cell_type": "markdown",
   "metadata": {},
   "source": [
    "<p>Denna modellen är mer avancerad då den inte enbart tar ett medelvärde av de embeddings SentenceTransformer ger utan matar in dem i ett LSTM-lager.</p>"
   ]
  },
  {
   "cell_type": "code",
   "execution_count": 1,
   "metadata": {},
   "outputs": [],
   "source": [
    "from sentence_transformers import SentenceTransformer, models\n",
    "import os\n",
    "import numpy as np\n",
    "import pandas as pd\n",
    "from bs4 import BeautifulSoup\n",
    "import torch\n",
    "import torch.nn as nn\n",
    "import re\n",
    "from torch.utils.data import Dataset, DataLoader\n",
    "from IPython.display import clear_output"
   ]
  },
  {
   "attachments": {},
   "cell_type": "markdown",
   "metadata": {},
   "source": [
    "<p>Data över uttalanden:</p>"
   ]
  },
  {
   "cell_type": "code",
   "execution_count": 2,
   "metadata": {},
   "outputs": [],
   "source": [
    "# The directory where data is located\n",
    "data_dirs = [\"test_data/22_23/\",\"test_data/21_22/\",\"test_data/20_21/\"]\n",
    "data = []\n",
    "for data_dir in data_dirs:\n",
    "    for file in os.listdir(data_dir):\n",
    "        if file.endswith(\".txt\"):\n",
    "            with open(data_dir+file,\"r\") as f:\n",
    "                data.append([])\n",
    "                for line in f.readlines():\n",
    "                    data[-1].append(line)\n",
    "\n",
    "data = np.array(data)\n",
    "\n",
    "# Print first and last data points\n",
    "#print(data[0])\n",
    "#print(data[-1])\n",
    "\n",
    "# Get only speeches\n",
    "speeches = data[:,1]"
   ]
  },
  {
   "attachments": {},
   "cell_type": "markdown",
   "metadata": {},
   "source": [
    "<p>För varje uttalande vill vi extrahera alla paragrafer och associera dem till rätt parti.</p>"
   ]
  },
  {
   "cell_type": "code",
   "execution_count": 3,
   "metadata": {},
   "outputs": [
    {
     "name": "stdout",
     "output_type": "stream",
     "text": [
      "\\((S|SD|M|V|C|MP|KD|L)\\)\n"
     ]
    }
   ],
   "source": [
    "possible_parties = [\"S\",\"SD\",\"M\",\"V\",\"C\",\"MP\",\"KD\",\"L\"]\n",
    "regex_string = \"\\((\"+str.join(\"|\",possible_parties)+\")\\)\"\n",
    "print(regex_string)\n",
    "\n",
    "parties = []\n",
    "paragraphs = []\n",
    "speech_index = 0\n",
    "speech_indices = []\n",
    "\n",
    "no_match = 0\n",
    "for i in range(data.shape[0]):\n",
    "    line = data[i,0]\n",
    "    party = \"None\"\n",
    "    match = re.search(regex_string,line)\n",
    "    if match:\n",
    "        party = match.group()[1:-1]\n",
    "        speech = data[i,1]\n",
    "        soup = BeautifulSoup(speech, 'html.parser')\n",
    "        ps = soup.find_all(\"p\")\n",
    "        non_empty = 0\n",
    "        for p in ps:\n",
    "            text = p.get_text()\n",
    "            if text != \"\":\n",
    "                paragraphs.append(text)\n",
    "                parties.append(party)\n",
    "                non_empty += 1\n",
    "        speech_indices.append(speech_index)\n",
    "        speech_index += non_empty\n",
    "    else:\n",
    "        no_match += 1\n",
    "    \n",
    "\n",
    "parties = np.array(parties)\n",
    "paragraphs = np.array(paragraphs)"
   ]
  },
  {
   "attachments": {},
   "cell_type": "markdown",
   "metadata": {},
   "source": [
    "<p>Skapa embedding-modellen.</p>"
   ]
  },
  {
   "cell_type": "code",
   "execution_count": 4,
   "metadata": {},
   "outputs": [],
   "source": [
    "#model_name = \"paraphrase-multilingual-mpnet-base-v2\"\n",
    "#embedding_model = SentenceTransformer(model_name)"
   ]
  },
  {
   "attachments": {},
   "cell_type": "markdown",
   "metadata": {},
   "source": [
    "<p>Gör embeddings av paragraferna.</p>"
   ]
  },
  {
   "cell_type": "code",
   "execution_count": 5,
   "metadata": {},
   "outputs": [],
   "source": [
    "#paragraph_embeddings = embedding_model.encode(paragraphs,show_progress_bar=True) #Kanske ändra maxlängd?\n",
    "#torch.save(paragraph_embeddings, f=\"multilingual_22-23_ca50k_new.pt\")"
   ]
  },
  {
   "cell_type": "code",
   "execution_count": 6,
   "metadata": {},
   "outputs": [],
   "source": [
    "paragraph_embeddings = torch.load(\"multilingual_20-23_ca250k.pt\")"
   ]
  },
  {
   "attachments": {},
   "cell_type": "markdown",
   "metadata": {},
   "source": [
    "<p>Gör om partier till heltal.</p>"
   ]
  },
  {
   "cell_type": "code",
   "execution_count": 7,
   "metadata": {},
   "outputs": [
    {
     "data": {
      "text/plain": [
       "{0: 71445,\n",
       " 1: 32134,\n",
       " 2: 47414,\n",
       " 3: 23394,\n",
       " 4: 20154,\n",
       " 5: 23063,\n",
       " 6: 21747,\n",
       " 7: 16674}"
      ]
     },
     "execution_count": 7,
     "metadata": {},
     "output_type": "execute_result"
    }
   ],
   "source": [
    "def parties_to_numbers(parties):\n",
    "    return np.array([possible_parties.index(p) if p in possible_parties else 8 for p in parties])\n",
    "\n",
    "parties = parties_to_numbers(parties)\n",
    "\n",
    "unique, counts = np.unique(parties, return_counts=True)\n",
    "dict(zip(unique, counts))"
   ]
  },
  {
   "attachments": {},
   "cell_type": "markdown",
   "metadata": {},
   "source": [
    "<p>Skapa datasetklassen</p>"
   ]
  },
  {
   "cell_type": "code",
   "execution_count": 8,
   "metadata": {},
   "outputs": [],
   "source": [
    "class SpeechesDataset(Dataset):\n",
    "    def __init__(self,paragraphs,parties,index_list,length):\n",
    "        self.paragraphs = torch.Tensor(paragraphs).float()\n",
    "        self.parties = torch.Tensor(parties).long()\n",
    "        self.index_list = index_list\n",
    "        self.length = length\n",
    "\n",
    "    def __len__(self):\n",
    "        assert self.paragraphs.shape[0] == self.parties.shape[0]\n",
    "        return self.length\n",
    "    \n",
    "    # Get speech at a certain index\n",
    "    def __getitem__(self, index):\n",
    "        # The index list decides which paragraphs to use\n",
    "        start, stop = self.index_list[index], self.index_list[index+1]\n",
    "        paragraphs = self.paragraphs[start:stop]\n",
    "        parties = self.parties[start]\n",
    "        return paragraphs, parties"
   ]
  },
  {
   "cell_type": "code",
   "execution_count": 9,
   "metadata": {},
   "outputs": [],
   "source": [
    "def collate_fn(data):\n",
    "    #Old collate function:\n",
    "    #input = torch.nn.utils.rnn.pad_sequence([d[0] for d in data], batch_first=True)\n",
    "    #lengths = torch.tensor([len(d[0]) for d in data])\n",
    "    #output = torch.tensor([d[1] for d in data])\n",
    "    #return (input, lengths), output\n",
    "\n",
    "    #New one, but really ugly.\n",
    "    input = torch.nn.utils.rnn.pad_sequence([torch.flip(d[0],[0]) for d in data], batch_first=True)\n",
    "    input = torch.flip(input,[1])\n",
    "    lengths = torch.tensor([len(d[0]) for d in data])\n",
    "    output = torch.tensor([d[1] for d in data])\n",
    "    return (input, lengths), output"
   ]
  },
  {
   "attachments": {},
   "cell_type": "markdown",
   "metadata": {},
   "source": [
    "<p>Skapa klassificeringsmodellen:</p>"
   ]
  },
  {
   "cell_type": "code",
   "execution_count": 219,
   "metadata": {},
   "outputs": [],
   "source": [
    "class SpeechClassifier(nn.Module):\n",
    "    \"\"\"def __init__(self, input_size, hidden_size, output_size, batch_size):\n",
    "        super(SpeechClassifier, self).__init__()\n",
    "        self.hidden_size = hidden_size\n",
    "        self.output_size = output_size\n",
    "        self.lstm = nn.LSTM(input_size, hidden_size, batch_first=True)\n",
    "        self.dropout = nn.Dropout(0.5)\n",
    "        self.fc = nn.Linear(hidden_size, output_size)\n",
    "        self.batch_size = batch_size\n",
    "\n",
    "    def forward(self,x):\n",
    "        #x = torch.flip(x,[1])\n",
    "        #x = x/torch.linalg.vector_norm(x,ord=2,dim=1)\n",
    "        f, (h,c) = self.lstm(x)\n",
    "        h = self.dropout(h)\n",
    "        output = self.fc(h)\n",
    "        return output.squeeze()\"\"\"\n",
    "    \n",
    "    #Enhance!\n",
    "    def __init__(self, input_size, hidden_size, output_size, batch_size):\n",
    "        super(SpeechClassifier, self).__init__()\n",
    "        self.hidden_size = hidden_size\n",
    "        self.output_size = output_size\n",
    "        self.lstm = nn.LSTM(input_size, hidden_size, batch_first=True, bidirectional=True, num_layers=2, dropout=0.3)\n",
    "        self.fc = nn.Linear(4*hidden_size, output_size)\n",
    "        self.batch_size = batch_size\n",
    "\n",
    "    def forward(self,x):\n",
    "        x = nn.functional.normalize(x)\n",
    "        #x = torch.div(x,torch.linalg.vector_norm(x,ord=2,dim=1))\n",
    "        f, (h,c) = self.lstm(x)\n",
    "        #print(\"h: \",str(h.shape))\n",
    "        #print(\"The rows of the hidden state for the first item: \")\n",
    "        #for i in range(4):\n",
    "        #    print(\"Row\",str(i),str(h[i,0,:]))\n",
    "        batch_size = h.shape[1]\n",
    "        h = torch.permute(h,(1,0,2))\n",
    "        h = torch.reshape(h,(batch_size,self.hidden_size*4))\n",
    "        #print(\"Once h is permuted to shape \",str(h.shape),\", it is the following for the first item\")\n",
    "        #print(str(h[0,:]))\n",
    "        #print(str(h.shape))\n",
    "        output = self.fc(h)\n",
    "        return output.squeeze()\n"
   ]
  },
  {
   "attachments": {},
   "cell_type": "markdown",
   "metadata": {},
   "source": [
    "<p>Choose a certain amount of speeches for training</p>"
   ]
  },
  {
   "cell_type": "code",
   "execution_count": 12,
   "metadata": {},
   "outputs": [],
   "source": [
    "train_size = 15000\n",
    "val_size = 5000\n",
    "test_size = 5000"
   ]
  },
  {
   "cell_type": "code",
   "execution_count": 19,
   "metadata": {},
   "outputs": [
    {
     "name": "stdout",
     "output_type": "stream",
     "text": [
      "(105248, 768) (105248,) (39075, 768) (39075,) (37285, 768) (37285,)\n"
     ]
    }
   ],
   "source": [
    "\n",
    "train_stop = speech_indices[train_size]\n",
    "val_stop = speech_indices[train_size+val_size]\n",
    "test_stop = speech_indices[train_size+val_size+test_size]\n",
    "\n",
    "X_train = paragraph_embeddings[:train_stop]\n",
    "y_train = parties[:train_stop]\n",
    "\n",
    "X_val = paragraph_embeddings[train_stop:val_stop]\n",
    "y_val = parties[train_stop:val_stop]\n",
    "\n",
    "X_test = paragraph_embeddings[val_stop:test_stop]\n",
    "y_test = parties[val_stop:test_stop]\n",
    "\n",
    "train_indices = speech_indices[:train_size+1]\n",
    "val_indices = speech_indices[train_size:train_size+val_size+1]\n",
    "#Important! Make sure first index is 0\n",
    "val_indices = [i-val_indices[0] for i in val_indices]\n",
    "test_indices = speech_indices[train_size+val_size:train_size+val_size+test_size+1]\n",
    "test_indices = [i-test_indices[0] for i in test_indices]\n",
    "\n",
    "print(X_train.shape, y_train.shape, X_val.shape, y_val.shape, X_test.shape, y_test.shape)"
   ]
  },
  {
   "cell_type": "code",
   "execution_count": 20,
   "metadata": {},
   "outputs": [],
   "source": [
    "train_set = SpeechesDataset(X_train, y_train, train_indices, train_size)\n",
    "val_set = SpeechesDataset(X_val, y_val, val_indices, val_size)\n",
    "test_set = SpeechesDataset(X_test, y_test, test_indices, test_size)"
   ]
  },
  {
   "cell_type": "code",
   "execution_count": 21,
   "metadata": {},
   "outputs": [],
   "source": [
    "batch_size = 128\n",
    "train_loader = DataLoader(train_set, batch_size=batch_size, shuffle=True, collate_fn=collate_fn)\n",
    "val_loader = DataLoader(val_set, batch_size=batch_size, shuffle=True, collate_fn=collate_fn)\n",
    "test_loader = DataLoader(test_set, batch_size=1000, collate_fn=collate_fn)"
   ]
  },
  {
   "attachments": {},
   "cell_type": "markdown",
   "metadata": {},
   "source": [
    "<p>Initialize the model, loss function and optimizer:</p>"
   ]
  },
  {
   "cell_type": "code",
   "execution_count": 220,
   "metadata": {},
   "outputs": [],
   "source": [
    "speech_classifier = SpeechClassifier(768, 64, 8, batch_size)\n",
    "loss_fn = nn.CrossEntropyLoss()\n"
   ]
  },
  {
   "cell_type": "code",
   "execution_count": 218,
   "metadata": {},
   "outputs": [],
   "source": [
    "#Test dimensions\n",
    "(X, _), l = next(iter(train_loader))\n",
    "x = X[0:3]\n",
    "y = speech_classifier(x)"
   ]
  },
  {
   "attachments": {},
   "cell_type": "markdown",
   "metadata": {},
   "source": [
    "<p>Now train the classifier:</p>"
   ]
  },
  {
   "cell_type": "code",
   "execution_count": 221,
   "metadata": {},
   "outputs": [
    {
     "name": "stderr",
     "output_type": "stream",
     "text": [
      "100%|██████████| 20/20 [07:19<00:00, 21.96s/it]"
     ]
    },
    {
     "name": "stdout",
     "output_type": "stream",
     "text": [
      "Train loss: 0.055518054563435726\n",
      "Validation loss: 2.372076814295724\n",
      "Learning rate: 4.904102770386496e-09\n"
     ]
    },
    {
     "name": "stderr",
     "output_type": "stream",
     "text": [
      "\n"
     ]
    }
   ],
   "source": [
    "from tqdm import tqdm\n",
    "\n",
    "optimizer = torch.optim.Adam(speech_classifier.parameters(),weight_decay=1e-5)\n",
    "epochs = 20\n",
    "scheduler = torch.optim.lr_scheduler.OneCycleLR(optimizer, max_lr=0.001, steps_per_epoch=len(train_loader), epochs=epochs)\n",
    "\n",
    "speech_classifier.train()\n",
    "\n",
    "train_losses = []\n",
    "learning_rates = []\n",
    "val_losses = []\n",
    "#train_losses = torch.load(\"train_losses_model_2.pt\")\n",
    "#val_losses = torch.load(\"val_losses_model_2.pt\")\n",
    "\n",
    "#batch_size = 32\n",
    "\n",
    "for epoch in tqdm(range(epochs)):\n",
    "    speech_classifier.train()\n",
    "    for i, ((X_train, X_lengths), y_train) in enumerate(train_loader):\n",
    "        y_pred = speech_classifier(X_train)\n",
    "        loss = loss_fn(y_pred, y_train)\n",
    "        optimizer.zero_grad()\n",
    "        loss.backward()\n",
    "        optimizer.step()\n",
    "        scheduler.step()\n",
    "        learning_rates.append(scheduler.get_last_lr()[0])\n",
    "        train_losses.append(loss.item())\n",
    "    # Evaluate\n",
    "    speech_classifier.eval()\n",
    "    for i, ((X_val, X_lengths), y_val) in enumerate(val_loader):\n",
    "        y_pred = speech_classifier(X_val)\n",
    "        loss = loss_fn(y_pred, y_val)\n",
    "        val_losses.append(loss.item())\n",
    "    clear_output()\n",
    "    print(\"Train loss: \"+str(sum(train_losses[-batch_size:])/batch_size))\n",
    "    print(\"Validation loss: \"+str(sum(val_losses[-batch_size:])/batch_size))\n",
    "    print(\"Learning rate: \"+str(learning_rates[-1]))\n",
    "    \n",
    "    "
   ]
  },
  {
   "attachments": {},
   "cell_type": "markdown",
   "metadata": {},
   "source": [
    "<p>Plot the losses:</p>"
   ]
  },
  {
   "cell_type": "code",
   "execution_count": 222,
   "metadata": {},
   "outputs": [
    {
     "data": {
      "image/png": "[encoded data removed]",
      "text/plain": [
       "<Figure size 640x480 with 1 Axes>"
      ]
     },
     "metadata": {},
     "output_type": "display_data"
    }
   ],
   "source": [
    "import matplotlib.pyplot as plt\n",
    "\n",
    "# Save and plot losses\n",
    "torch.save(train_losses,f=\"train_losses_model_2.pt\")\n",
    "torch.save(val_losses,f=\"val_losses_model_2.pt\")\n",
    "\n",
    "t1 = np.arange(len(train_losses))\n",
    "t2 = train_size/val_size*np.arange(len(val_losses))\n",
    "plt.scatter(t1,train_losses,s=0.2)\n",
    "plt.scatter(t2,val_losses,s=0.2)\n",
    "plt.show()"
   ]
  },
  {
   "attachments": {},
   "cell_type": "markdown",
   "metadata": {},
   "source": [
    "<p>Evaluate.</p>"
   ]
  },
  {
   "cell_type": "code",
   "execution_count": 223,
   "metadata": {},
   "outputs": [
    {
     "name": "stdout",
     "output_type": "stream",
     "text": [
      "4\n"
     ]
    }
   ],
   "source": [
    "speech_classifier.eval()\n",
    "y_tests = np.array([])\n",
    "y_preds = np.array([])\n",
    "for i, ((X_test, X_lengths), y_test) in enumerate(test_loader):\n",
    "    y_pred = speech_classifier(X_test).softmax(dim=1).argmax(dim=1)\n",
    "    y_tests = np.concatenate((y_tests,y_test))\n",
    "    y_preds = np.concatenate((y_preds,y_pred))\n",
    "print(i)"
   ]
  },
  {
   "cell_type": "code",
   "execution_count": 224,
   "metadata": {},
   "outputs": [
    {
     "name": "stdout",
     "output_type": "stream",
     "text": [
      "              precision    recall  f1-score   support\n",
      "\n",
      "           S       0.56      0.56      0.56      1610\n",
      "          SD       0.45      0.41      0.43       629\n",
      "           M       0.36      0.41      0.38       871\n",
      "           V       0.39      0.37      0.38       396\n",
      "           C       0.34      0.36      0.35       342\n",
      "          MP       0.33      0.21      0.26       565\n",
      "          KD       0.26      0.31      0.28       353\n",
      "           L       0.27      0.34      0.30       234\n",
      "\n",
      "    accuracy                           0.42      5000\n",
      "   macro avg       0.37      0.37      0.37      5000\n",
      "weighted avg       0.42      0.42      0.42      5000\n",
      "\n"
     ]
    }
   ],
   "source": [
    "from sklearn.metrics import classification_report, confusion_matrix\n",
    "\n",
    "print(classification_report(y_tests,y_preds,target_names=possible_parties))"
   ]
  }
 ],
 "metadata": {
  "kernelspec": {
   "display_name": "Python 3",
   "language": "python",
   "name": "python3"
  },
  "language_info": {
   "codemirror_mode": {
    "name": "ipython",
    "version": 3
   },
   "file_extension": ".py",
   "mimetype": "text/x-python",
   "name": "python",
   "nbconvert_exporter": "python",
   "pygments_lexer": "ipython3",
   "version": "3.9.2"
  },
  "orig_nbformat": 4
 },
 "nbformat": 4,
 "nbformat_minor": 2
}
