{
 "cells": [
  {
   "cell_type": "code",
   "execution_count": 9,
   "metadata": {},
   "outputs": [],
   "source": [
    "# SweBERT imports\n",
    "\n",
    "import torch\n",
    "#import tensorflow as tf\n",
    "from transformers import BertTokenizer, BertModel, TFBertModel, BertForMaskedLM \n",
    "from tokenizers import BertWordPieceTokenizer\n",
    "\n",
    "import warnings; warnings.filterwarnings('ignore')"
   ]
  },
  {
   "cell_type": "code",
   "execution_count": 8,
   "metadata": {},
   "outputs": [],
   "source": [
    "# Sentence transformer imports\n",
    "\n",
    "from sentence_transformers import SentenceTransformer, models"
   ]
  },
  {
   "cell_type": "code",
   "execution_count": 2,
   "metadata": {},
   "outputs": [],
   "source": [
    "import os\n",
    "import numpy as np\n",
    "import pandas as pd\n",
    "import re\n",
    "from bs4 import BeautifulSoup\n",
    "import umap"
   ]
  },
  {
   "cell_type": "code",
   "execution_count": 3,
   "metadata": {},
   "outputs": [],
   "source": [
    "# Testing umap\n",
    "embeddings = [[0, 1, 2]]\n",
    "\n",
    "umap_embeddings = umap.UMAP(n_neighbors=15, n_components=10, metric='cosine').fit_transform(embeddings)"
   ]
  },
  {
   "attachments": {},
   "cell_type": "markdown",
   "metadata": {},
   "source": [
    "<p>Initialize a PyTorch model:</p>"
   ]
  },
  {
   "cell_type": "code",
   "execution_count": 4,
   "metadata": {},
   "outputs": [
    {
     "name": "stderr",
     "output_type": "stream",
     "text": [
      "Some weights of the model checkpoint at af-ai-center/bert-base-swedish-uncased were not used when initializing BertModel: ['cls.seq_relationship.weight', 'cls.predictions.transform.LayerNorm.weight', 'cls.predictions.bias', 'cls.predictions.decoder.weight', 'cls.predictions.transform.dense.weight', 'cls.predictions.transform.dense.bias', 'cls.seq_relationship.bias', 'cls.predictions.transform.LayerNorm.bias']\n",
      "- This IS expected if you are initializing BertModel from the checkpoint of a model trained on another task or with another architecture (e.g. initializing a BertForSequenceClassification model from a BertForPreTraining model).\n",
      "- This IS NOT expected if you are initializing BertModel from the checkpoint of a model that you expect to be exactly identical (initializing a BertForSequenceClassification model from a BertForSequenceClassification model).\n"
     ]
    }
   ],
   "source": [
    "pretrained_model_name = 'af-ai-center/bert-base-swedish-uncased'\n",
    "model_directory = \"bert-base-swedish-uncased\"\n",
    "# PyTorch\n",
    "model = BertModel.from_pretrained(pretrained_model_name)\n",
    "# TensorFlow\n",
    "# model = TFBertModel.from_pretrained(pretrained_model_name)"
   ]
  },
  {
   "attachments": {},
   "cell_type": "markdown",
   "metadata": {},
   "source": [
    "<p> Data set: </p>"
   ]
  },
  {
   "cell_type": "code",
   "execution_count": 5,
   "metadata": {},
   "outputs": [],
   "source": [
    "# The directory where data is located\n",
    "data_dir = \"test_data/22_23/\"\n",
    "data = []\n",
    "for file in os.listdir(data_dir):\n",
    "    if file.endswith(\".txt\"):\n",
    "        with open(data_dir+file,\"r\") as f:\n",
    "            data.append([])\n",
    "            for line in f.readlines():\n",
    "                data[-1].append(line)\n",
    "\n",
    "data = np.array(data)\n",
    "\n",
    "# Print first and last data points\n",
    "#print(data[0])\n",
    "#print(data[-1])\n",
    "\n",
    "# Get only speeches\n",
    "speeches = data[:,1]"
   ]
  },
  {
   "cell_type": "code",
   "execution_count": 6,
   "metadata": {},
   "outputs": [
    {
     "name": "stdout",
     "output_type": "stream",
     "text": [
      "1.3598568961263262\n"
     ]
    }
   ],
   "source": [
    "# Count Herr/Fru talman amounts\n",
    "\n",
    "talman_counts = [s.count(\"Fru talman!\")+s.count(\"Herr talman!\") for s in speeches]\n",
    "print(sum(talman_counts)/len(talman_counts))"
   ]
  },
  {
   "attachments": {},
   "cell_type": "markdown",
   "metadata": {},
   "source": [
    "<p>Divide speeches into paragraphs:</p>"
   ]
  },
  {
   "cell_type": "code",
   "execution_count": 25,
   "metadata": {},
   "outputs": [
    {
     "name": "stdout",
     "output_type": "stream",
     "text": [
      "53393\n"
     ]
    }
   ],
   "source": [
    "paragraphs = []\n",
    "for s in speeches:\n",
    "    soup = BeautifulSoup(s, 'html.parser')\n",
    "    ps = soup.find_all(\"p\")\n",
    "    for p in ps:\n",
    "        paragraphs.append(p.get_text())\n",
    "\n",
    "print(len(paragraphs))\n",
    "\n",
    "training_set = paragraphs[:10000]"
   ]
  },
  {
   "attachments": {},
   "cell_type": "markdown",
   "metadata": {},
   "source": [
    "<p>Use only a few of the speeches:</p>"
   ]
  },
  {
   "cell_type": "code",
   "execution_count": 16,
   "metadata": {},
   "outputs": [],
   "source": [
    "train_set = speeches[:10000]"
   ]
  },
  {
   "attachments": {},
   "cell_type": "markdown",
   "metadata": {},
   "source": [
    "<p>Create word embedding model:</p>"
   ]
  },
  {
   "cell_type": "code",
   "execution_count": 10,
   "metadata": {},
   "outputs": [
    {
     "name": "stderr",
     "output_type": "stream",
     "text": [
      "Some weights of the model checkpoint at af-ai-center/bert-base-swedish-uncased were not used when initializing BertModel: ['cls.seq_relationship.weight', 'cls.predictions.transform.LayerNorm.weight', 'cls.predictions.bias', 'cls.predictions.decoder.weight', 'cls.predictions.transform.dense.weight', 'cls.predictions.transform.dense.bias', 'cls.seq_relationship.bias', 'cls.predictions.transform.LayerNorm.bias']\n",
      "- This IS expected if you are initializing BertModel from the checkpoint of a model trained on another task or with another architecture (e.g. initializing a BertForSequenceClassification model from a BertForPreTraining model).\n",
      "- This IS NOT expected if you are initializing BertModel from the checkpoint of a model that you expect to be exactly identical (initializing a BertForSequenceClassification model from a BertForSequenceClassification model).\n"
     ]
    }
   ],
   "source": [
    "# Code from https://www.sbert.net/docs/training/overview.html\n",
    "\n",
    "word_embedding_model = models.Transformer(pretrained_model_name, max_seq_length=256)\n",
    "pooling_model = models.Pooling(word_embedding_model.get_word_embedding_dimension())\n",
    "\n",
    "model = SentenceTransformer(modules=[word_embedding_model,pooling_model])"
   ]
  },
  {
   "attachments": {},
   "cell_type": "markdown",
   "metadata": {},
   "source": [
    "<p>Embeddings:</p>"
   ]
  },
  {
   "cell_type": "code",
   "execution_count": 26,
   "metadata": {},
   "outputs": [
    {
     "data": {
      "application/vnd.jupyter.widget-view+json": {
       "model_id": "507636ba912240f1ad6730b4f6cdde5f",
       "version_major": 2,
       "version_minor": 0
      },
      "text/plain": [
       "Batches:   0%|          | 0/313 [00:00<?, ?it/s]"
      ]
     },
     "metadata": {},
     "output_type": "display_data"
    }
   ],
   "source": [
    "#embeddings = model.encode(train_set, show_progress_bar=True)\n",
    "embeddings = model.encode(training_set, show_progress_bar=True)"
   ]
  },
  {
   "cell_type": "code",
   "execution_count": 27,
   "metadata": {},
   "outputs": [
    {
     "name": "stdout",
     "output_type": "stream",
     "text": [
      "[[-0.26673666 -0.40150872  0.41051626 ... -0.46582827  0.5733045\n",
      "  -0.93127656]\n",
      " [-0.4144786  -0.54942876  0.35368735 ... -1.0859109   0.66456044\n",
      "  -0.71135646]\n",
      " [-0.07500243 -0.62456566  0.01095499 ... -1.1389714   0.11545158\n",
      "  -0.605042  ]\n",
      " ...\n",
      " [-0.6988429  -0.19090268  0.05887717 ... -0.33835113  0.4372936\n",
      "  -0.673453  ]\n",
      " [ 0.05539807 -0.12349896  0.42926157 ... -0.697649    0.40749153\n",
      "  -0.78213567]\n",
      " [ 0.17975982 -0.6787613  -0.1733449  ... -0.34883884  0.2155639\n",
      "  -0.32541558]]\n",
      "768\n"
     ]
    }
   ],
   "source": [
    "# View embeddings\n",
    "\n",
    "print(embeddings)\n",
    "\n",
    "print(len(embeddings[0]))"
   ]
  },
  {
   "attachments": {},
   "cell_type": "markdown",
   "metadata": {},
   "source": [
    "<h3>Clustering</h3>\n",
    "<p>We use UMAP to lower dimensionality before clustering.</p>"
   ]
  },
  {
   "cell_type": "code",
   "execution_count": 28,
   "metadata": {},
   "outputs": [
    {
     "ename": "",
     "evalue": "",
     "output_type": "error",
     "traceback": [
      "\u001b[1;31mCanceled future for execute_request message before replies were done"
     ]
    },
    {
     "ename": "",
     "evalue": "",
     "output_type": "error",
     "traceback": [
      "\u001b[1;31mThe Kernel crashed while executing code in the the current cell or a previous cell. Please review the code in the cell(s) to identify a possible cause of the failure. Click <a href='https://aka.ms/vscodeJupyterKernelCrash'>here</a> for more info. View Jupyter <a href='command:jupyter.viewOutput'>log</a> for further details."
     ]
    }
   ],
   "source": [
    "import umap\n",
    "\n",
    "# From Grootendorst's article\n",
    "\n",
    "umap_embeddings = umap.UMAP(n_neighbors=15, n_components=15, metric='cosine').fit_transform(embeddings)"
   ]
  },
  {
   "attachments": {},
   "cell_type": "markdown",
   "metadata": {},
   "source": [
    "<p>Clustering using HDBSCAN:</p>"
   ]
  },
  {
   "cell_type": "code",
   "execution_count": 14,
   "metadata": {},
   "outputs": [],
   "source": [
    "import hdbscan\n",
    "\n",
    "# From Grootendorst\n",
    "\n",
    "#cluster = hdbscan.HDBSCAN(min_cluster_size=15, metric='euclidean', cluster_selection_method='eom').fit(umap_embeddings)\n",
    "\n",
    "# Using the embeddings directly:\n",
    "\n",
    "cluster = hdbscan.HDBSCAN(min_cluster_size=60, metric='euclidean', cluster_selection_method='eom').fit(umap_embeddings)\n"
   ]
  },
  {
   "attachments": {},
   "cell_type": "markdown",
   "metadata": {},
   "source": [
    "<p>Vizualize clusters:</p>"
   ]
  },
  {
   "cell_type": "code",
   "execution_count": 15,
   "metadata": {},
   "outputs": [
    {
     "data": {
      "text/plain": [
       "<matplotlib.colorbar.Colorbar at 0x7fbab2fca8b0>"
      ]
     },
     "execution_count": 15,
     "metadata": {},
     "output_type": "execute_result"
    },
    {
     "data": {
      "image/png": "[encoded data removed]",
      "text/plain": [
       "<Figure size 2000x1000 with 2 Axes>"
      ]
     },
     "metadata": {},
     "output_type": "display_data"
    }
   ],
   "source": [
    "# From Grootendorst\n",
    "\n",
    "import matplotlib.pyplot as plt\n",
    "\n",
    "# Prepare data\n",
    "umap_data = umap.UMAP(n_neighbors=15, n_components=2, min_dist=0.0, metric='cosine').fit_transform(embeddings)\n",
    "result = pd.DataFrame(umap_data, columns=['x', 'y'])\n",
    "result['labels'] = cluster.labels_\n",
    "\n",
    "# Visualize clusters\n",
    "fig, ax = plt.subplots(figsize=(20, 10))\n",
    "outliers = result.loc[result.labels == -1, :]\n",
    "clustered = result.loc[result.labels != -1, :]\n",
    "plt.scatter(outliers.x, outliers.y, color='#BDBDBD', s=2)\n",
    "plt.scatter(clustered.x, clustered.y, c=clustered.labels, s=2, cmap='hsv_r')\n",
    "plt.colorbar()"
   ]
  },
  {
   "attachments": {},
   "cell_type": "markdown",
   "metadata": {},
   "source": [
    "<h3>Topic creation</h3>\n",
    "<p>First, try using Grootendorst's code:</p>"
   ]
  },
  {
   "cell_type": "code",
   "execution_count": 36,
   "metadata": {},
   "outputs": [],
   "source": [
    "# From Grootendorst's example:\n",
    "docs_df = pd.DataFrame(training_set, columns=[\"Doc\"])\n",
    "docs_df['Topic'] = cluster.labels_\n",
    "docs_df['Doc_ID'] = range(len(docs_df))\n",
    "docs_per_topic = docs_df.groupby(['Topic'], as_index = False).agg({'Doc': ' '.join})"
   ]
  },
  {
   "cell_type": "code",
   "execution_count": 37,
   "metadata": {},
   "outputs": [],
   "source": [
    "from sklearn.feature_extraction.text import CountVectorizer\n",
    "\n",
    "def c_tf_idf(documents, m, ngram_range=(1, 1)):\n",
    "    count = CountVectorizer(ngram_range=ngram_range, stop_words=None).fit(documents)\n",
    "    t = count.transform(documents).toarray()\n",
    "    w = t.sum(axis=1)\n",
    "    tf = np.divide(t.T, w)\n",
    "    sum_t = t.sum(axis=0)\n",
    "    idf = np.log(np.divide(m, sum_t)).reshape(-1, 1)\n",
    "    tf_idf = np.multiply(tf, idf)\n",
    "\n",
    "    return tf_idf, count\n",
    "  \n",
    "tf_idf, count = c_tf_idf(docs_per_topic.Doc.values, m=len(training_set))"
   ]
  },
  {
   "cell_type": "code",
   "execution_count": 38,
   "metadata": {},
   "outputs": [
    {
     "data": {
      "text/html": [
       "<div>\n",
       "<style scoped>\n",
       "    .dataframe tbody tr th:only-of-type {\n",
       "        vertical-align: middle;\n",
       "    }\n",
       "\n",
       "    .dataframe tbody tr th {\n",
       "        vertical-align: top;\n",
       "    }\n",
       "\n",
       "    .dataframe thead th {\n",
       "        text-align: right;\n",
       "    }\n",
       "</style>\n",
       "<table border=\"1\" class=\"dataframe\">\n",
       "  <thead>\n",
       "    <tr style=\"text-align: right;\">\n",
       "      <th></th>\n",
       "      <th>Topic</th>\n",
       "      <th>Size</th>\n",
       "    </tr>\n",
       "  </thead>\n",
       "  <tbody>\n",
       "    <tr>\n",
       "      <th>7</th>\n",
       "      <td>6</td>\n",
       "      <td>8725</td>\n",
       "    </tr>\n",
       "    <tr>\n",
       "      <th>1</th>\n",
       "      <td>0</td>\n",
       "      <td>304</td>\n",
       "    </tr>\n",
       "    <tr>\n",
       "      <th>0</th>\n",
       "      <td>-1</td>\n",
       "      <td>239</td>\n",
       "    </tr>\n",
       "    <tr>\n",
       "      <th>4</th>\n",
       "      <td>3</td>\n",
       "      <td>230</td>\n",
       "    </tr>\n",
       "    <tr>\n",
       "      <th>2</th>\n",
       "      <td>1</td>\n",
       "      <td>185</td>\n",
       "    </tr>\n",
       "    <tr>\n",
       "      <th>5</th>\n",
       "      <td>4</td>\n",
       "      <td>137</td>\n",
       "    </tr>\n",
       "    <tr>\n",
       "      <th>3</th>\n",
       "      <td>2</td>\n",
       "      <td>98</td>\n",
       "    </tr>\n",
       "    <tr>\n",
       "      <th>6</th>\n",
       "      <td>5</td>\n",
       "      <td>82</td>\n",
       "    </tr>\n",
       "  </tbody>\n",
       "</table>\n",
       "</div>"
      ],
      "text/plain": [
       "   Topic  Size\n",
       "7      6  8725\n",
       "1      0   304\n",
       "0     -1   239\n",
       "4      3   230\n",
       "2      1   185\n",
       "5      4   137\n",
       "3      2    98\n",
       "6      5    82"
      ]
     },
     "execution_count": 38,
     "metadata": {},
     "output_type": "execute_result"
    }
   ],
   "source": [
    "def extract_top_n_words_per_topic(tf_idf, count, docs_per_topic, n=20):\n",
    "    words = count.get_feature_names_out()\n",
    "    labels = list(docs_per_topic.Topic)\n",
    "    tf_idf_transposed = tf_idf.T\n",
    "    indices = tf_idf_transposed.argsort()[:, -n:]\n",
    "    top_n_words = {label: [(words[j], tf_idf_transposed[i][j]) for j in indices[i]][::-1] for i, label in enumerate(labels)}\n",
    "    return top_n_words\n",
    "\n",
    "def extract_topic_sizes(df):\n",
    "    topic_sizes = (df.groupby(['Topic'])\n",
    "                     .Doc\n",
    "                     .count()\n",
    "                     .reset_index()\n",
    "                     .rename({\"Topic\": \"Topic\", \"Doc\": \"Size\"}, axis='columns')\n",
    "                     .sort_values(\"Size\", ascending=False))\n",
    "    return topic_sizes\n",
    "\n",
    "top_n_words = extract_top_n_words_per_topic(tf_idf, count, docs_per_topic, n=50)\n",
    "topic_sizes = extract_topic_sizes(docs_df); topic_sizes.head(10)"
   ]
  },
  {
   "cell_type": "code",
   "execution_count": 44,
   "metadata": {},
   "outputs": [
    {
     "name": "stdout",
     "output_type": "stream",
     "text": [
      "[('styleref', 0.23514764585926817), ('mergeformat', 0.23514764585926817), ('kantrubrik', 0.23514764585926817), ('frågestund', 0.1186711690167784), ('partiledardebatt', 0.07599902750197525), ('fattades', 0.06645509557271745), ('beslut', 0.06371226359131957), ('internationellt', 0.04734328524297025), ('återrapportering', 0.04559743533752785), ('rådets', 0.04343608078889605), ('europeiska', 0.04197502069000336), ('fråga', 0.040863274093309886), ('and', 0.04027344050476562), ('möte', 0.04023263537756947), ('bistånd', 0.04006618076865076), ('oktober', 0.036248233948754975), ('sexuellt', 0.0349135286428213), ('naturvård', 0.03479287588957003), ('medlemskap', 0.0339945580746468), ('övergrepp', 0.033839392755029084)]\n",
      "[('utrikespolitisk', 1.0195446977898266), ('debatt', 0.6858476544719176), ('mergeformat', 0.5522051980824051), ('styleref', 0.5522051980824051), ('kantrubrik', 0.5522051980824051), ('cirkulära', 0.10728259998705215), ('textilier', 0.10591234208170366), ('strategi', 0.08618379139673724), ('håll', 0.08282041973850009), ('eu', 0.04508584507590823), ('bara', 0.044174990770792774), ('för', 0.0021461105242933506), ('hotande', 0.0), ('hotade', 0.0), ('hotbilden', 0.0), ('horisonter', 0.0), ('hormon', 0.0), ('hormonstörande', 0.0), ('horn', 0.0), ('horribelt', 0.0)]\n",
      "[('interpellationer', 0.6397056967240845), ('svar', 0.5324003144327192), ('mergeformat', 0.5058976386399671), ('kantrubrik', 0.5058976386399671), ('styleref', 0.5058976386399671), ('på', 0.06569062285077681), ('interpellation', 0.01933342748517989), ('samordningsnummer', 0.010476362471260645), ('stärkt', 0.009785664090275781), ('system', 0.007991373992542206), ('för', 0.0002457673909695721), ('horan', 0.0), ('horisont', 0.0), ('horribla', 0.0), ('horisonter', 0.0), ('hormon', 0.0), ('hormonstörande', 0.0), ('horn', 0.0), ('horribelt', 0.0), ('övrigt', 0.0)]\n",
      "[('härmed', 0.8014285679176494), ('avslutad', 0.7970257072571738), ('överläggningen', 0.44779350874895224), ('interpellationsdebatten', 0.3774494756563342), ('var', 0.3264374248784683), ('mergeformat', 0.1793607676635945), ('styleref', 0.1793607676635945), ('kantrubrik', 0.1793607676635945), ('areella', 0.15034821299806891), ('näringar', 0.13298949913576874), ('landsbygd', 0.12859682912579232), ('livsmedel', 0.12668376604823434), ('studiestöd', 0.10651139379031058), ('näringsliv', 0.09450418688528342), ('frågestunden', 0.032870724990592175), ('vårdsområdet', 0.019269667853882892), ('allmänpolitiska', 0.018352325980335007), ('återrapporteringen', 0.018352325980335007), ('debatten', 0.018305676009288098), ('informationen', 0.015628405608556873)]\n",
      "[('applåder', 3.7722610630529876), ('övrigt', 0.0), ('hota', 0.0), ('horisont', 0.0), ('horisonter', 0.0), ('hormon', 0.0), ('hormonstörande', 0.0), ('horn', 0.0), ('horribelt', 0.0), ('horribla', 0.0), ('hos', 0.0), ('host', 0.0), ('hot', 0.0), ('hotad', 0.0), ('hoppfullt', 0.0), ('hotade', 0.0), ('hotande', 0.0), ('hotar', 0.0), ('hotas', 0.0), ('hotat', 0.0)]\n",
      "[('styleref', 0.28615430086058347), ('kantrubrik', 0.28615430086058347), ('mergeformat', 0.28615430086058347), ('instämde', 0.17162440472411616), ('riksrevisionens', 0.12396341335613033), ('anförande', 0.12001383778545938), ('allmänpolitisk', 0.11304604741881066), ('rapport', 0.10857776669964074), ('statens', 0.07783473202365365), ('kommunikationer', 0.07622450590162785), ('rambeslutet', 0.07203081625633093), ('sd', 0.06533501137116048), ('skolpengen', 0.05832270373910295), ('effektivitet', 0.05229904891579581), ('2023', 0.05063612939538462), ('detta', 0.045747663208729396), ('konsekvenser', 0.044103574336948906), ('kemikaliepolitik', 0.043877679632783925), ('budget', 0.04307112807383034), ('utveck', 0.03962931417905152)]\n",
      "[('tackar', 0.42405927372540936), ('talman', 0.16594074243586235), ('fru', 0.12830282499101073), ('herr', 0.1205417613924454), ('svaret', 0.1196572427593043), ('frågan', 0.09157354483726625), ('ledamoten', 0.07437541392594604), ('jag', 0.0672302207575746), ('statsrådet', 0.0253068258754198), ('frågorna', 0.025060092603822123), ('anförandet', 0.024272976630323052), ('finansministern', 0.023775301831774953), ('vilhelmsson', 0.022849938262839643), ('johan', 0.022739573135860933), ('ministern', 0.022727834588182276), ('svar', 0.022721155572457692), ('repliken', 0.0208974109936567), ('återigen', 0.020618057880379653), ('helena', 0.02046318372653766), ('statsministern', 0.02045447543454575)]\n",
      "[('man', 0.008088644061845705), ('ett', 0.00807323272590528), ('ska', 0.00804523495842416), ('de', 0.007982294876047602), ('med', 0.0077856284372260255), ('kan', 0.0077389865724745354), ('av', 0.007650104060493399), ('den', 0.007637184099038952), ('om', 0.0074926682061789785), ('men', 0.007488999335234257), ('inte', 0.007459826017677939), ('också', 0.007231190559831092), ('jag', 0.007152081086067168), ('kommer', 0.007112176328377104), ('detta', 0.007109156786656697), ('talman', 0.007081418920830289), ('till', 0.0070780467772853005), ('så', 0.006950722031022424), ('här', 0.006927269288659022), ('när', 0.006858079120518426)]\n"
     ]
    }
   ],
   "source": [
    "for key in top_n_words.keys():\n",
    "    print(top_n_words[key][:20])"
   ]
  }
 ],
 "metadata": {
  "kernelspec": {
   "display_name": "Python 3",
   "language": "python",
   "name": "python3"
  },
  "language_info": {
   "codemirror_mode": {
    "name": "ipython",
    "version": 3
   },
   "file_extension": ".py",
   "mimetype": "text/x-python",
   "name": "python",
   "nbconvert_exporter": "python",
   "pygments_lexer": "ipython3",
   "version": "3.9.2"
  },
  "orig_nbformat": 4
 },
 "nbformat": 4,
 "nbformat_minor": 2
}
