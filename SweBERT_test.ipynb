{
 "cells": [
  {
   "cell_type": "code",
   "execution_count": 1,
   "metadata": {},
   "outputs": [
    {
     "name": "stderr",
     "output_type": "stream",
     "text": [
      "/home/erko/.local/lib/python3.9/site-packages/tqdm/auto.py:21: TqdmWarning: IProgress not found. Please update jupyter and ipywidgets. See https://ipywidgets.readthedocs.io/en/stable/user_install.html\n",
      "  from .autonotebook import tqdm as notebook_tqdm\n"
     ]
    }
   ],
   "source": [
    "# SweBERT imports\n",
    "\n",
    "import torch\n",
    "import tensorflow as tf\n",
    "from transformers import BertTokenizer, BertModel, TFBertModel, BertForMaskedLM \n",
    "from tokenizers import BertWordPieceTokenizer\n",
    "\n",
    "import warnings; warnings.filterwarnings('ignore')"
   ]
  },
  {
   "cell_type": "code",
   "execution_count": 2,
   "metadata": {},
   "outputs": [],
   "source": [
    "# Sentence transformer imports\n",
    "\n",
    "from sentence_transformers import SentenceTransformer, models"
   ]
  },
  {
   "cell_type": "code",
   "execution_count": 14,
   "metadata": {},
   "outputs": [],
   "source": [
    "import os\n",
    "import numpy as np\n",
    "import pandas as pd\n",
    "import re\n",
    "from bs4 import BeautifulSoup"
   ]
  },
  {
   "attachments": {},
   "cell_type": "markdown",
   "metadata": {},
   "source": [
    "<p>Initialize a PyTorch model:</p>"
   ]
  },
  {
   "cell_type": "code",
   "execution_count": 15,
   "metadata": {},
   "outputs": [
    {
     "name": "stderr",
     "output_type": "stream",
     "text": [
      "No sentence-transformers model found with name bert-base-swedish-uncased. Creating a new one with MEAN pooling.\n",
      "Some weights of the model checkpoint at bert-base-swedish-uncased were not used when initializing BertModel: ['cls.predictions.decoder.weight', 'cls.predictions.transform.dense.bias', 'cls.predictions.transform.dense.weight', 'cls.seq_relationship.bias', 'cls.predictions.transform.LayerNorm.weight', 'cls.seq_relationship.weight', 'cls.predictions.bias', 'cls.predictions.transform.LayerNorm.bias']\n",
      "- This IS expected if you are initializing BertModel from the checkpoint of a model trained on another task or with another architecture (e.g. initializing a BertForSequenceClassification model from a BertForPreTraining model).\n",
      "- This IS NOT expected if you are initializing BertModel from the checkpoint of a model that you expect to be exactly identical (initializing a BertForSequenceClassification model from a BertForSequenceClassification model).\n"
     ]
    }
   ],
   "source": [
    "pretrained_model_name = 'af-ai-center/bert-large-swedish-uncased'\n",
    "model_directory = \"bert-base-swedish-uncased\"\n",
    "# PyTorch\n",
    "model = SentenceTransformer(model_directory)\n",
    "# TensorFlow\n",
    "#model = TFBertModel.from_pretrained(model_directory)"
   ]
  },
  {
   "attachments": {},
   "cell_type": "markdown",
   "metadata": {},
   "source": [
    "<p> Data set: </p>"
   ]
  },
  {
   "cell_type": "code",
   "execution_count": 16,
   "metadata": {},
   "outputs": [],
   "source": [
    "# The directory where data is located\n",
    "data_dir = \"test_data/22_23/\"\n",
    "data = []\n",
    "for file in os.listdir(data_dir):\n",
    "    if file.endswith(\".txt\"):\n",
    "        with open(data_dir+file,\"r\") as f:\n",
    "            data.append([])\n",
    "            for line in f.readlines():\n",
    "                data[-1].append(line)\n",
    "\n",
    "data = np.array(data)\n",
    "\n",
    "# Print first and last data points\n",
    "#print(data[0])\n",
    "#print(data[-1])\n",
    "\n",
    "# Get only speeches\n",
    "speeches = data[:,1]"
   ]
  },
  {
   "cell_type": "code",
   "execution_count": 7,
   "metadata": {},
   "outputs": [
    {
     "name": "stdout",
     "output_type": "stream",
     "text": [
      "1.361302276336686\n"
     ]
    }
   ],
   "source": [
    "# Count Herr/Fru talman amounts\n",
    "\n",
    "talman_counts = [s.count(\"Fru talman!\")+s.count(\"Herr talman!\") for s in speeches]\n",
    "print(sum(talman_counts)/len(talman_counts))"
   ]
  },
  {
   "attachments": {},
   "cell_type": "markdown",
   "metadata": {},
   "source": [
    "<p>Divide speeches into paragraphs:</p>"
   ]
  },
  {
   "cell_type": "code",
   "execution_count": 6,
   "metadata": {},
   "outputs": [
    {
     "name": "stdout",
     "output_type": "stream",
     "text": [
      "Vi talar här om huvudstaden, med allt vad det innebär\n",
      "Rent principiellt anser jag inte heller att en kommun ska få stifta regler som de här\n",
      "Självklart ska vi ha kommunalt självstyre, men detta självstyre har aldrig varit absolut\n",
      "Vi har sett det i till exempel immigrationsfrågan, där kommuner fick rätta sig efter nationella intressen - detta sagt oavsett vad jag personligen tycker om den lagen.\n",
      "Vi kan i förlängningen föreställa oss kommuner som förbjuder vägar, tågtrafik eller elledningar\n",
      "Det är inte bara Stockholms stad som är beroende av kommunikationerna i staden, utan det finns en massa människor i till exempel Stockholms län som arbetar inne i staden\n",
      "En stor del av dessa är beroende av bil för att ta sig till arbetet\n",
      "I deras hemkommuner, som till exempel min egen hemkommun Botkyrka, saknas laddstolpar för elbilar\n",
      "Så är det trots att jag själv har motionerat om detta i min hemkommun\n",
      "Ändå förutsätts dessa människor i kranskommunerna skaffa sig svindyra elbilar - elbilar som många inte har råd att skaffa sig.\n",
      "146303\n"
     ]
    }
   ],
   "source": [
    "paragraphs = []\n",
    "for s in speeches:\n",
    "    soup = BeautifulSoup(s, 'html.parser')\n",
    "    ps = soup.find_all(\"p\")\n",
    "    for p in ps:\n",
    "        paragraphs.append(p)\n",
    "\n",
    "print(len(paragraphs))\n",
    "\n",
    "# Use only a few sentences\n",
    "# sentence_training_set = sentences[:50000]"
   ]
  },
  {
   "attachments": {},
   "cell_type": "markdown",
   "metadata": {},
   "source": [
    "<p>Use only a few of the speeches:</p>"
   ]
  },
  {
   "cell_type": "code",
   "execution_count": 9,
   "metadata": {},
   "outputs": [],
   "source": [
    "train_set = speeches[:1000]"
   ]
  },
  {
   "attachments": {},
   "cell_type": "markdown",
   "metadata": {},
   "source": [
    "<p>Create word embedding model:</p>"
   ]
  },
  {
   "cell_type": "code",
   "execution_count": 7,
   "metadata": {},
   "outputs": [
    {
     "name": "stderr",
     "output_type": "stream",
     "text": [
      "Some weights of the model checkpoint at af-ai-center/bert-base-swedish-uncased were not used when initializing BertModel: ['cls.predictions.transform.LayerNorm.weight', 'cls.predictions.decoder.weight', 'cls.predictions.transform.dense.bias', 'cls.seq_relationship.weight', 'cls.predictions.transform.dense.weight', 'cls.predictions.bias', 'cls.seq_relationship.bias', 'cls.predictions.transform.LayerNorm.bias']\n",
      "- This IS expected if you are initializing BertModel from the checkpoint of a model trained on another task or with another architecture (e.g. initializing a BertForSequenceClassification model from a BertForPreTraining model).\n",
      "- This IS NOT expected if you are initializing BertModel from the checkpoint of a model that you expect to be exactly identical (initializing a BertForSequenceClassification model from a BertForSequenceClassification model).\n"
     ]
    }
   ],
   "source": [
    "# Code from https://www.sbert.net/docs/training/overview.html\n",
    "\n",
    "word_embedding_model = models.Transformer(pretrained_model_name, max_seq_length=256)\n",
    "pooling_model = models.Pooling(word_embedding_model.get_word_embedding_dimension())\n",
    "\n",
    "model = SentenceTransformer(modules=[word_embedding_model, pooling_model])"
   ]
  },
  {
   "attachments": {},
   "cell_type": "markdown",
   "metadata": {},
   "source": [
    "<p>Embeddings:</p>"
   ]
  },
  {
   "cell_type": "code",
   "execution_count": 1,
   "metadata": {},
   "outputs": [
    {
     "ename": "NameError",
     "evalue": "name 'model' is not defined",
     "output_type": "error",
     "traceback": [
      "\u001b[0;31m---------------------------------------------------------------------------\u001b[0m",
      "\u001b[0;31mNameError\u001b[0m                                 Traceback (most recent call last)",
      "\u001b[0;32m<ipython-input-1-f5802e88e17c>\u001b[0m in \u001b[0;36m<module>\u001b[0;34m\u001b[0m\n\u001b[1;32m      1\u001b[0m \u001b[0;31m#embeddings = model.encode(train_set, show_progress_bar=True)\u001b[0m\u001b[0;34m\u001b[0m\u001b[0;34m\u001b[0m\u001b[0;34m\u001b[0m\u001b[0m\n\u001b[0;32m----> 2\u001b[0;31m \u001b[0membeddings\u001b[0m \u001b[0;34m=\u001b[0m \u001b[0mmodel\u001b[0m\u001b[0;34m.\u001b[0m\u001b[0mencode\u001b[0m\u001b[0;34m(\u001b[0m\u001b[0msentence_training_set\u001b[0m\u001b[0;34m,\u001b[0m \u001b[0mshow_progress_bar\u001b[0m\u001b[0;34m=\u001b[0m\u001b[0;32mTrue\u001b[0m\u001b[0;34m)\u001b[0m\u001b[0;34m\u001b[0m\u001b[0;34m\u001b[0m\u001b[0m\n\u001b[0m",
      "\u001b[0;31mNameError\u001b[0m: name 'model' is not defined"
     ]
    }
   ],
   "source": [
    "#embeddings = model.encode(train_set, show_progress_bar=True)\n",
    "embeddings = model.encode(sentence_training_set, show_progress_bar=True)"
   ]
  },
  {
   "cell_type": "code",
   "execution_count": 20,
   "metadata": {},
   "outputs": [
    {
     "name": "stdout",
     "output_type": "stream",
     "text": [
      "[[-0.41236892 -0.06983794 -1.1565996  ... -0.6425186   0.42941743\n",
      "  -0.83314085]\n",
      " [-0.5928931  -0.6694788  -0.677221   ... -1.1357127   1.2073548\n",
      "  -0.56740004]\n",
      " [-0.17447756 -0.7885041   0.16059685 ... -0.8057421   0.4189502\n",
      "  -0.88015974]\n",
      " ...\n",
      " [-1.2694623  -0.23539096  0.449709   ... -0.89313495  0.32131326\n",
      "  -0.8652348 ]\n",
      " [-0.18670663 -0.50414455  0.21535936 ... -1.2162182   0.05784209\n",
      "  -0.5328909 ]\n",
      " [-0.47660092 -0.69764924  0.15982357 ... -0.781184    0.5756413\n",
      "  -1.3813131 ]]\n"
     ]
    }
   ],
   "source": [
    "# View embeddings\n",
    "\n",
    "print(embeddings)"
   ]
  },
  {
   "attachments": {},
   "cell_type": "markdown",
   "metadata": {},
   "source": [
    "<h3>Clustering</h3>\n",
    "<p>We use UMAP to lower dimensionality before clustering.</p>"
   ]
  },
  {
   "cell_type": "code",
   "execution_count": 24,
   "metadata": {},
   "outputs": [],
   "source": [
    "import umap\n",
    "\n",
    "# From Grootendorst's article\n",
    "\n",
    "umap_embeddings = umap.UMAP(n_neighbors=15, n_components=15, metric='cosine').fit_transform(embeddings)"
   ]
  },
  {
   "attachments": {},
   "cell_type": "markdown",
   "metadata": {},
   "source": [
    "<p>Clustering using HDBSCAN:</p>"
   ]
  },
  {
   "cell_type": "code",
   "execution_count": 41,
   "metadata": {},
   "outputs": [],
   "source": [
    "import hdbscan\n",
    "\n",
    "# From Grootendorst\n",
    "\n",
    "#cluster = hdbscan.HDBSCAN(min_cluster_size=15, metric='euclidean', cluster_selection_method='eom').fit(umap_embeddings)\n",
    "\n",
    "# Using the embeddings directly:\n",
    "\n",
    "cluster = hdbscan.HDBSCAN(min_cluster_size=60, min_samples=1, metric='euclidean', cluster_selection_method='eom').fit(umap_embeddings)\n"
   ]
  },
  {
   "attachments": {},
   "cell_type": "markdown",
   "metadata": {},
   "source": [
    "<p>Vizualize clusters:</p>"
   ]
  },
  {
   "cell_type": "code",
   "execution_count": 42,
   "metadata": {},
   "outputs": [
    {
     "data": {
      "text/plain": [
       "<matplotlib.colorbar.Colorbar at 0x7fa613cbea60>"
      ]
     },
     "execution_count": 42,
     "metadata": {},
     "output_type": "execute_result"
    },
    {
     "data": {
      "image/png": "[encoded data removed]",
      "text/plain": [
       "<Figure size 1440x720 with 2 Axes>"
      ]
     },
     "metadata": {
      "needs_background": "light"
     },
     "output_type": "display_data"
    }
   ],
   "source": [
    "# From Grootendorst\n",
    "\n",
    "import matplotlib.pyplot as plt\n",
    "\n",
    "# Prepare data\n",
    "umap_data = umap.UMAP(n_neighbors=15, n_components=2, min_dist=0.0, metric='cosine').fit_transform(embeddings)\n",
    "result = pd.DataFrame(umap_data, columns=['x', 'y'])\n",
    "result['labels'] = cluster.labels_\n",
    "\n",
    "# Visualize clusters\n",
    "fig, ax = plt.subplots(figsize=(20, 10))\n",
    "outliers = result.loc[result.labels == -1, :]\n",
    "clustered = result.loc[result.labels != -1, :]\n",
    "plt.scatter(outliers.x, outliers.y, color='#BDBDBD', s=2)\n",
    "plt.scatter(clustered.x, clustered.y, c=clustered.labels, s=2, cmap='hsv_r')\n",
    "plt.colorbar()"
   ]
  },
  {
   "attachments": {},
   "cell_type": "markdown",
   "metadata": {},
   "source": [
    "<h3>Topic creation</h3>\n",
    "<p>First, try using Grootendorst's code:</p>"
   ]
  },
  {
   "cell_type": "code",
   "execution_count": 27,
   "metadata": {},
   "outputs": [],
   "source": [
    "# From Grootendorst's example:\n",
    "docs_df = pd.DataFrame(sentence_training_set, columns=[\"Doc\"])\n",
    "docs_df['Topic'] = cluster.labels_\n",
    "docs_df['Doc_ID'] = range(len(docs_df))\n",
    "docs_per_topic = docs_df.groupby(['Topic'], as_index = False).agg({'Doc': ' '.join})"
   ]
  },
  {
   "cell_type": "code",
   "execution_count": 36,
   "metadata": {},
   "outputs": [],
   "source": [
    "from sklearn.feature_extraction.text import CountVectorizer\n",
    "\n",
    "def c_tf_idf(documents, m, ngram_range=(1, 1)):\n",
    "    count = CountVectorizer(ngram_range=ngram_range, stop_words=None).fit(documents)\n",
    "    t = count.transform(documents).toarray()\n",
    "    w = t.sum(axis=1)\n",
    "    tf = np.divide(t.T, w)\n",
    "    sum_t = t.sum(axis=0)\n",
    "    idf = np.log(np.divide(m, sum_t)).reshape(-1, 1)\n",
    "    tf_idf = np.multiply(tf, idf)\n",
    "\n",
    "    return tf_idf, count\n",
    "  \n",
    "tf_idf, count = c_tf_idf(docs_per_topic.Doc.values, m=len(sentence_training_set))"
   ]
  },
  {
   "cell_type": "code",
   "execution_count": 37,
   "metadata": {},
   "outputs": [
    {
     "data": {
      "text/html": [
       "<div>\n",
       "<style scoped>\n",
       "    .dataframe tbody tr th:only-of-type {\n",
       "        vertical-align: middle;\n",
       "    }\n",
       "\n",
       "    .dataframe tbody tr th {\n",
       "        vertical-align: top;\n",
       "    }\n",
       "\n",
       "    .dataframe thead th {\n",
       "        text-align: right;\n",
       "    }\n",
       "</style>\n",
       "<table border=\"1\" class=\"dataframe\">\n",
       "  <thead>\n",
       "    <tr style=\"text-align: right;\">\n",
       "      <th></th>\n",
       "      <th>Topic</th>\n",
       "      <th>Size</th>\n",
       "    </tr>\n",
       "  </thead>\n",
       "  <tbody>\n",
       "    <tr>\n",
       "      <th>5</th>\n",
       "      <td>4</td>\n",
       "      <td>8703</td>\n",
       "    </tr>\n",
       "    <tr>\n",
       "      <th>1</th>\n",
       "      <td>0</td>\n",
       "      <td>1037</td>\n",
       "    </tr>\n",
       "    <tr>\n",
       "      <th>2</th>\n",
       "      <td>1</td>\n",
       "      <td>88</td>\n",
       "    </tr>\n",
       "    <tr>\n",
       "      <th>4</th>\n",
       "      <td>3</td>\n",
       "      <td>79</td>\n",
       "    </tr>\n",
       "    <tr>\n",
       "      <th>3</th>\n",
       "      <td>2</td>\n",
       "      <td>65</td>\n",
       "    </tr>\n",
       "    <tr>\n",
       "      <th>0</th>\n",
       "      <td>-1</td>\n",
       "      <td>28</td>\n",
       "    </tr>\n",
       "  </tbody>\n",
       "</table>\n",
       "</div>"
      ],
      "text/plain": [
       "   Topic  Size\n",
       "5      4  8703\n",
       "1      0  1037\n",
       "2      1    88\n",
       "4      3    79\n",
       "3      2    65\n",
       "0     -1    28"
      ]
     },
     "execution_count": 37,
     "metadata": {},
     "output_type": "execute_result"
    }
   ],
   "source": [
    "def extract_top_n_words_per_topic(tf_idf, count, docs_per_topic, n=20):\n",
    "    words = count.get_feature_names_out()\n",
    "    labels = list(docs_per_topic.Topic)\n",
    "    tf_idf_transposed = tf_idf.T\n",
    "    indices = tf_idf_transposed.argsort()[:, -n:]\n",
    "    top_n_words = {label: [(words[j], tf_idf_transposed[i][j]) for j in indices[i]][::-1] for i, label in enumerate(labels)}\n",
    "    return top_n_words\n",
    "\n",
    "def extract_topic_sizes(df):\n",
    "    topic_sizes = (df.groupby(['Topic'])\n",
    "                     .Doc\n",
    "                     .count()\n",
    "                     .reset_index()\n",
    "                     .rename({\"Topic\": \"Topic\", \"Doc\": \"Size\"}, axis='columns')\n",
    "                     .sort_values(\"Size\", ascending=False))\n",
    "    return topic_sizes\n",
    "\n",
    "top_n_words = extract_top_n_words_per_topic(tf_idf, count, docs_per_topic, n=50)\n",
    "topic_sizes = extract_topic_sizes(docs_df); topic_sizes.head(10)"
   ]
  },
  {
   "cell_type": "code",
   "execution_count": 38,
   "metadata": {},
   "outputs": [
    {
     "name": "stdout",
     "output_type": "stream",
     "text": [
      "[('ska', 0.01617684626621582), ('kan', 0.013264353289559544), ('talman', 0.01300442915633343), ('men', 0.012697493909361951), ('också', 0.012205056166710417), ('detta', 0.012059863725832409), ('här', 0.011739677571318458), ('kommer', 0.011548156274122855), ('sverige', 0.01136523532376773), ('så', 0.011050507179003749), ('när', 0.010667248162694822), ('regeringen', 0.010247191192111857), ('nu', 0.009942271089867973), ('sig', 0.009510966131430796), ('finns', 0.009504447591160805), ('från', 0.009277066454192722), ('vill', 0.009119744583296141), ('vara', 0.00888479790170303), ('var', 0.008761766927796642), ('herr', 0.008659704381044549)]\n",
      "[('frågestund', 6.907755278982137), ('övärlden', 0.0), ('hemvist', 0.0), ('hetsjakt', 0.0), ('hetsig', 0.0), ('heter', 0.0), ('heta', 0.0), ('het', 0.0), ('hesari', 0.0), ('herrey', 0.0), ('herrar', 0.0), ('herr', 0.0), ('hepp', 0.0), ('hennes', 0.0), ('henne', 0.0), ('hemtjänst', 0.0), ('hette', 0.0), ('hemstad', 0.0), ('hemskt', 0.0), ('hemskickad', 0.0)]\n",
      "[('applåder', 4.690518250442945), ('forts', 0.10466295877245664), ('övärlden', 0.0), ('henne', 0.0), ('hetsjakt', 0.0), ('hetsig', 0.0), ('heter', 0.0), ('heta', 0.0), ('het', 0.0), ('hesari', 0.0), ('herrey', 0.0), ('herrar', 0.0), ('herr', 0.0), ('hepp', 0.0), ('hennes', 0.0), ('hemvist', 0.0), ('hette', 0.0), ('hemtjänst', 0.0), ('hemstad', 0.0), ('hemskt', 0.0)]\n",
      "[('styleref', 0.5621352885713876), ('mergeformat', 0.5621352885713876), ('kantrubrik', 0.5621352885713876), ('partiledardebatt', 0.16807409180679067), ('allmänpolitisk', 0.13084501405035376), ('frågestund', 0.12095291344521251), ('politisk', 0.0759022198934705), ('naturvård', 0.06088751759421239), ('tvist', 0.06088751759421239), ('lösningsförfarande', 0.06088751759421239), ('hyrestvister', 0.059150991903051224), ('eu', 0.058180073125365106), ('allmän', 0.05549337611125561), ('kollektiva', 0.053756850420094454), ('oberoende', 0.04918263512902738), ('liga', 0.04734471643954128), ('debattdemokrati', 0.04734471643954128), ('utrikespolitisk', 0.04734471643954128), ('mänsk', 0.04734471643954128), ('återrapportering', 0.04566563819565929)]\n"
     ]
    }
   ],
   "source": [
    "print(top_n_words[4][20:40])\n",
    "print(top_n_words[0][0:20])\n",
    "print(top_n_words[1][0:20])\n",
    "print(top_n_words[3][0:20])"
   ]
  }
 ],
 "metadata": {
  "kernelspec": {
   "display_name": "Python 3",
   "language": "python",
   "name": "python3"
  },
  "language_info": {
   "codemirror_mode": {
    "name": "ipython",
    "version": 3
   },
   "file_extension": ".py",
   "mimetype": "text/x-python",
   "name": "python",
   "nbconvert_exporter": "python",
   "pygments_lexer": "ipython3",
   "version": "3.9.2"
  },
  "orig_nbformat": 4
 },
 "nbformat": 4,
 "nbformat_minor": 2
}
