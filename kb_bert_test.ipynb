{
 "cells": [
  {
   "cell_type": "code",
   "execution_count": 2,
   "metadata": {},
   "outputs": [],
   "source": [
    "from transformers import AutoModel,AutoTokenizer\n",
    "from transformers import BertTokenizer, BertModel, BertForMaskedLM"
   ]
  },
  {
   "cell_type": "code",
   "execution_count": 7,
   "metadata": {},
   "outputs": [],
   "source": [
    "model = BertForMaskedLM.from_pretrained('KB/bert-base-swedish-cased')"
   ]
  },
  {
   "cell_type": "code",
   "execution_count": 3,
   "metadata": {},
   "outputs": [],
   "source": [
    "from sentence_transformers import SentenceTransformer, models"
   ]
  },
  {
   "cell_type": "code",
   "execution_count": 4,
   "metadata": {},
   "outputs": [
    {
     "name": "stderr",
     "output_type": "stream",
     "text": [
      "No sentence-transformers model found with name /home/erki/.cache/torch/sentence_transformers/KB_bert-base-swedish-cased. Creating a new one with MEAN pooling.\n",
      "Some weights of the model checkpoint at /home/erki/.cache/torch/sentence_transformers/KB_bert-base-swedish-cased were not used when initializing BertModel: ['cls.predictions.transform.dense.weight', 'cls.predictions.transform.LayerNorm.bias', 'cls.predictions.decoder.weight', 'cls.predictions.transform.dense.bias', 'cls.predictions.bias', 'cls.predictions.decoder.bias', 'cls.predictions.transform.LayerNorm.weight']\n",
      "- This IS expected if you are initializing BertModel from the checkpoint of a model trained on another task or with another architecture (e.g. initializing a BertForSequenceClassification model from a BertForPreTraining model).\n",
      "- This IS NOT expected if you are initializing BertModel from the checkpoint of a model that you expect to be exactly identical (initializing a BertForSequenceClassification model from a BertForSequenceClassification model).\n"
     ]
    }
   ],
   "source": [
    "model = SentenceTransformer('KB/bert-base-swedish-cased')"
   ]
  },
  {
   "cell_type": "code",
   "execution_count": 5,
   "metadata": {},
   "outputs": [],
   "source": [
    "sentences = [\"Hon tyckte om när det var soligt ute.\", \"Han gillade vackert väder\", \"Jonas var en tjuv och brukade stjäla folks plånböcker\", \"HÖBBLEL ELA KASj sjssn\"]\n",
    "embeddings = model.encode(sentences)"
   ]
  },
  {
   "cell_type": "code",
   "execution_count": 6,
   "metadata": {},
   "outputs": [],
   "source": [
    "from sentence_transformers import util"
   ]
  },
  {
   "cell_type": "code",
   "execution_count": 7,
   "metadata": {},
   "outputs": [],
   "source": [
    "#Compute cosine similarity between all pairs\n",
    "cos_sim = util.cos_sim(embeddings, embeddings)\n",
    "\n",
    "#Add all pairs to a list with their cosine similarity score\n",
    "all_sentence_combinations = []\n",
    "for i in range(len(cos_sim)-1):\n",
    "    for j in range(i+1, len(cos_sim)):\n",
    "        all_sentence_combinations.append([cos_sim[i][j], i, j])\n",
    "\n",
    "#Sort list by the highest cosine similarity score\n",
    "all_sentence_combinations = sorted(all_sentence_combinations, key=lambda x: x[0], reverse=True)"
   ]
  },
  {
   "cell_type": "code",
   "execution_count": 8,
   "metadata": {},
   "outputs": [
    {
     "name": "stdout",
     "output_type": "stream",
     "text": [
      "Top-20 most similar pairs:\n",
      "First sentence: Hon tyckte om när det var soligt ute. \n",
      " Second sentence: Jonas var en tjuv och brukade stjäla folks plånböcker \n",
      " Similarity: 0.8084\n",
      "First sentence: Hon tyckte om när det var soligt ute. \n",
      " Second sentence: Han gillade vackert väder \n",
      " Similarity: 0.7976\n",
      "First sentence: Han gillade vackert väder \n",
      " Second sentence: Jonas var en tjuv och brukade stjäla folks plånböcker \n",
      " Similarity: 0.7535\n",
      "First sentence: Jonas var en tjuv och brukade stjäla folks plånböcker \n",
      " Second sentence: HÖBBLEL ELA KASj sjssn \n",
      " Similarity: 0.7396\n",
      "First sentence: Han gillade vackert väder \n",
      " Second sentence: HÖBBLEL ELA KASj sjssn \n",
      " Similarity: 0.6985\n",
      "First sentence: Hon tyckte om när det var soligt ute. \n",
      " Second sentence: HÖBBLEL ELA KASj sjssn \n",
      " Similarity: 0.6826\n"
     ]
    }
   ],
   "source": [
    "print(\"Top-20 most similar pairs:\")\n",
    "for score, i, j in all_sentence_combinations:\n",
    "    print(\"First sentence: {} \\n Second sentence: {} \\n Similarity: {:.4f}\".format(sentences[i], sentences[j], cos_sim[i][j]))"
   ]
  }
 ],
 "metadata": {
  "kernelspec": {
   "display_name": "base",
   "language": "python",
   "name": "python3"
  },
  "language_info": {
   "codemirror_mode": {
    "name": "ipython",
    "version": 3
   },
   "file_extension": ".py",
   "mimetype": "text/x-python",
   "name": "python",
   "nbconvert_exporter": "python",
   "pygments_lexer": "ipython3",
   "version": "3.10.9"
  },
  "orig_nbformat": 4
 },
 "nbformat": 4,
 "nbformat_minor": 2
}
